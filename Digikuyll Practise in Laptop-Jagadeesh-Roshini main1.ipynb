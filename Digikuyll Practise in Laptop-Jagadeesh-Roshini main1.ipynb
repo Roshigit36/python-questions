{
 "cells": [
  {
   "cell_type": "code",
   "execution_count": 1,
   "id": "d061f988",
   "metadata": {},
   "outputs": [
    {
     "name": "stdout",
     "output_type": "stream",
     "text": [
      "62\n"
     ]
    }
   ],
   "source": [
    "print((5+2)*3**2-1)#5+2=7,3**2=9,((7)*9-1),7*9=63-1,62"
   ]
  },
  {
   "cell_type": "code",
   "execution_count": 2,
   "id": "0185c79b",
   "metadata": {},
   "outputs": [
    {
     "name": "stdout",
     "output_type": "stream",
     "text": [
      "enter the num:5\n",
      "enter the num:8\n",
      "13\n"
     ]
    }
   ],
   "source": [
    "x=int(input(\"enter the num:\"))\n",
    "y=int(input(\"enter the num:\"))\n",
    "z=x+y\n",
    "print(z)"
   ]
  },
  {
   "cell_type": "code",
   "execution_count": 13,
   "id": "7744834c",
   "metadata": {},
   "outputs": [
    {
     "name": "stdout",
     "output_type": "stream",
     "text": [
      "my name is roshini my surname is rapeti\n"
     ]
    }
   ],
   "source": [
    "print(\"my name is roshini \"\n",
    "\"my surname is rapeti\")\n"
   ]
  },
  {
   "cell_type": "code",
   "execution_count": 12,
   "id": "04149c25",
   "metadata": {},
   "outputs": [
    {
     "name": "stdout",
     "output_type": "stream",
     "text": [
      "my name is roshini\n",
      "my surname is rapeti\n"
     ]
    }
   ],
   "source": [
    "print(\"my name is roshini\\nmy surname is rapeti\")#\\n to new line #multiline'''.......''' "
   ]
  },
  {
   "cell_type": "code",
   "execution_count": 14,
   "id": "7c39c2fe",
   "metadata": {},
   "outputs": [
    {
     "name": "stdout",
     "output_type": "stream",
     "text": [
      "hello\n",
      "my name is roshini\n",
      "I'm from AP\n",
      "I've done my degree from andhra university\n"
     ]
    }
   ],
   "source": [
    "print(\"hello\\nmy name is roshini\\nI'm from AP\\nI've done my degree from andhra university\")"
   ]
  },
  {
   "cell_type": "code",
   "execution_count": 22,
   "id": "159d8b3a",
   "metadata": {},
   "outputs": [
    {
     "name": "stdout",
     "output_type": "stream",
     "text": [
      "my name is roshini rapeti\n"
     ]
    }
   ],
   "source": [
    "name=\"roshini\"#using f funtion\n",
    "surname=\"rapeti\"\n",
    "print(f\"my name is {name} {surname}\")"
   ]
  },
  {
   "cell_type": "code",
   "execution_count": 5,
   "id": "cd0bd742",
   "metadata": {},
   "outputs": [
    {
     "name": "stdout",
     "output_type": "stream",
     "text": [
      "enter your name:ROSHI\n",
      "enter your location:AP\n",
      "enter your education branch:BSC\n",
      "My name is ROSHI . I am from AP . my education is from  BSC .\n"
     ]
    }
   ],
   "source": [
    "name=str(input(\"enter your name:\"))\n",
    "location=str(input(\"enter your location:\"))\n",
    "education=str(input(\"enter your education branch:\"))\n",
    "print(\"My name is\",name,\".\",\"I am from\",location,\".\",\"my education is from \",education,\".\")"
   ]
  },
  {
   "cell_type": "markdown",
   "id": "94d8e5ea",
   "metadata": {},
   "source": [
    "# INDEXING"
   ]
  },
  {
   "cell_type": "code",
   "execution_count": 6,
   "id": "b522ce2e",
   "metadata": {},
   "outputs": [
    {
     "name": "stdout",
     "output_type": "stream",
     "text": [
      "14\n"
     ]
    }
   ],
   "source": [
    "str1='ROSHINI RAPETI'#lenght of str1 starts from 1 and count space also\n",
    "print(len(str1))"
   ]
  },
  {
   "cell_type": "code",
   "execution_count": 7,
   "id": "caba4959",
   "metadata": {},
   "outputs": [
    {
     "data": {
      "text/plain": [
       "'S'"
      ]
     },
     "execution_count": 7,
     "metadata": {},
     "output_type": "execute_result"
    }
   ],
   "source": [
    "str1[2]#indexing starts from 0"
   ]
  },
  {
   "cell_type": "code",
   "execution_count": 8,
   "id": "bbf68e4c",
   "metadata": {},
   "outputs": [
    {
     "data": {
      "text/plain": [
       "'P'"
      ]
     },
     "execution_count": 8,
     "metadata": {},
     "output_type": "execute_result"
    }
   ],
   "source": [
    "str1[10]"
   ]
  },
  {
   "cell_type": "code",
   "execution_count": 10,
   "id": "027dcbaa",
   "metadata": {},
   "outputs": [
    {
     "data": {
      "text/plain": [
       "'I'"
      ]
     },
     "execution_count": 10,
     "metadata": {},
     "output_type": "execute_result"
    }
   ],
   "source": [
    "str1[-1]#from negative it starts from -1"
   ]
  },
  {
   "cell_type": "code",
   "execution_count": 15,
   "id": "fb6e4d5a",
   "metadata": {},
   "outputs": [
    {
     "data": {
      "text/plain": [
       "'A'"
      ]
     },
     "execution_count": 15,
     "metadata": {},
     "output_type": "execute_result"
    }
   ],
   "source": [
    "str1[-5]"
   ]
  },
  {
   "cell_type": "markdown",
   "id": "89767402",
   "metadata": {},
   "source": [
    "# slicing"
   ]
  },
  {
   "cell_type": "code",
   "execution_count": 16,
   "id": "02c26911",
   "metadata": {},
   "outputs": [
    {
     "data": {
      "text/plain": [
       "'Linear Algebra'"
      ]
     },
     "execution_count": 16,
     "metadata": {},
     "output_type": "execute_result"
    }
   ],
   "source": [
    "str1=\"Linear Algebra\"#slicing-if we wants to find group of characters from a given string,then we have to use slicing.\n",
    "str1[::]#if we dont mention anything in starting index then it will start from zero"
   ]
  },
  {
   "cell_type": "code",
   "execution_count": 18,
   "id": "3ccc8171",
   "metadata": {},
   "outputs": [
    {
     "data": {
      "text/plain": [
       "'na '"
      ]
     },
     "execution_count": 18,
     "metadata": {},
     "output_type": "execute_result"
    }
   ],
   "source": [
    "#syntax of slicing\n",
    "#str1[starting index(inclusive):ending index(exclusive):step size(automatically starts from 1)]\n",
    "str1=\"Linear Algebra\"\n",
    "str1[2:7:2]#n is starting index,step size is 2,so 2+2=4,4rth index is a,so now 6+2=8,ending index is 7,8>7,so it stops,output is 'na '"
   ]
  },
  {
   "cell_type": "code",
   "execution_count": 19,
   "id": "8ad40068",
   "metadata": {},
   "outputs": [
    {
     "data": {
      "text/plain": [
       "'Le g'"
      ]
     },
     "execution_count": 19,
     "metadata": {},
     "output_type": "execute_result"
    }
   ],
   "source": [
    "str1[:10:3]#Le g"
   ]
  },
  {
   "cell_type": "code",
   "execution_count": 2,
   "id": "2155cfeb",
   "metadata": {},
   "outputs": [
    {
     "data": {
      "text/plain": [
       "'ebr'"
      ]
     },
     "execution_count": 2,
     "metadata": {},
     "output_type": "execute_result"
    }
   ],
   "source": [
    "str1=\"Linear Algebra\"#for negative-staring posistion should be less than ending position\n",
    "str1[-4:-1]#ebr,because starting position is -4,ending position is -1,ebr"
   ]
  },
  {
   "cell_type": "code",
   "execution_count": 3,
   "id": "b8419844",
   "metadata": {},
   "outputs": [
    {
     "data": {
      "text/plain": [
       "''"
      ]
     },
     "execution_count": 3,
     "metadata": {},
     "output_type": "execute_result"
    }
   ],
   "source": [
    "str1[-1:-4]#starting position should be less than ending position"
   ]
  },
  {
   "cell_type": "code",
   "execution_count": 4,
   "id": "ac766c9e",
   "metadata": {},
   "outputs": [
    {
     "data": {
      "text/plain": [
       "'arbeglA raeniL'"
      ]
     },
     "execution_count": 4,
     "metadata": {},
     "output_type": "execute_result"
    }
   ],
   "source": [
    "str1[::-1]#reverse"
   ]
  },
  {
   "cell_type": "code",
   "execution_count": 6,
   "id": "1b32799d",
   "metadata": {},
   "outputs": [
    {
     "data": {
      "text/plain": [
       "'rae'"
      ]
     },
     "execution_count": 6,
     "metadata": {},
     "output_type": "execute_result"
    }
   ],
   "source": [
    "str1[5:2:-1]"
   ]
  },
  {
   "cell_type": "markdown",
   "id": "17653fe1",
   "metadata": {},
   "source": [
    "# string are immutable-\" \""
   ]
  },
  {
   "cell_type": "code",
   "execution_count": 8,
   "id": "ed98b7c2",
   "metadata": {},
   "outputs": [
    {
     "data": {
      "text/plain": [
       "'d'"
      ]
     },
     "execution_count": 8,
     "metadata": {},
     "output_type": "execute_result"
    }
   ],
   "source": [
    "str1=\"digikull\"\n",
    "str1[0]"
   ]
  },
  {
   "cell_type": "code",
   "execution_count": 9,
   "id": "073760b9",
   "metadata": {},
   "outputs": [
    {
     "name": "stdout",
     "output_type": "stream",
     "text": [
      "hello world\n"
     ]
    }
   ],
   "source": [
    "str1=\"hello\"\n",
    "str2=\"world\"\n",
    "print(str1+\" \"+str2)"
   ]
  },
  {
   "cell_type": "code",
   "execution_count": 11,
   "id": "cf2557b1",
   "metadata": {},
   "outputs": [
    {
     "name": "stdout",
     "output_type": "stream",
     "text": [
      "hello4world\n"
     ]
    }
   ],
   "source": [
    "str1=\"hello\"\n",
    "str2=\"world\"\n",
    "print(str1+str(4)+str2)\n"
   ]
  },
  {
   "cell_type": "code",
   "execution_count": 41,
   "id": "cf7a9121",
   "metadata": {},
   "outputs": [
    {
     "data": {
      "text/plain": [
       "'hello world,hello world,hello world,'"
      ]
     },
     "execution_count": 41,
     "metadata": {},
     "output_type": "execute_result"
    }
   ],
   "source": [
    "str4=(str1+\" \"+str2+\",\")*3\n",
    "str4"
   ]
  },
  {
   "cell_type": "code",
   "execution_count": 20,
   "id": "8a1f5216",
   "metadata": {},
   "outputs": [
    {
     "data": {
      "text/plain": [
       "'hello world,hello world,hello world,'"
      ]
     },
     "execution_count": 20,
     "metadata": {},
     "output_type": "execute_result"
    }
   ],
   "source": [
    "str4.lower()#writes everthing alphabet in small word lower()"
   ]
  },
  {
   "cell_type": "code",
   "execution_count": 21,
   "id": "a0817309",
   "metadata": {},
   "outputs": [
    {
     "data": {
      "text/plain": [
       "'HELLO WORLD,HELLO WORLD,HELLO WORLD,'"
      ]
     },
     "execution_count": 21,
     "metadata": {},
     "output_type": "execute_result"
    }
   ],
   "source": [
    "str4.upper()#writes everthing alphabet in capital word upper()"
   ]
  },
  {
   "cell_type": "code",
   "execution_count": 49,
   "id": "cda53a37",
   "metadata": {},
   "outputs": [
    {
     "data": {
      "text/plain": [
       "3"
      ]
     },
     "execution_count": 49,
     "metadata": {},
     "output_type": "execute_result"
    }
   ],
   "source": [
    "str4.count(\"hello\")#it counts the alphabet or word and give the number "
   ]
  },
  {
   "cell_type": "code",
   "execution_count": 50,
   "id": "fc74aaa0",
   "metadata": {},
   "outputs": [
    {
     "data": {
      "text/plain": [
       "'hello world,hello world,hello world,'"
      ]
     },
     "execution_count": 50,
     "metadata": {},
     "output_type": "execute_result"
    }
   ],
   "source": [
    "str4"
   ]
  },
  {
   "cell_type": "code",
   "execution_count": 51,
   "id": "a94978e6",
   "metadata": {},
   "outputs": [
    {
     "data": {
      "text/plain": [
       "'hello.world,hello.world,hello.world,'"
      ]
     },
     "execution_count": 51,
     "metadata": {},
     "output_type": "execute_result"
    }
   ],
   "source": [
    "str4.replace(\" \",\".\")#it replaces the space with dot"
   ]
  },
  {
   "cell_type": "code",
   "execution_count": 53,
   "id": "996190cd",
   "metadata": {},
   "outputs": [
    {
     "data": {
      "text/plain": [
       "True"
      ]
     },
     "execution_count": 53,
     "metadata": {},
     "output_type": "execute_result"
    }
   ],
   "source": [
    "\"hello\" in str4#in-hello is present in str4 or not and it gives bollean expression true or false"
   ]
  },
  {
   "cell_type": "code",
   "execution_count": 65,
   "id": "be57a8be",
   "metadata": {},
   "outputs": [
    {
     "data": {
      "text/plain": [
       "True"
      ]
     },
     "execution_count": 65,
     "metadata": {},
     "output_type": "execute_result"
    }
   ],
   "source": [
    "str1=\"It is something that you feel from within. In addition, true happiness comes from within yourself.\"\n",
    "str1.lower()\n",
    "str1.upper()\n",
    "str1.count(\"in\")\n",
    "str1.replace(\",\",\"-\")\n",
    "\"in\" in str1"
   ]
  },
  {
   "cell_type": "markdown",
   "id": "3c1dad16",
   "metadata": {},
   "source": [
    "# list are mutable-starts with [ ]"
   ]
  },
  {
   "cell_type": "code",
   "execution_count": 70,
   "id": "3e73235e",
   "metadata": {},
   "outputs": [
    {
     "data": {
      "text/plain": [
       "list"
      ]
     },
     "execution_count": 70,
     "metadata": {},
     "output_type": "execute_result"
    }
   ],
   "source": [
    "#List-ordered sequence of elements.within[],mutable\n",
    "my_list=[1,\"hai\",False,4]#in list we can store different data types\n",
    "type(my_list)"
   ]
  },
  {
   "cell_type": "code",
   "execution_count": 71,
   "id": "7eb2b9c4",
   "metadata": {},
   "outputs": [
    {
     "data": {
      "text/plain": [
       "4"
      ]
     },
     "execution_count": 71,
     "metadata": {},
     "output_type": "execute_result"
    }
   ],
   "source": [
    "len(my_list)"
   ]
  },
  {
   "cell_type": "code",
   "execution_count": 73,
   "id": "e3a777f1",
   "metadata": {},
   "outputs": [
    {
     "data": {
      "text/plain": [
       "'powerbi'"
      ]
     },
     "execution_count": 73,
     "metadata": {},
     "output_type": "execute_result"
    }
   ],
   "source": [
    "data_science=[\"python\",\"sql\",\"excel\",\"powerbi\",\"Dba\"]#list indexing\n",
    "data_science[-2]"
   ]
  },
  {
   "cell_type": "code",
   "execution_count": 75,
   "id": "fdae38b4",
   "metadata": {},
   "outputs": [
    {
     "data": {
      "text/plain": [
       "['python', 'excel', 'Dba']"
      ]
     },
     "execution_count": 75,
     "metadata": {},
     "output_type": "execute_result"
    }
   ],
   "source": [
    "data_science=[\"python\",\"sql\",\"excel\",\"powerbi\",\"Dba\"]#list slicing\n",
    "data_science[:5:2]"
   ]
  },
  {
   "cell_type": "code",
   "execution_count": 76,
   "id": "a0b5b922",
   "metadata": {},
   "outputs": [
    {
     "data": {
      "text/plain": [
       "['excel', 'powerbi', 'Dba']"
      ]
     },
     "execution_count": 76,
     "metadata": {},
     "output_type": "execute_result"
    }
   ],
   "source": [
    "data_science[2:]"
   ]
  },
  {
   "cell_type": "code",
   "execution_count": 77,
   "id": "cf1bf1e9",
   "metadata": {},
   "outputs": [
    {
     "data": {
      "text/plain": [
       "['Dba', 'powerbi', 'excel', 'sql', 'python']"
      ]
     },
     "execution_count": 77,
     "metadata": {},
     "output_type": "execute_result"
    }
   ],
   "source": [
    "data_science[::-1]"
   ]
  },
  {
   "cell_type": "code",
   "execution_count": 79,
   "id": "c89dd40f",
   "metadata": {},
   "outputs": [
    {
     "data": {
      "text/plain": [
       "7"
      ]
     },
     "execution_count": 79,
     "metadata": {},
     "output_type": "execute_result"
    }
   ],
   "source": [
    "L1=[1,2,3,4,[5,6,7,10]]#List inside list is called nested list\n",
    "L1[4][2]"
   ]
  },
  {
   "cell_type": "code",
   "execution_count": 28,
   "id": "7025a08c",
   "metadata": {},
   "outputs": [
    {
     "data": {
      "text/plain": [
       "[1, 2, 5, 6, 7, 10, 2, 15, 13]"
      ]
     },
     "execution_count": 28,
     "metadata": {},
     "output_type": "execute_result"
    }
   ],
   "source": [
    "l1=[1,2,5,6,7]#to concatenate two lists\n",
    "l2=l1+[10,2,15,13]\n",
    "l2"
   ]
  },
  {
   "cell_type": "code",
   "execution_count": 85,
   "id": "956ea335",
   "metadata": {},
   "outputs": [
    {
     "data": {
      "text/plain": [
       "[1, 2, 5, 6, 7, 1, 2, 5, 6, 7]"
      ]
     },
     "execution_count": 85,
     "metadata": {},
     "output_type": "execute_result"
    }
   ],
   "source": [
    "l1*2"
   ]
  },
  {
   "cell_type": "code",
   "execution_count": 86,
   "id": "4ec22369",
   "metadata": {},
   "outputs": [
    {
     "data": {
      "text/plain": [
       "9"
      ]
     },
     "execution_count": 86,
     "metadata": {},
     "output_type": "execute_result"
    }
   ],
   "source": [
    "len(l2)#print the length of values in the list"
   ]
  },
  {
   "cell_type": "code",
   "execution_count": 89,
   "id": "51a7bb40",
   "metadata": {},
   "outputs": [
    {
     "data": {
      "text/plain": [
       "1"
      ]
     },
     "execution_count": 89,
     "metadata": {},
     "output_type": "execute_result"
    }
   ],
   "source": [
    "min(l2)#print the minimum value in the list"
   ]
  },
  {
   "cell_type": "code",
   "execution_count": 88,
   "id": "4f0e1415",
   "metadata": {},
   "outputs": [
    {
     "data": {
      "text/plain": [
       "15"
      ]
     },
     "execution_count": 88,
     "metadata": {},
     "output_type": "execute_result"
    }
   ],
   "source": [
    "max(l2)#print the maximum value in the list"
   ]
  },
  {
   "cell_type": "code",
   "execution_count": 90,
   "id": "040f727a",
   "metadata": {},
   "outputs": [
    {
     "data": {
      "text/plain": [
       "[1, 2, 2, 5, 6, 7, 10, 13, 15]"
      ]
     },
     "execution_count": 90,
     "metadata": {},
     "output_type": "execute_result"
    }
   ],
   "source": [
    "sorted(l2)#to sort the numbers in a list small to big"
   ]
  },
  {
   "cell_type": "code",
   "execution_count": 91,
   "id": "f2dd7e26",
   "metadata": {},
   "outputs": [
    {
     "data": {
      "text/plain": [
       "[1, 2, 2, 5, 6, 7, 10, 13, 15]"
      ]
     },
     "execution_count": 91,
     "metadata": {},
     "output_type": "execute_result"
    }
   ],
   "source": [
    "sorted(l2,reverse=False)#another way to sort small to big"
   ]
  },
  {
   "cell_type": "code",
   "execution_count": 92,
   "id": "76f54fa7",
   "metadata": {},
   "outputs": [
    {
     "data": {
      "text/plain": [
       "[15, 13, 10, 7, 6, 5, 2, 2, 1]"
      ]
     },
     "execution_count": 92,
     "metadata": {},
     "output_type": "execute_result"
    }
   ],
   "source": [
    "sorted(l2,reverse=True)#another way to sort big to small"
   ]
  },
  {
   "cell_type": "code",
   "execution_count": 37,
   "id": "f07a1449",
   "metadata": {},
   "outputs": [
    {
     "data": {
      "text/plain": [
       "[8, 6, 75, 85, 4]"
      ]
     },
     "execution_count": 37,
     "metadata": {},
     "output_type": "execute_result"
    }
   ],
   "source": [
    "l2=[8,6,75,85,4]\n",
    "l2"
   ]
  },
  {
   "cell_type": "code",
   "execution_count": 38,
   "id": "9edb56c9",
   "metadata": {},
   "outputs": [
    {
     "data": {
      "text/plain": [
       "[8, 6, 75, 85, 4, 65]"
      ]
     },
     "execution_count": 38,
     "metadata": {},
     "output_type": "execute_result"
    }
   ],
   "source": [
    "l2.append(65)#append()-its add only one argument to the list.\n",
    "l2"
   ]
  },
  {
   "cell_type": "code",
   "execution_count": 39,
   "id": "5c45f4cd",
   "metadata": {},
   "outputs": [
    {
     "data": {
      "text/plain": [
       "243"
      ]
     },
     "execution_count": 39,
     "metadata": {},
     "output_type": "execute_result"
    }
   ],
   "source": [
    "sum(l2)#sum of all the elements of l2 1+2+5+6....."
   ]
  },
  {
   "cell_type": "code",
   "execution_count": 40,
   "id": "cbeafc2c",
   "metadata": {},
   "outputs": [
    {
     "data": {
      "text/plain": [
       "[8, 6, 75, 85, 4, 65, 35, 'jaggu', 'tony']"
      ]
     },
     "execution_count": 40,
     "metadata": {},
     "output_type": "execute_result"
    }
   ],
   "source": [
    "l2.extend([35,\"jaggu\",\"tony\"])#extend([,,])-we can add multiple values in the list\n",
    "l2"
   ]
  },
  {
   "cell_type": "code",
   "execution_count": 41,
   "id": "e4dec500",
   "metadata": {},
   "outputs": [
    {
     "data": {
      "text/plain": [
       "[8, 6, 75, 85, 4, 65, 35, 'jaggu', 'tony', ['rodshi', 45]]"
      ]
     },
     "execution_count": 41,
     "metadata": {},
     "output_type": "execute_result"
    }
   ],
   "source": [
    "l2.append([\"rodshi\",45])#if you want to create a new list inside list use append([,,,]).\n",
    "l2"
   ]
  },
  {
   "cell_type": "code",
   "execution_count": 46,
   "id": "7d8b4335",
   "metadata": {},
   "outputs": [
    {
     "data": {
      "text/plain": [
       "'jaggu'"
      ]
     },
     "execution_count": 46,
     "metadata": {},
     "output_type": "execute_result"
    }
   ],
   "source": [
    "l2.pop(-2)#it remove last argument"
   ]
  },
  {
   "cell_type": "code",
   "execution_count": 55,
   "id": "85b950cc",
   "metadata": {},
   "outputs": [
    {
     "data": {
      "text/plain": [
       "[65, 74, 102, 756, 64, 12, 986]"
      ]
     },
     "execution_count": 55,
     "metadata": {},
     "output_type": "execute_result"
    }
   ],
   "source": [
    "l_3=[65,74,56,102,756,64,12,986]#it removes the element from the list,syntax:l_3.remove(element you want to remove)\n",
    "l_3.remove(56)\n",
    "l_3"
   ]
  },
  {
   "cell_type": "code",
   "execution_count": 66,
   "id": "e7d1ec9a",
   "metadata": {},
   "outputs": [
    {
     "data": {
      "text/plain": [
       "[986, 12, 64, 756, 102, 74, 65]"
      ]
     },
     "execution_count": 66,
     "metadata": {},
     "output_type": "execute_result"
    }
   ],
   "source": [
    "l_3.reverse()#reverse()-it reverse the list,syntax:l_3.reverse()\n",
    "l_3"
   ]
  },
  {
   "cell_type": "code",
   "execution_count": 75,
   "id": "1f498d4e",
   "metadata": {},
   "outputs": [
    {
     "data": {
      "text/plain": [
       "3"
      ]
     },
     "execution_count": 75,
     "metadata": {},
     "output_type": "execute_result"
    }
   ],
   "source": [
    "l_52=[58,75,52,95]#index()-it says the index of the element,you have to assign,syntax:var=list.index(number)\n",
    "l_2=l_52.index(95)\n",
    "l_2"
   ]
  },
  {
   "cell_type": "code",
   "execution_count": 1,
   "id": "c3a1afc0",
   "metadata": {},
   "outputs": [
    {
     "data": {
      "text/plain": [
       "[5, 6, 7, 8, 9]"
      ]
     },
     "execution_count": 1,
     "metadata": {},
     "output_type": "execute_result"
    }
   ],
   "source": [
    "nested_list=[1,2,3,4,[5,6,7,8,9],10]#nested list is the list inside list\n",
    "nested_list[4]"
   ]
  },
  {
   "cell_type": "code",
   "execution_count": 3,
   "id": "b7623f45",
   "metadata": {},
   "outputs": [
    {
     "data": {
      "text/plain": [
       "8"
      ]
     },
     "execution_count": 3,
     "metadata": {},
     "output_type": "execute_result"
    }
   ],
   "source": [
    "nested_list[4][3]#if you want to access the element,syntax[index][nested_index]"
   ]
  },
  {
   "cell_type": "code",
   "execution_count": 8,
   "id": "05384923",
   "metadata": {},
   "outputs": [
    {
     "data": {
      "text/plain": [
       "65"
      ]
     },
     "execution_count": 8,
     "metadata": {},
     "output_type": "execute_result"
    }
   ],
   "source": [
    "nested_list=[1,2,3,[4,5,6,2,[45,52,[65,35]]],8,9]#if we want to access 65\n",
    "nested_list[3][4][2][0]"
   ]
  },
  {
   "cell_type": "code",
   "execution_count": 10,
   "id": "ba162239",
   "metadata": {},
   "outputs": [
    {
     "data": {
      "text/plain": [
       "8"
      ]
     },
     "execution_count": 10,
     "metadata": {},
     "output_type": "execute_result"
    }
   ],
   "source": [
    "nested_list[4]#if we want to access 4 then all nested list will call into one list it called as 3,then 8 is 4"
   ]
  },
  {
   "cell_type": "code",
   "execution_count": 12,
   "id": "520f8f4e",
   "metadata": {},
   "outputs": [
    {
     "data": {
      "text/plain": [
       "5"
      ]
     },
     "execution_count": 12,
     "metadata": {},
     "output_type": "execute_result"
    }
   ],
   "source": [
    "nested_list=[[1,2,3],['a','b','c',[4,5,6]]]#if want to access 5\n",
    "nested_list[1][3][1]"
   ]
  },
  {
   "cell_type": "code",
   "execution_count": 20,
   "id": "af9d9355",
   "metadata": {},
   "outputs": [
    {
     "data": {
      "text/plain": [
       "'c'"
      ]
     },
     "execution_count": 20,
     "metadata": {},
     "output_type": "execute_result"
    }
   ],
   "source": [
    "nested_list=[[1,2,3],[[\"d\",\"e\"],'a','b','c',[4,5,6]]]#if want to access c\n",
    "nested_list[1][3]"
   ]
  },
  {
   "cell_type": "markdown",
   "id": "077b846b",
   "metadata": {},
   "source": [
    "# Tuples are immutable-starts with ()"
   ]
  },
  {
   "cell_type": "code",
   "execution_count": null,
   "id": "7f9dfe1a",
   "metadata": {},
   "outputs": [],
   "source": [
    "#similar to lists,major diff is lists are mutable(which can change) and tuples are immutable(which cannot change),we cannot update tuple"
   ]
  },
  {
   "cell_type": "code",
   "execution_count": 30,
   "id": "fa70d039",
   "metadata": {},
   "outputs": [
    {
     "data": {
      "text/plain": [
       "tuple"
      ]
     },
     "execution_count": 30,
     "metadata": {},
     "output_type": "execute_result"
    }
   ],
   "source": [
    "my_tuple=(1,\"a\",True)#we cannot update tuple\n",
    "type(my_tuple)"
   ]
  },
  {
   "cell_type": "code",
   "execution_count": 34,
   "id": "566c381c",
   "metadata": {},
   "outputs": [
    {
     "name": "stdout",
     "output_type": "stream",
     "text": [
      "[2, 'a', True]\n"
     ]
    }
   ],
   "source": [
    "my_tuple=[1,\"a\",True]#replace with index 0(1) into 2\n",
    "my_tuple[0]=2\n",
    "print(my_tuple)"
   ]
  },
  {
   "cell_type": "code",
   "execution_count": 35,
   "id": "e42c2b8b",
   "metadata": {},
   "outputs": [
    {
     "data": {
      "text/plain": [
       "[2, True]"
      ]
     },
     "execution_count": 35,
     "metadata": {},
     "output_type": "execute_result"
    }
   ],
   "source": [
    "my_tuple[::2]"
   ]
  },
  {
   "cell_type": "code",
   "execution_count": 45,
   "id": "0576c838",
   "metadata": {
    "scrolled": true
   },
   "outputs": [
    {
     "data": {
      "text/plain": [
       "[('haryana', 'chandighar'),\n",
       " ('ap', 'deharadun'),\n",
       " ('tn', 'chennai'),\n",
       " ('mh', 'mumbai'),\n",
       " ('uk', 'lucknow')]"
      ]
     },
     "execution_count": 45,
     "metadata": {},
     "output_type": "execute_result"
    }
   ],
   "source": [
    "state=(\"haryana\",\"ap\",\"tn\",\"mh\",\"uk\")#zip function-to combine two lists\n",
    "capital=(\"chandighar\",\"deharadun\",\"chennai\",\"mumbai\",\"lucknow\")#syntax:variable=list or dict or tuple(zip(variable1,variable2,..))\n",
    "state_capital=(list(zip(state,capital)))\n",
    "state_capital"
   ]
  },
  {
   "cell_type": "code",
   "execution_count": 8,
   "id": "114887cc",
   "metadata": {},
   "outputs": [],
   "source": [
    "my_tuple=(1,2,5,4,96,30,100,5)"
   ]
  },
  {
   "cell_type": "code",
   "execution_count": 9,
   "id": "eeb097a3",
   "metadata": {},
   "outputs": [
    {
     "data": {
      "text/plain": [
       "2"
      ]
     },
     "execution_count": 9,
     "metadata": {},
     "output_type": "execute_result"
    }
   ],
   "source": [
    "my_tuple.index(5)#it say the index of the element you gave,syntax:variable.index(number of index you want to know)"
   ]
  },
  {
   "cell_type": "code",
   "execution_count": 11,
   "id": "752070f2",
   "metadata": {},
   "outputs": [
    {
     "data": {
      "text/plain": [
       "2"
      ]
     },
     "execution_count": 11,
     "metadata": {},
     "output_type": "execute_result"
    }
   ],
   "source": [
    "my_tuple.count(5)#it say the count of the element you gave,syntax:variable.count(number of count you want to know)"
   ]
  },
  {
   "cell_type": "code",
   "execution_count": 12,
   "id": "c2be676a",
   "metadata": {},
   "outputs": [
    {
     "data": {
      "text/plain": [
       "4"
      ]
     },
     "execution_count": 12,
     "metadata": {},
     "output_type": "execute_result"
    }
   ],
   "source": [
    "str1=\"roshini\"#it find the index of first occurance,syntax:variable.find(the element you want to know the index)\n",
    "str1.find(\"i\")"
   ]
  },
  {
   "cell_type": "markdown",
   "id": "f5755352",
   "metadata": {},
   "source": [
    "# Sets is mutable"
   ]
  },
  {
   "cell_type": "code",
   "execution_count": 13,
   "id": "548621e2",
   "metadata": {},
   "outputs": [
    {
     "data": {
      "text/plain": [
       "set"
      ]
     },
     "execution_count": 13,
     "metadata": {},
     "output_type": "execute_result"
    }
   ],
   "source": [
    "#unordered collections of items within{},we cannot use indexing in set, we cannot use duplicate vale,cannot use nested set\n",
    "set1={1,2,2,3}\n",
    "type(set1)"
   ]
  },
  {
   "cell_type": "code",
   "execution_count": 14,
   "id": "44dfd9cb",
   "metadata": {},
   "outputs": [
    {
     "data": {
      "text/plain": [
       "{1, 2, 3, 45, 65, 75}"
      ]
     },
     "execution_count": 14,
     "metadata": {},
     "output_type": "execute_result"
    }
   ],
   "source": [
    "set_1={1,2,3,45,2,75,45,65}#we cannot get duplicate values,we can store immutable(cannot change)items in set\n",
    "set_1"
   ]
  },
  {
   "cell_type": "code",
   "execution_count": 19,
   "id": "331a3913",
   "metadata": {},
   "outputs": [
    {
     "data": {
      "text/plain": [
       "{1, 2, 3, 5, 6, 23, 25, 36}"
      ]
     },
     "execution_count": 19,
     "metadata": {},
     "output_type": "execute_result"
    }
   ],
   "source": [
    "set_2={1,2,3,5,6}#update the values you want to give,syntax:variable.update([....])\n",
    "set_2.update([1,25,36,23])\n",
    "set_2"
   ]
  },
  {
   "cell_type": "code",
   "execution_count": 22,
   "id": "809223ae",
   "metadata": {},
   "outputs": [
    {
     "data": {
      "text/plain": [
       "{1, 2, 3, 5, 6, 23, 36}"
      ]
     },
     "execution_count": 22,
     "metadata": {},
     "output_type": "execute_result"
    }
   ],
   "source": [
    "set_2.remove(25)#remove-it remove the value you give,but only one argument,syntax:variable.remove(num you want to remove)\n",
    "set_2"
   ]
  },
  {
   "cell_type": "code",
   "execution_count": 24,
   "id": "7d43902a",
   "metadata": {},
   "outputs": [],
   "source": [
    "set_1={\"roshi\",\"1\",\"2\",\"55\"}#set functions\n",
    "set_2={\"25\",\"2\",\"52\",\"jaggu\",\"roshi\"}"
   ]
  },
  {
   "cell_type": "code",
   "execution_count": 27,
   "id": "0ff36587",
   "metadata": {},
   "outputs": [
    {
     "data": {
      "text/plain": [
       "{'1', '2', '25', '52', '55', 'jaggu', 'roshi'}"
      ]
     },
     "execution_count": 27,
     "metadata": {},
     "output_type": "execute_result"
    }
   ],
   "source": [
    "set_1|set_2#union-no duplicates,combination of both the sets(set_1|set_2) or in this way (set_1.union(set_2))"
   ]
  },
  {
   "cell_type": "code",
   "execution_count": 28,
   "id": "0fba4b39",
   "metadata": {},
   "outputs": [
    {
     "data": {
      "text/plain": [
       "{'2', 'roshi'}"
      ]
     },
     "execution_count": 28,
     "metadata": {},
     "output_type": "execute_result"
    }
   ],
   "source": [
    "set_1&set_2#intersection-common elements,(set_1&set_2)or in this way (set_1.intersection(set_2))"
   ]
  },
  {
   "cell_type": "code",
   "execution_count": 30,
   "id": "faaee88a",
   "metadata": {},
   "outputs": [
    {
     "data": {
      "text/plain": [
       "{'1', '55'}"
      ]
     },
     "execution_count": 30,
     "metadata": {},
     "output_type": "execute_result"
    }
   ],
   "source": [
    "set_1-set_2#difference-uncommon elements in set_1,(set_1-set_2)or in this way(set_1.difference(set_2))"
   ]
  },
  {
   "cell_type": "code",
   "execution_count": 31,
   "id": "4c1faf36",
   "metadata": {},
   "outputs": [
    {
     "data": {
      "text/plain": [
       "{'1', '25', '52', '55', 'jaggu'}"
      ]
     },
     "execution_count": 31,
     "metadata": {},
     "output_type": "execute_result"
    }
   ],
   "source": [
    "set_1^set_2#symmetric difference-uncommon elements from both the sets,(set_1^set_2) or set_1.union(set_2)-set_1.intersection(set_2)"
   ]
  },
  {
   "cell_type": "code",
   "execution_count": 33,
   "id": "cc6f84e3",
   "metadata": {},
   "outputs": [
    {
     "data": {
      "text/plain": [
       "{'1', '25', '52', '55', 'jaggu'}"
      ]
     },
     "execution_count": 33,
     "metadata": {},
     "output_type": "execute_result"
    }
   ],
   "source": [
    "set_1.union(set_2)-set_1.intersection(set_2)"
   ]
  },
  {
   "cell_type": "markdown",
   "id": "c1b8b95f",
   "metadata": {},
   "source": [
    "# Dictionaries-{KEY:VALUE}"
   ]
  },
  {
   "cell_type": "code",
   "execution_count": 4,
   "id": "c31c2e33",
   "metadata": {},
   "outputs": [
    {
     "name": "stdout",
     "output_type": "stream",
     "text": [
      "{'name': 'roshi', 'surname': 'rapeti', 'state': 'mumbai'}\n",
      "{'name': 'roshi', 'surname': 'rapeti', 'state': 'mumbai', 'mobile': 8884449229}\n"
     ]
    }
   ],
   "source": [
    "dict1={\"name\":\"roshi\",\"surname\":\"rapeti\",\"state\":\"mumbai\"}\n",
    "type(dict1)\n",
    "print(dict1)\n",
    "dict1[\"mobile\"]=8884449229\n",
    "print(dict1)"
   ]
  },
  {
   "cell_type": "code",
   "execution_count": 40,
   "id": "1985e381",
   "metadata": {},
   "outputs": [
    {
     "data": {
      "text/plain": [
       "'mumbai'"
      ]
     },
     "execution_count": 40,
     "metadata": {},
     "output_type": "execute_result"
    }
   ],
   "source": [
    "dict1[\"state\"]"
   ]
  },
  {
   "cell_type": "code",
   "execution_count": 41,
   "id": "6adc9fe8",
   "metadata": {},
   "outputs": [
    {
     "data": {
      "text/plain": [
       "dict_keys(['name', 'surname', 'state'])"
      ]
     },
     "execution_count": 41,
     "metadata": {},
     "output_type": "execute_result"
    }
   ],
   "source": [
    "dict1.keys()#it mention all the keys in the dict1"
   ]
  },
  {
   "cell_type": "code",
   "execution_count": 42,
   "id": "37a60049",
   "metadata": {},
   "outputs": [
    {
     "data": {
      "text/plain": [
       "dict_values(['roshi', 'rapeti', 'mumbai'])"
      ]
     },
     "execution_count": 42,
     "metadata": {},
     "output_type": "execute_result"
    }
   ],
   "source": [
    "dict1.values()#it mention all the values in the dict1"
   ]
  },
  {
   "cell_type": "code",
   "execution_count": 44,
   "id": "b8d69108",
   "metadata": {},
   "outputs": [
    {
     "data": {
      "text/plain": [
       "dict_items([('name', 'roshi'), ('surname', 'rapeti'), ('state', 'mumbai')])"
      ]
     },
     "execution_count": 44,
     "metadata": {},
     "output_type": "execute_result"
    }
   ],
   "source": [
    "dict1.items()#it mention both keys and values in the dict1"
   ]
  },
  {
   "cell_type": "code",
   "execution_count": 4,
   "id": "04283f0d",
   "metadata": {},
   "outputs": [
    {
     "data": {
      "text/plain": [
       "'rapeti'"
      ]
     },
     "execution_count": 4,
     "metadata": {},
     "output_type": "execute_result"
    }
   ],
   "source": [
    "dict1.get(\"surname\")#get()-it get the value in the dict,by using the key you gave"
   ]
  },
  {
   "cell_type": "code",
   "execution_count": 5,
   "id": "337aff6e",
   "metadata": {},
   "outputs": [
    {
     "data": {
      "text/plain": [
       "'not present'"
      ]
     },
     "execution_count": 5,
     "metadata": {},
     "output_type": "execute_result"
    }
   ],
   "source": [
    "dict1.get(\"city\",\"not present\")#here if the city is not thier in your dict so we can mention \"not presnt\""
   ]
  },
  {
   "cell_type": "code",
   "execution_count": 4,
   "id": "27e6c2cf",
   "metadata": {},
   "outputs": [
    {
     "data": {
      "text/plain": [
       "'mumbai'"
      ]
     },
     "execution_count": 4,
     "metadata": {},
     "output_type": "execute_result"
    }
   ],
   "source": [
    "dict1.get(\"state\",\"not present\")#state is present so it gives the value of given key"
   ]
  },
  {
   "cell_type": "code",
   "execution_count": 18,
   "id": "8bc0de9c",
   "metadata": {},
   "outputs": [
    {
     "data": {
      "text/plain": [
       "[75, 62, 52, 2, 1, 0]"
      ]
     },
     "execution_count": 18,
     "metadata": {},
     "output_type": "execute_result"
    }
   ],
   "source": [
    "my_list=[1,2,52,62,0,75]#SORT IN asc or des order\n",
    "sorted(my_list,reverse=True)"
   ]
  },
  {
   "cell_type": "code",
   "execution_count": 25,
   "id": "91dee23a",
   "metadata": {},
   "outputs": [
    {
     "data": {
      "text/plain": [
       "[75, 0, 62, 52, 2, 1]"
      ]
     },
     "execution_count": 25,
     "metadata": {},
     "output_type": "execute_result"
    }
   ],
   "source": [
    "my_list=[1,2,52,62,0,75]#reverse the list using reverse(.syntax:variable.reverse()\n",
    "my_list.reverse()\n",
    "my_list"
   ]
  },
  {
   "cell_type": "code",
   "execution_count": 3,
   "id": "7945431f",
   "metadata": {},
   "outputs": [
    {
     "data": {
      "text/plain": [
       "{'name': 'roshi',\n",
       " 'surname': 'rapeti',\n",
       " 'state': 'mumbai',\n",
       " 'city': 'dahisar',\n",
       " 'group': 'bsc'}"
      ]
     },
     "execution_count": 3,
     "metadata": {},
     "output_type": "execute_result"
    }
   ],
   "source": [
    "dict1={\"name\":\"roshi\",\"surname\":\"rapeti\",\"state\":\"mumbai\"}#update()-it add the key and value to the dict\n",
    "dict1.update({\"city\":\"dahisar\",\"group\":\"bsc\"})#syntax:variable.update({\"key\":\"value\",\"key\":\"value\"})\n",
    "dict1"
   ]
  },
  {
   "cell_type": "code",
   "execution_count": 4,
   "id": "27ba9036",
   "metadata": {},
   "outputs": [
    {
     "data": {
      "text/plain": [
       "{'name': 'roshi',\n",
       " 'surname': 'rapeti',\n",
       " 'state': 'mumbai',\n",
       " 'city': 'dahisar',\n",
       " 'group': 'bsc',\n",
       " 'key1': 'value1'}"
      ]
     },
     "execution_count": 4,
     "metadata": {},
     "output_type": "execute_result"
    }
   ],
   "source": [
    "dict1[\"key1\"]=\"value1\"\n",
    "dict1"
   ]
  },
  {
   "cell_type": "code",
   "execution_count": 16,
   "id": "56814982",
   "metadata": {},
   "outputs": [
    {
     "data": {
      "text/plain": [
       "{'name': 'roshi',\n",
       " 'surname': 'rapeti',\n",
       " 'state': 'mumbai',\n",
       " 'city': 'dahisar',\n",
       " 'group': 'bsc',\n",
       " 'key1': 'value11'}"
      ]
     },
     "execution_count": 16,
     "metadata": {},
     "output_type": "execute_result"
    }
   ],
   "source": [
    "dict1[\"key1\"]=\"value11\"#replace the key 1 value(value1) to value11\n",
    "dict1"
   ]
  },
  {
   "cell_type": "code",
   "execution_count": 17,
   "id": "e3cdcb42",
   "metadata": {},
   "outputs": [
    {
     "data": {
      "text/plain": [
       "'value11'"
      ]
     },
     "execution_count": 17,
     "metadata": {},
     "output_type": "execute_result"
    }
   ],
   "source": [
    "dict1.pop(\"key1\")#pop()-automatically remove last element,syntax:variable.pop(key_name)"
   ]
  },
  {
   "cell_type": "code",
   "execution_count": 14,
   "id": "36960766",
   "metadata": {},
   "outputs": [
    {
     "data": {
      "text/plain": [
       "{'name': 'roshi',\n",
       " 'surname': 'rapeti',\n",
       " 'state': 'mumbai',\n",
       " 'city': 'dahisar',\n",
       " 'group': 'bsc'}"
      ]
     },
     "execution_count": 14,
     "metadata": {},
     "output_type": "execute_result"
    }
   ],
   "source": [
    "dict1#it remove the last pair of key and value"
   ]
  },
  {
   "cell_type": "code",
   "execution_count": 34,
   "id": "8d6af2cf",
   "metadata": {},
   "outputs": [
    {
     "data": {
      "text/plain": [
       "[75, 2, 52, 62, 0, 1]"
      ]
     },
     "execution_count": 34,
     "metadata": {},
     "output_type": "execute_result"
    }
   ],
   "source": [
    "l1=[1,2,52,62,0,75]#swap the first and last element by index\n",
    "l1[0],l1[-1]=l1[-1],l1[0]\n",
    "l1"
   ]
  },
  {
   "cell_type": "code",
   "execution_count": 37,
   "id": "577c7deb",
   "metadata": {},
   "outputs": [
    {
     "data": {
      "text/plain": [
       "['roshi', 95, 2, 5, 45, 85, 1, 55, 'jaggu']"
      ]
     },
     "execution_count": 37,
     "metadata": {},
     "output_type": "execute_result"
    }
   ],
   "source": [
    "l1=[\"roshi\",1,2,5,45,85,95,55,\"jaggu\"]#swap the index 1 with index -3\n",
    "l1[1],l1[-3]=l1[-3],l1[1]\n",
    "l1"
   ]
  },
  {
   "cell_type": "code",
   "execution_count": 39,
   "id": "5f623157",
   "metadata": {},
   "outputs": [
    {
     "data": {
      "text/plain": [
       "[12, 14, 62, 12, 45, 35]"
      ]
     },
     "execution_count": 39,
     "metadata": {},
     "output_type": "execute_result"
    }
   ],
   "source": [
    "l2=[12,45,62,12,14,35]#using temp variable\n",
    "temp=l2[1]\n",
    "l2[1]=l2[-2]\n",
    "l2[-2]=temp\n",
    "l2"
   ]
  },
  {
   "cell_type": "code",
   "execution_count": 41,
   "id": "40b207ff",
   "metadata": {},
   "outputs": [
    {
     "data": {
      "text/plain": [
       "True"
      ]
     },
     "execution_count": 41,
     "metadata": {},
     "output_type": "execute_result"
    }
   ],
   "source": [
    "l3=[\"roshi\",25,True]\n",
    "True in l3"
   ]
  },
  {
   "cell_type": "code",
   "execution_count": 54,
   "id": "b3ea111d",
   "metadata": {},
   "outputs": [
    {
     "data": {
      "text/plain": [
       "[34, 40, 42, 33, 29, 37, 39]"
      ]
     },
     "execution_count": 54,
     "metadata": {},
     "output_type": "execute_result"
    }
   ],
   "source": [
    "temperatures=[34,40,29,33,42,37,39]#swap highest and lowest temperatures\n",
    "temperatures[2],temperatures[-3]=temperatures[-3],temperatures[2]\n",
    "temperatures"
   ]
  },
  {
   "cell_type": "code",
   "execution_count": 55,
   "id": "b8803d3d",
   "metadata": {},
   "outputs": [
    {
     "data": {
      "text/plain": [
       "[34, 40, 42, 33, 29, 37, 39]"
      ]
     },
     "execution_count": 55,
     "metadata": {},
     "output_type": "execute_result"
    }
   ],
   "source": [
    "temperatures=[34,40,29,33,42,37,39]#swap highest and lowest temperatures using temp variable\n",
    "temp=temperatures[2]\n",
    "temperatures[2]=temperatures[-3]\n",
    "temperatures[-3]=temp\n",
    "temperatures"
   ]
  },
  {
   "cell_type": "code",
   "execution_count": 15,
   "id": "5f205feb",
   "metadata": {},
   "outputs": [
    {
     "name": "stdout",
     "output_type": "stream",
     "text": [
      "42\n",
      "29\n"
     ]
    }
   ],
   "source": [
    "temperatures=[34,40,29,33,42,37,39]#another way of swaping\n",
    "max_temp=max(temperatures)\n",
    "min_temp=min(temperatures)\n",
    "print(max_temp)\n",
    "print(min_temp)"
   ]
  },
  {
   "cell_type": "code",
   "execution_count": 16,
   "id": "16e6bcfc",
   "metadata": {},
   "outputs": [
    {
     "name": "stdout",
     "output_type": "stream",
     "text": [
      "4\n",
      "2\n"
     ]
    }
   ],
   "source": [
    "max_temp_index=temperatures.index(max_temp)\n",
    "min_temp_index=temperatures.index(min_temp)\n",
    "print(max_temp_index)\n",
    "print(min_temp_index)"
   ]
  },
  {
   "cell_type": "code",
   "execution_count": 17,
   "id": "837d95a3",
   "metadata": {},
   "outputs": [
    {
     "data": {
      "text/plain": [
       "[34, 40, 42, 33, 29, 37, 39]"
      ]
     },
     "execution_count": 17,
     "metadata": {},
     "output_type": "execute_result"
    }
   ],
   "source": [
    "temperatures[max_temp_index],temperatures[min_temp_index]=temperatures[min_temp_index],temperatures[max_temp_index]\n",
    "temperatures"
   ]
  },
  {
   "cell_type": "markdown",
   "id": "19056d65",
   "metadata": {},
   "source": [
    "# statements,indentation,comments and controls"
   ]
  },
  {
   "cell_type": "code",
   "execution_count": null,
   "id": "9a61c301",
   "metadata": {},
   "outputs": [],
   "source": [
    "#statements-it is an instruction that python interpretur can execute\n",
    "#comments-to know about the block of code\n",
    "#multiline comments(docstrings)-'''....'''\n",
    "#indentation-it maintain the structure of code"
   ]
  },
  {
   "cell_type": "markdown",
   "id": "47efe4df",
   "metadata": {},
   "source": [
    "# conditional statements(if,elif,else,nestedif)"
   ]
  },
  {
   "cell_type": "code",
   "execution_count": 33,
   "id": "ba459126",
   "metadata": {},
   "outputs": [
    {
     "name": "stdout",
     "output_type": "stream",
     "text": [
      "a is less than b\n"
     ]
    }
   ],
   "source": [
    "a=2#if else-if the condition is true it goes into if block,if condition is false it goes into else block\n",
    "b=4\n",
    "if a>=b:\n",
    "    print(\"greater\")\n",
    "else:\n",
    "    print(\"a is less than b\")"
   ]
  },
  {
   "cell_type": "code",
   "execution_count": null,
   "id": "85cc6025",
   "metadata": {},
   "outputs": [],
   "source": [
    "#syntax of elif  #elif-if we want use more conditions we use elif,\n",
    "if case1:  #if case1 is true it execute case1 statements if false it goes to case 2,if case2 is false then case3,if case4 is also false the else statments it execute\n",
    "    #case1 statements\n",
    "elif case2:\n",
    "     #case2 statements\n",
    "elif case3:\n",
    "     #case3 statements\n",
    "elif case4:\n",
    "     #case4 statements\n",
    "else:\n",
    "    #otherwise this statement"
   ]
  },
  {
   "cell_type": "code",
   "execution_count": 34,
   "id": "2f16b5e2",
   "metadata": {},
   "outputs": [
    {
     "name": "stdout",
     "output_type": "stream",
     "text": [
      "x is less than 20\n"
     ]
    }
   ],
   "source": [
    "x=10\n",
    "if x==20:\n",
    "    print(\"x is greater than 10\")\n",
    "else:\n",
    "    print(\"x is less than 20\")"
   ]
  },
  {
   "cell_type": "code",
   "execution_count": 43,
   "id": "1ad7c1eb",
   "metadata": {},
   "outputs": [
    {
     "name": "stdout",
     "output_type": "stream",
     "text": [
      "enter the city:pune\n",
      "i dont know\n"
     ]
    }
   ],
   "source": [
    "city=(input(\"enter the city:\"))#using elif\n",
    "if city==\"new delhi\":\n",
    "    print(\"city is new delhi\")\n",
    "elif city==\"noida\":\n",
    "    print(\"city is noida\")\n",
    "elif city==\"mumbai\":\n",
    "    print(\"city is mumbai\")\n",
    "else:\n",
    "    print(\"i dont know\")"
   ]
  },
  {
   "cell_type": "code",
   "execution_count": 56,
   "id": "bf93e18f",
   "metadata": {},
   "outputs": [
    {
     "name": "stdout",
     "output_type": "stream",
     "text": [
      "should be greater than 190\n"
     ]
    }
   ],
   "source": [
    "num1=2#nestedif-if inside if\n",
    "num2=9#if block num1(2)>0=true,goes to nested if block num2(9)<0=false,so it execute else block\n",
    "if num1>0:#if condition false then it goes to elif condition,it check weather the elif condition true then execute elif,or false else block will be executed\n",
    "    if num2<0:\n",
    "        print(num1+num2)\n",
    "    else:\n",
    "        print(\"should be greater than 190\")\n",
    "elif num1>0:\n",
    "    print(\"num1 is negative num\")\n",
    "else:\n",
    "    print(\"num is zero\")"
   ]
  },
  {
   "cell_type": "code",
   "execution_count": 9,
   "id": "f8933de8",
   "metadata": {},
   "outputs": [
    {
     "name": "stdout",
     "output_type": "stream",
     "text": [
      "enter the num:20\n",
      "weird even\n"
     ]
    }
   ],
   "source": [
    "n=int(input(\"enter the num:\"))#& we shouldnot use in jupitar insted you shoud use and operator\n",
    "if n%2==0:\n",
    "    if n>=2 and n<=5:\n",
    "        print(\"not weird\")\n",
    "    elif n>=6 and n<=20:\n",
    "        print(\"weird even\")\n",
    "    else:\n",
    "        print(\"weird odd\")\n",
    "else:\n",
    "    print(\"weird odd\")"
   ]
  },
  {
   "cell_type": "code",
   "execution_count": 5,
   "id": "28f24454",
   "metadata": {},
   "outputs": [
    {
     "data": {
      "text/plain": [
       "[65, 85, 42, 55]"
      ]
     },
     "execution_count": 5,
     "metadata": {},
     "output_type": "execute_result"
    }
   ],
   "source": [
    "#practise\n",
    "l2=[1,2,3,4,5]#to copy a list using copy()\n",
    "l2=l1.copy()\n",
    "l2"
   ]
  },
  {
   "cell_type": "code",
   "execution_count": 15,
   "id": "50b17c44",
   "metadata": {},
   "outputs": [
    {
     "name": "stdout",
     "output_type": "stream",
     "text": [
      "4\n"
     ]
    }
   ],
   "source": [
    "l_1=[1,2,4,8,6,56]#third highest element of list\n",
    "l_2=sorted(l_1)\n",
    "print(l_2[2])"
   ]
  },
  {
   "cell_type": "code",
   "execution_count": null,
   "id": "2b4ed3ac",
   "metadata": {},
   "outputs": [],
   "source": [
    "num=[1,2,3,4,5,6]#to pair the num and squares in form of tuple,we use zip function\n",
    "squares=[1,4,9,16,25,36]\n",
    "comb=tuple(zip(num,squares))\n",
    "comb"
   ]
  },
  {
   "cell_type": "code",
   "execution_count": 18,
   "id": "b7dfbc53",
   "metadata": {},
   "outputs": [
    {
     "data": {
      "text/plain": [
       "{1: 1, 2: 4, 3: 9, 4: 16, 5: 25, 6: 36}"
      ]
     },
     "execution_count": 18,
     "metadata": {},
     "output_type": "execute_result"
    }
   ],
   "source": [
    "num=[1,2,3,4,5,6]#to pair the num and squares in form of dict,we use zip function\n",
    "squares=[1,4,9,16,25,36]\n",
    "comb=dict(zip(num,squares))\n",
    "comb"
   ]
  },
  {
   "cell_type": "code",
   "execution_count": 6,
   "id": "17530eff",
   "metadata": {},
   "outputs": [
    {
     "data": {
      "text/plain": [
       "{1, 2, 35, 36, 85, 95}"
      ]
     },
     "execution_count": 6,
     "metadata": {},
     "output_type": "execute_result"
    }
   ],
   "source": [
    "list_1=[1,2,45,35,62]#uncommon elemets(symmetric difference)\n",
    "elements=[36,45,85,95,62]\n",
    "set(list_1)^set(elements)\n"
   ]
  },
  {
   "cell_type": "code",
   "execution_count": 1,
   "id": "cd568634",
   "metadata": {},
   "outputs": [
    {
     "name": "stdout",
     "output_type": "stream",
     "text": [
      "[1, 2, 45, 35, 62]\n",
      "[36, 45, 85, 95, 62]\n",
      "{1, 2, 35, 45, 62}\n",
      "{36, 45, 85, 62, 95}\n",
      "{1, 2, 35}\n"
     ]
    }
   ],
   "source": [
    "list_1=[1,2,45,35,62]#uncommon elemets(symmetric difference)\n",
    "elements=[36,45,85,95,62]\n",
    "print(list_1)\n",
    "print(elements)\n",
    "print(set(list_1))\n",
    "print(set(elements))\n",
    "print(set(list_1)-set(elements))\n"
   ]
  },
  {
   "cell_type": "code",
   "execution_count": 4,
   "id": "2fd35649",
   "metadata": {},
   "outputs": [
    {
     "data": {
      "text/plain": [
       "[45, 5, 42, 5, 64, 74]"
      ]
     },
     "execution_count": 4,
     "metadata": {},
     "output_type": "execute_result"
    }
   ],
   "source": [
    "list_1=[45,5,42,85,64,74]#replace of index of 3 in list_1 to 5\n",
    "list_1[3]=5\n",
    "list_1"
   ]
  },
  {
   "cell_type": "code",
   "execution_count": 7,
   "id": "cd05e0fa",
   "metadata": {},
   "outputs": [
    {
     "data": {
      "text/plain": [
       "3"
      ]
     },
     "execution_count": 7,
     "metadata": {},
     "output_type": "execute_result"
    }
   ],
   "source": [
    "list_1=[45,5,42,85,64,74]#replace of index of 3 in list_1 to 5\n",
    "index_to_replace=list_1.index(85)\n",
    "index_to_replace"
   ]
  },
  {
   "cell_type": "code",
   "execution_count": 8,
   "id": "e5e65117",
   "metadata": {},
   "outputs": [
    {
     "data": {
      "text/plain": [
       "[45, 5, 42, 3, 64, 74]"
      ]
     },
     "execution_count": 8,
     "metadata": {},
     "output_type": "execute_result"
    }
   ],
   "source": [
    "list_1[index_to_replace]=index_to_replace#another way to replace with index\n",
    "list_1"
   ]
  },
  {
   "cell_type": "code",
   "execution_count": 15,
   "id": "60eea881",
   "metadata": {},
   "outputs": [
    {
     "name": "stdout",
     "output_type": "stream",
     "text": [
      "enter the num:3\n",
      "poor\n"
     ]
    }
   ],
   "source": [
    "x=int(input(\"enter the num:\"))#case1-for AND we shld check first condition,if condition is false you can go to another elif\n",
    "if x>=10:#case2-for OR case you have to check two conditions\n",
    "    print(\"good marks\")\n",
    "elif x>=8 and x<=10:\n",
    "    print(\"avg marks\")\n",
    "elif x>=4 and x<=7:\n",
    "    print(\"below avg\")\n",
    "else:\n",
    "    print(\"poor\")"
   ]
  },
  {
   "cell_type": "code",
   "execution_count": 26,
   "id": "1676f87e",
   "metadata": {},
   "outputs": [
    {
     "name": "stdout",
     "output_type": "stream",
     "text": [
      "enter the num:85\n",
      "a grade\n"
     ]
    }
   ],
   "source": [
    "#80-100(a grade),60-80(b grade),40-60(c grade),below 40 (fail)\n",
    "x=int(input(\"enter the num:\"))\n",
    "if x>=80 and x<=100:\n",
    "    print(\"a grade\")\n",
    "elif x>=60 and x<=80:\n",
    "    print(\"b grade\")\n",
    "elif x>=40 and x<=60:\n",
    "    print(\"c grade\")\n",
    "else:\n",
    "    print(\"fail\")"
   ]
  },
  {
   "cell_type": "code",
   "execution_count": 6,
   "id": "a3017473",
   "metadata": {},
   "outputs": [
    {
     "name": "stdout",
     "output_type": "stream",
     "text": [
      "enter the num:40\n",
      "c2 grade\n"
     ]
    }
   ],
   "source": [
    "#80-100(a1grade),80-90(a2grade),nested if program\n",
    "x=int(input(\"enter the num:\"))\n",
    "if x>=80:\n",
    "    if x>=80 and x<=90:\n",
    "        print(\"a2 grade\")\n",
    "    else:\n",
    "        print(\"a1 grade\")\n",
    "elif x>=60:\n",
    "    if x>=60 and x<=70:\n",
    "        print(\"b2 grade\")\n",
    "    else:\n",
    "        print(\"b1 grade\")\n",
    "elif x>=40:\n",
    "    if x>=40 and x<=50:\n",
    "        print(\"c2 grade\")\n",
    "    else:\n",
    "        print(\"c1 grade\")\n",
    "else:\n",
    "    print(\"fail\")"
   ]
  },
  {
   "cell_type": "code",
   "execution_count": 16,
   "id": "3b9d52ec",
   "metadata": {},
   "outputs": [
    {
     "name": "stdout",
     "output_type": "stream",
     "text": [
      "enter the num:70\n",
      "enter the num:80\n",
      "enter the num:90\n",
      "smallest num is 90\n"
     ]
    }
   ],
   "source": [
    "x=int(input(\"enter the num:\"))#print max of three num\n",
    "y=int(input(\"enter the num:\"))\n",
    "z=int(input(\"enter the num:\"))\n",
    "if x>=y and x>=z:\n",
    "    print(\"largest num is\",x)\n",
    "elif y>=x and y>=z:\n",
    "    print(\"largest num is\",y)\n",
    "else:\n",
    "    print(\"smallest num is\",z)"
   ]
  },
  {
   "cell_type": "code",
   "execution_count": 3,
   "id": "0062331d",
   "metadata": {},
   "outputs": [
    {
     "data": {
      "text/plain": [
       "True"
      ]
     },
     "execution_count": 3,
     "metadata": {},
     "output_type": "execute_result"
    }
   ],
   "source": [
    "str1=\"hello i am a data analyst\"\n",
    "\"data\" in str1"
   ]
  },
  {
   "cell_type": "markdown",
   "id": "c351dd7f",
   "metadata": {},
   "source": [
    "# LOOPS-while,for"
   ]
  },
  {
   "cell_type": "code",
   "execution_count": null,
   "id": "b7f89d68",
   "metadata": {},
   "outputs": [],
   "source": [
    "#loops-executing the block of codes untill it meets the condition.\n",
    "#while loop-we use while loop majorly on numbers\n",
    "#syntax:while condition:\n",
    "            #statements\n",
    "            #iterator updation"
   ]
  },
  {
   "cell_type": "code",
   "execution_count": 2,
   "id": "17efea9c",
   "metadata": {},
   "outputs": [
    {
     "name": "stdout",
     "output_type": "stream",
     "text": [
      "0\n",
      "1\n",
      "2\n",
      "3\n",
      "4\n",
      "5\n"
     ]
    }
   ],
   "source": [
    "i=0#simple program for while loop\n",
    "while i<=5:\n",
    "    print(i)\n",
    "    i=i+1#imp to give iterartor "
   ]
  },
  {
   "cell_type": "code",
   "execution_count": 4,
   "id": "93a51eb7",
   "metadata": {},
   "outputs": [
    {
     "name": "stdout",
     "output_type": "stream",
     "text": [
      "0\n",
      "2\n",
      "4\n",
      "6\n",
      "8\n",
      "10\n"
     ]
    }
   ],
   "source": [
    "i=0#even num program using while loop\n",
    "while i<=10:\n",
    "    print(i)\n",
    "    i=i+2"
   ]
  },
  {
   "cell_type": "code",
   "execution_count": 2,
   "id": "e78e7bfd",
   "metadata": {},
   "outputs": [
    {
     "name": "stdout",
     "output_type": "stream",
     "text": [
      "0\n",
      "2\n",
      "4\n",
      "6\n",
      "8\n",
      "10\n"
     ]
    }
   ],
   "source": [
    "i=0#even num using while and if \n",
    "while i<=10:\n",
    "    if i%2==0:\n",
    "        print(i)\n",
    "    i=i+1"
   ]
  },
  {
   "cell_type": "code",
   "execution_count": 9,
   "id": "343f7e42",
   "metadata": {},
   "outputs": [
    {
     "name": "stdout",
     "output_type": "stream",
     "text": [
      "enter the num:5\n",
      "5\n",
      "7\n",
      "9\n"
     ]
    }
   ],
   "source": [
    "x=int(input(\"enter the num:\"))#even num with user input\n",
    "while x<=10:\n",
    "    print(x)\n",
    "    x=x+2"
   ]
  },
  {
   "cell_type": "code",
   "execution_count": 10,
   "id": "a1121944",
   "metadata": {},
   "outputs": [
    {
     "name": "stdout",
     "output_type": "stream",
     "text": [
      "1\n",
      "3\n",
      "5\n",
      "7\n",
      "9\n"
     ]
    }
   ],
   "source": [
    "i=0#odd num using while and if \n",
    "while i<=10:\n",
    "    if i%2!=0:\n",
    "        print(i)\n",
    "    i=i+1"
   ]
  },
  {
   "cell_type": "code",
   "execution_count": 18,
   "id": "2e89052f",
   "metadata": {},
   "outputs": [
    {
     "name": "stdout",
     "output_type": "stream",
     "text": [
      "enter the num:24\n",
      "num is divisible by 4 only\n"
     ]
    }
   ],
   "source": [
    "x=int(input(\"enter the num:\"))#example\n",
    "if x%4==0:\n",
    "    if x%5==0:\n",
    "        print(\"num is divisible by both 4 and 5\")\n",
    "    else:\n",
    "        print(\"num is divisible by 4 only\")\n",
    "elif x%2==0:\n",
    "    print(\"we cant divisible by 4 but divisible by 2\")\n",
    "else:\n",
    "    print(\"we cannot divide num by 2 or 4\")"
   ]
  },
  {
   "cell_type": "code",
   "execution_count": 6,
   "id": "793df9f6",
   "metadata": {},
   "outputs": [
    {
     "name": "stdout",
     "output_type": "stream",
     "text": [
      "enter the num:5\n",
      "5 * 1 = 5\n",
      "5 * 2 = 10\n",
      "5 * 3 = 15\n",
      "5 * 4 = 20\n",
      "5 * 5 = 25\n",
      "5 * 6 = 30\n",
      "5 * 7 = 35\n",
      "5 * 8 = 40\n",
      "5 * 9 = 45\n",
      "5 * 10 = 50\n"
     ]
    }
   ],
   "source": [
    "x=int(input(\"enter the num:\"))#table using while loop\n",
    "i=1\n",
    "while i<=10:\n",
    "    result=5*i\n",
    "    print(x,\"*\",i,\"=\",result)\n",
    "    i=i+1"
   ]
  },
  {
   "cell_type": "code",
   "execution_count": 5,
   "id": "16de204c",
   "metadata": {},
   "outputs": [
    {
     "name": "stdout",
     "output_type": "stream",
     "text": [
      "enter the num:5\n",
      "5 * 1 = 5\n",
      "5 * 2 = 10\n",
      "5 * 3 = 15\n",
      "5 * 4 = 20\n",
      "5 * 5 = 25\n",
      "5 * 6 = 30\n",
      "5 * 7 = 35\n",
      "5 * 8 = 40\n",
      "5 * 9 = 45\n",
      "5 * 10 = 50\n"
     ]
    }
   ],
   "source": [
    "x=int(input(\"enter the num:\"))#table using for loop\n",
    "for i in range(1,11):\n",
    "    print(x,\"*\",i,\"=\",x*i)"
   ]
  },
  {
   "cell_type": "code",
   "execution_count": 28,
   "id": "2394157c",
   "metadata": {},
   "outputs": [
    {
     "name": "stdout",
     "output_type": "stream",
     "text": [
      "9\n",
      "num is not prime num\n"
     ]
    }
   ],
   "source": [
    "#prime number-the number whichwe can divide by itself and 1(2 to n-1)\n",
    "#example\n",
    "num=int(input())#prime num using while loop\n",
    "i=2\n",
    "result=\"\"\n",
    "while(i<num):\n",
    "    if(num%i==0):\n",
    "        result=\"not prime\"\n",
    "        break\n",
    "    i=i+1\n",
    "if(result==\"not prime\"):\n",
    "    print(\"num is not prime num\")\n",
    "else:\n",
    "    print(\"num is prime num\")"
   ]
  },
  {
   "cell_type": "code",
   "execution_count": 12,
   "id": "76b81ec9",
   "metadata": {},
   "outputs": [
    {
     "name": "stdout",
     "output_type": "stream",
     "text": [
      "9\n",
      "not prime\n"
     ]
    }
   ],
   "source": [
    "num=int(input())#prime num using while loop(good way to do for large num)\n",
    "i=2\n",
    "while(num%i!=0):\n",
    "    i=i+1\n",
    "if(i==num):\n",
    "    print(\"prime\")\n",
    "else:\n",
    "    print(\"not prime\")"
   ]
  },
  {
   "cell_type": "code",
   "execution_count": null,
   "id": "c778e9f5",
   "metadata": {},
   "outputs": [],
   "source": [
    "#for loop-we use for loop majorly on sequence(which stores elements)\n",
    "#syntax:for item(iterator) in object:\n",
    "        #to do stuff"
   ]
  },
  {
   "cell_type": "code",
   "execution_count": 18,
   "id": "8788d52e",
   "metadata": {},
   "outputs": [
    {
     "name": "stdout",
     "output_type": "stream",
     "text": [
      "1 2 3 4 5 6 7 "
     ]
    }
   ],
   "source": [
    "l1=[1,2,3,4,5,6,7]\n",
    "for i in l1:\n",
    "    print(i,end=\" \")"
   ]
  },
  {
   "cell_type": "code",
   "execution_count": 22,
   "id": "42258334",
   "metadata": {},
   "outputs": [
    {
     "name": "stdout",
     "output_type": "stream",
     "text": [
      "r\n",
      "o\n",
      "s\n",
      "h\n",
      "i\n",
      "n\n",
      "i\n",
      " \n",
      "r\n",
      "a\n",
      "p\n",
      "e\n",
      "t\n",
      "i\n"
     ]
    }
   ],
   "source": [
    "str1=\"roshini rapeti\"#simple program \n",
    "for i in str1:\n",
    "    print(i)"
   ]
  },
  {
   "cell_type": "code",
   "execution_count": 23,
   "id": "775504f0",
   "metadata": {},
   "outputs": [
    {
     "data": {
      "text/plain": [
       "[1, 2, 3, 4, 5, 6, 7, 8, 9]"
      ]
     },
     "execution_count": 23,
     "metadata": {},
     "output_type": "execute_result"
    }
   ],
   "source": [
    "list(range(1,10))#10 is exclusive"
   ]
  },
  {
   "cell_type": "code",
   "execution_count": 24,
   "id": "975f4aac",
   "metadata": {},
   "outputs": [
    {
     "data": {
      "text/plain": [
       "[1, 4, 7]"
      ]
     },
     "execution_count": 24,
     "metadata": {},
     "output_type": "execute_result"
    }
   ],
   "source": [
    "list(range(1,10,3))"
   ]
  },
  {
   "cell_type": "code",
   "execution_count": 26,
   "id": "fd8e1ef5",
   "metadata": {},
   "outputs": [
    {
     "name": "stdout",
     "output_type": "stream",
     "text": [
      "1\n",
      "2\n",
      "3\n",
      "4\n",
      "5\n"
     ]
    }
   ],
   "source": [
    "for i in range(1,6):\n",
    "    print(i)"
   ]
  },
  {
   "cell_type": "code",
   "execution_count": 27,
   "id": "e7c50278",
   "metadata": {},
   "outputs": [
    {
     "name": "stdout",
     "output_type": "stream",
     "text": [
      "0\n",
      "2\n",
      "4\n",
      "6\n",
      "8\n",
      "10\n"
     ]
    }
   ],
   "source": [
    "for i in range(0,11):#even num using for loop\n",
    "    if i%2==0:\n",
    "        print(i)"
   ]
  },
  {
   "cell_type": "code",
   "execution_count": 34,
   "id": "ae04c102",
   "metadata": {},
   "outputs": [
    {
     "name": "stdout",
     "output_type": "stream",
     "text": [
      "enter num:3\n",
      "3 * 1 = 3\n",
      "3 * 2 = 6\n",
      "3 * 3 = 9\n",
      "3 * 4 = 12\n",
      "3 * 5 = 15\n"
     ]
    }
   ],
   "source": [
    "table=int(input(\"enter num:\"))#table using for loop\n",
    "for i in range(1,6):\n",
    "    result=table*i\n",
    "    print(table,\"*\",i,\"=\",result)"
   ]
  },
  {
   "cell_type": "code",
   "execution_count": 10,
   "id": "07db51a9",
   "metadata": {},
   "outputs": [
    {
     "name": "stdout",
     "output_type": "stream",
     "text": [
      "enter the number:1\n",
      "1 is not prime num\n"
     ]
    }
   ],
   "source": [
    "n=int(input(\"enter the number:\"))#prime or not using for loop\n",
    "is_prime=True\n",
    "if n==1:\n",
    "    is_prime=False\n",
    "for i in range(2,n):\n",
    "    if(n%i==0):\n",
    "        result=False\n",
    "if result:\n",
    "    print(n,\"is a prime num\")\n",
    "else:\n",
    "    print(n,\"is not prime num\")"
   ]
  },
  {
   "cell_type": "code",
   "execution_count": 2,
   "id": "c9f5144a",
   "metadata": {},
   "outputs": [
    {
     "name": "stdout",
     "output_type": "stream",
     "text": [
      "2\n",
      "6\n",
      "11\n",
      "17\n",
      "25\n"
     ]
    }
   ],
   "source": [
    "list_1=[2,4,5,6,8]#sum of list using for loop\n",
    "sum1=0\n",
    "for i in list_1:\n",
    "    sum1=sum1+i\n",
    "    print(sum1)"
   ]
  },
  {
   "cell_type": "code",
   "execution_count": 13,
   "id": "78bcb88b",
   "metadata": {},
   "outputs": [
    {
     "name": "stdout",
     "output_type": "stream",
     "text": [
      "2\n",
      "8\n",
      "4\n",
      "6\n",
      "12\n"
     ]
    }
   ],
   "source": [
    "l1=[7,2,8,5,4,6,9,13,12]#all the even num in the list\n",
    "sum1=0\n",
    "for i in l1:\n",
    "    if i%2==0:\n",
    "        result=i\n",
    "        print(result)\n"
   ]
  },
  {
   "cell_type": "code",
   "execution_count": 15,
   "id": "37e1aa8b",
   "metadata": {},
   "outputs": [
    {
     "name": "stdout",
     "output_type": "stream",
     "text": [
      "32\n"
     ]
    }
   ],
   "source": [
    "l1=[7,2,8,5,4,6,9,13,12]#sum of all the even numbers\n",
    "sum1=0\n",
    "for i in l1:\n",
    "    if i%2==0:\n",
    "        sum1=sum1+i\n",
    "print(sum1)"
   ]
  },
  {
   "cell_type": "code",
   "execution_count": 10,
   "id": "8e3e8595",
   "metadata": {},
   "outputs": [
    {
     "name": "stdout",
     "output_type": "stream",
     "text": [
      "[5]\n",
      "[5, 3]\n",
      "[5, 3, 3]\n",
      "[5, 3, 3, 5]\n",
      "[5, 3, 3, 5, 5]\n"
     ]
    }
   ],
   "source": [
    "str1=[\"hello\",\"bye\",\"toy\",\"roshi\",\"jaggu\"]#length of each string using for loop\n",
    "len_str=[]\n",
    "for i in str1:\n",
    "    len_str.append(len(i))\n",
    "    print(len_str)"
   ]
  },
  {
   "cell_type": "code",
   "execution_count": 166,
   "id": "5707487b",
   "metadata": {},
   "outputs": [
    {
     "name": "stdout",
     "output_type": "stream",
     "text": [
      "15\n",
      "2\n",
      "3\n",
      "5\n",
      "7\n",
      "11\n",
      "13\n"
     ]
    }
   ],
   "source": [
    "#nested loop(loop inside loop)#doubt\n",
    "n=int(input())#take user input and print the prime number using nested while loop\n",
    "i=2\n",
    "while i<=n:\n",
    "    j=2\n",
    "    flag=True #initial\n",
    "    while j<i-1:\n",
    "        if i%j==0:\n",
    "            flag=False #when divisible by before number\n",
    "        j=j+1\n",
    "    if flag==True:\n",
    "        print(i)\n",
    "    i=i+1"
   ]
  },
  {
   "cell_type": "code",
   "execution_count": 28,
   "id": "79ca88df",
   "metadata": {},
   "outputs": [
    {
     "name": "stdout",
     "output_type": "stream",
     "text": [
      "abc\n",
      "a\n",
      "b\n",
      "c\n",
      "def\n",
      "d\n",
      "e\n",
      "f\n",
      "ghi\n",
      "g\n",
      "h\n",
      "i\n"
     ]
    }
   ],
   "source": [
    "list_1=[\"abc\",\"def\",\"ghi\"]#print abc then a,b,c\n",
    "for i in list_1:\n",
    "    print(i)\n",
    "    for j in i:\n",
    "        print(j)"
   ]
  },
  {
   "cell_type": "code",
   "execution_count": 33,
   "id": "42a2131e",
   "metadata": {},
   "outputs": [
    {
     "data": {
      "text/plain": [
       "['hello', 'everyone']"
      ]
     },
     "execution_count": 33,
     "metadata": {},
     "output_type": "execute_result"
    }
   ],
   "source": [
    "str1=\"hello everyone\"#string into a list using split()\n",
    "l2=str1.split()\n",
    "l2"
   ]
  },
  {
   "cell_type": "code",
   "execution_count": 32,
   "id": "ca3e7fe2",
   "metadata": {},
   "outputs": [
    {
     "data": {
      "text/plain": [
       "'hello everyone'"
      ]
     },
     "execution_count": 32,
     "metadata": {},
     "output_type": "execute_result"
    }
   ],
   "source": [
    "str1=\"   hello everyone  \"#strip()-it is used to remove whitespaces from a string\n",
    "l3=str1.strip(\" \")\n",
    "l3"
   ]
  },
  {
   "cell_type": "code",
   "execution_count": 39,
   "id": "1ffc9da8",
   "metadata": {},
   "outputs": [
    {
     "data": {
      "text/plain": [
       "'hello everyone'"
      ]
     },
     "execution_count": 39,
     "metadata": {},
     "output_type": "execute_result"
    }
   ],
   "source": [
    "str3=[\"hello\",\"everyone\"]#list converted into one string\n",
    "str3=\" \".join(str3)\n",
    "str3"
   ]
  },
  {
   "cell_type": "markdown",
   "id": "834d9801",
   "metadata": {},
   "source": [
    "# Break,Continue,Pass"
   ]
  },
  {
   "cell_type": "code",
   "execution_count": 40,
   "id": "139c9773",
   "metadata": {},
   "outputs": [],
   "source": [
    "for i in range(1,11):#this pass statement is used to define an empty function without causing error,no-operartion statement,placeholder\n",
    "    pass"
   ]
  },
  {
   "cell_type": "code",
   "execution_count": 47,
   "id": "a3efa685",
   "metadata": {},
   "outputs": [
    {
     "name": "stdout",
     "output_type": "stream",
     "text": [
      "12\n",
      "34\n",
      "38\n"
     ]
    }
   ],
   "source": [
    "l1=[12,56,34,14,38]#it is used to skip the condition(i==14)(i==56) and gives remaining the values\n",
    "for i in l1:\n",
    "    if i==14 or i==56:\n",
    "        continue\n",
    "    print(i)"
   ]
  },
  {
   "cell_type": "code",
   "execution_count": 42,
   "id": "6e4898dd",
   "metadata": {},
   "outputs": [
    {
     "name": "stdout",
     "output_type": "stream",
     "text": [
      "12\n",
      "56\n",
      "34\n"
     ]
    }
   ],
   "source": [
    "l1=[12,56,34,14,38]#it is used to exit a loop wen an condition is met,here i==14,untill 14 all the numbers will be executed,then it get exit\n",
    "for i in l1:\n",
    "    if i==14:\n",
    "        break\n",
    "    print(i)"
   ]
  },
  {
   "cell_type": "code",
   "execution_count": 60,
   "id": "0190a0ed",
   "metadata": {},
   "outputs": [
    {
     "name": "stdout",
     "output_type": "stream",
     "text": [
      "min element 1\n",
      "max element 52\n"
     ]
    }
   ],
   "source": [
    "list_1=[1,22,33,42,52,5]#minium value and maximum value without using index\n",
    "min_element=max_element=list_1[0]\n",
    "for i in list_1:\n",
    "    if i<min_element:\n",
    "        min_element=i\n",
    "    elif i>max_element:\n",
    "        max_element=i\n",
    "print(\"min element\",min_element)\n",
    "print(\"max element\",max_element)"
   ]
  },
  {
   "cell_type": "code",
   "execution_count": 137,
   "id": "56956d2c",
   "metadata": {},
   "outputs": [
    {
     "name": "stdout",
     "output_type": "stream",
     "text": [
      "5\n",
      "* \n",
      "* * \n",
      "* * * \n",
      "* * * * \n",
      "* * * * * \n"
     ]
    }
   ],
   "source": [
    "n=int(input())#start pattern#doubt\n",
    "for i in range(0,n):\n",
    "    for j in range(i+1):\n",
    "        print(\"*\",end=\" \")\n",
    "    print()\n",
    "    "
   ]
  },
  {
   "cell_type": "code",
   "execution_count": 134,
   "id": "5d7fafff",
   "metadata": {},
   "outputs": [
    {
     "name": "stdout",
     "output_type": "stream",
     "text": [
      "5\n",
      "* \n",
      "* * \n",
      "* * * \n",
      "* * * * \n",
      "* * * * * \n"
     ]
    }
   ],
   "source": [
    "n=int(input())\n",
    "for i in range(1,n+1):\n",
    "    for j in range(1,i+1):\n",
    "        print(\"*\",end=\" \")\n",
    "    print()\n"
   ]
  },
  {
   "cell_type": "code",
   "execution_count": 76,
   "id": "f505457b",
   "metadata": {},
   "outputs": [
    {
     "name": "stdout",
     "output_type": "stream",
     "text": [
      "5\n",
      "1 \n",
      "1 2 \n",
      "1 2 3 \n",
      "1 2 3 4 \n",
      "1 2 3 4 5 \n"
     ]
    }
   ],
   "source": [
    "n=int(input())#start pattern\n",
    "for i in range(1,n+1):\n",
    "    for j in range(1,i+1):\n",
    "        print(j,end=\" \")\n",
    "    print()"
   ]
  },
  {
   "cell_type": "code",
   "execution_count": 87,
   "id": "eaa877a4",
   "metadata": {},
   "outputs": [
    {
     "name": "stdout",
     "output_type": "stream",
     "text": [
      "5\n",
      "     *\n",
      "    **\n",
      "   ***\n",
      "  ****\n",
      " *****\n"
     ]
    }
   ],
   "source": [
    "n=int(input())#start pattern#doubt\n",
    "for i in range(1,n+1):\n",
    "    print(\" \"*(n-i),end=\" \")\n",
    "    for j in range(i):\n",
    "        print(\"*\",end=\"\")\n",
    "    print()"
   ]
  },
  {
   "cell_type": "code",
   "execution_count": 88,
   "id": "24e0c48d",
   "metadata": {},
   "outputs": [
    {
     "name": "stdout",
     "output_type": "stream",
     "text": [
      "5\n",
      "     1\n",
      "    22\n",
      "   333\n",
      "  4444\n",
      " 55555\n"
     ]
    }
   ],
   "source": [
    "n=int(input())#start pattern#doubt\n",
    "for i in range(1,n+1):\n",
    "    print(\" \"*(n-i),end=\" \")\n",
    "    for j in range(i):\n",
    "        print(i,end=\"\")\n",
    "    print()"
   ]
  },
  {
   "cell_type": "markdown",
   "id": "02adf2ec",
   "metadata": {},
   "source": [
    "# List Comprehension"
   ]
  },
  {
   "cell_type": "code",
   "execution_count": 96,
   "id": "03b45584",
   "metadata": {},
   "outputs": [
    {
     "data": {
      "text/plain": [
       "[1, 4, 9, 16, 25]"
      ]
     },
     "execution_count": 96,
     "metadata": {},
     "output_type": "execute_result"
    }
   ],
   "source": [
    "#list comprehension is used to transform one list into another list.during this transformationelements can be conditionally \n",
    "#inclued in the new list and we can also transform an element as needed\n",
    "sq_list=[]#squares of 1t05\n",
    "for i in range(1,6):#\n",
    "    sq_list.append(i*i)\n",
    "sq_list"
   ]
  },
  {
   "cell_type": "code",
   "execution_count": 98,
   "id": "0547348b",
   "metadata": {},
   "outputs": [
    {
     "data": {
      "text/plain": [
       "[1, 4, 9, 16, 25]"
      ]
     },
     "execution_count": 98,
     "metadata": {},
     "output_type": "execute_result"
    }
   ],
   "source": [
    "l1=[i*i for i in range(1,6)]#using list comprehension\n",
    "l1"
   ]
  },
  {
   "cell_type": "code",
   "execution_count": 104,
   "id": "b1a1c4ef",
   "metadata": {},
   "outputs": [
    {
     "data": {
      "text/plain": [
       "[0, 2, 4, 6, 8]"
      ]
     },
     "execution_count": 104,
     "metadata": {},
     "output_type": "execute_result"
    }
   ],
   "source": [
    "even_list=[]#using for loop\n",
    "for i in range(0,10,2):\n",
    "    even_list.append(i)\n",
    "even_list"
   ]
  },
  {
   "cell_type": "code",
   "execution_count": 102,
   "id": "65e867c3",
   "metadata": {},
   "outputs": [
    {
     "data": {
      "text/plain": [
       "[0, 2, 4, 6, 8]"
      ]
     },
     "execution_count": 102,
     "metadata": {},
     "output_type": "execute_result"
    }
   ],
   "source": [
    "even_list=[i for i in range(0,10,2)]#using list comprehension\n",
    "even_list"
   ]
  },
  {
   "cell_type": "code",
   "execution_count": 159,
   "id": "0af3527f",
   "metadata": {},
   "outputs": [
    {
     "data": {
      "text/plain": [
       "[2, 4, 6, 8, 10, 12, 14, 16, 18]"
      ]
     },
     "execution_count": 159,
     "metadata": {},
     "output_type": "execute_result"
    }
   ],
   "source": [
    "#even_list=[out_expresion input_expression if_condition]\n",
    "even_list=[i for i in range(1,20) if i%2==0]\n",
    "even_list"
   ]
  },
  {
   "cell_type": "code",
   "execution_count": 115,
   "id": "fbc8ec8d",
   "metadata": {},
   "outputs": [
    {
     "data": {
      "text/plain": [
       "[0, 3, 4, 9, 8, 15, 12, 21, 16, 27, 20, 33, 24, 39, 28, 45, 32, 51, 36, 57]"
      ]
     },
     "execution_count": 115,
     "metadata": {},
     "output_type": "execute_result"
    }
   ],
   "source": [
    "#new_num=[output_of_if_condition if_condition else else_condition_output input_expression]\n",
    "new_num=[num*2 if num%2==0 else num*3 for num in range(0,20)]#even num should be sq,odd num should be cube\n",
    "new_num"
   ]
  },
  {
   "cell_type": "code",
   "execution_count": 116,
   "id": "7c28e60e",
   "metadata": {},
   "outputs": [
    {
     "data": {
      "text/plain": [
       "[1, 1, 1, 2, 2, 2, 3, 3, 3, 4, 4, 4, 5, 5, 5]"
      ]
     },
     "execution_count": 116,
     "metadata": {},
     "output_type": "execute_result"
    }
   ],
   "source": [
    "output_1=[1,1,1,2,2,2,3,3,3,4,4,4,5,5,5]\n",
    "new_output_list=[]\n",
    "for i in range(1,6):\n",
    "    for j in range(3):\n",
    "        new_output_list.append(i)\n",
    "new_output_list"
   ]
  },
  {
   "cell_type": "code",
   "execution_count": 118,
   "id": "8f0b791c",
   "metadata": {},
   "outputs": [
    {
     "data": {
      "text/plain": [
       "[1, 1, 1, 2, 2, 2, 3, 3, 3, 4, 4, 4, 5, 5, 5]"
      ]
     },
     "execution_count": 118,
     "metadata": {},
     "output_type": "execute_result"
    }
   ],
   "source": [
    "#new_list_comp=[output_expression first_for_loop second_for_loop]\n",
    "new_list_comp=[i for i in range(1,6)     for j in range(3) ]\n",
    "new_list_comp"
   ]
  },
  {
   "cell_type": "code",
   "execution_count": 149,
   "id": "6d340a56",
   "metadata": {},
   "outputs": [
    {
     "name": "stdout",
     "output_type": "stream",
     "text": [
      "1\n",
      "1\n",
      "1\n",
      "\n",
      "2\n",
      "2\n",
      "2\n",
      "\n",
      "3\n",
      "3\n",
      "3\n",
      "\n",
      "4\n",
      "4\n",
      "4\n",
      "\n",
      "5\n",
      "5\n",
      "5\n",
      "\n"
     ]
    }
   ],
   "source": [
    "for i in range(1,6):\n",
    "    for j in range(3):\n",
    "        print(i)\n",
    "    print()"
   ]
  },
  {
   "cell_type": "code",
   "execution_count": 2,
   "id": "f5c2d0a7",
   "metadata": {},
   "outputs": [
    {
     "data": {
      "text/plain": [
       "[[1, 1, 1], [2, 2, 2], [3, 3, 3], [4, 4, 4], [5, 5, 5]]"
      ]
     },
     "execution_count": 2,
     "metadata": {},
     "output_type": "execute_result"
    }
   ],
   "source": [
    "outer_list=[]\n",
    "for i in range(1,6):\n",
    "    l1=[]\n",
    "    for j in range(3):\n",
    "        l1.append(i)\n",
    "    outer_list.append(l1)\n",
    "outer_list"
   ]
  },
  {
   "cell_type": "code",
   "execution_count": 10,
   "id": "7049431d",
   "metadata": {},
   "outputs": [
    {
     "data": {
      "text/plain": [
       "[[1, 1, 1], [2, 2, 2], [3, 3, 3], [4, 4, 4], [5, 5, 5]]"
      ]
     },
     "execution_count": 10,
     "metadata": {},
     "output_type": "execute_result"
    }
   ],
   "source": [
    "output_l=[[i for j in range(3) ]for i in range(1,6)]\n",
    "output_l"
   ]
  },
  {
   "cell_type": "code",
   "execution_count": 11,
   "id": "f673e160",
   "metadata": {},
   "outputs": [
    {
     "data": {
      "text/plain": [
       "{12: 2, 23: 2, 24: 1, 85: 1, 95: 1, 62: 1, 25: 1}"
      ]
     },
     "execution_count": 11,
     "metadata": {},
     "output_type": "execute_result"
    }
   ],
   "source": [
    "l1=[12,23,24,85,12,95,62,23,25]#occurance of each number \n",
    "d1={}\n",
    "for i in l1:\n",
    "    if i not in d1:\n",
    "        d1[i]=1\n",
    "    else:\n",
    "        d1[i]=d1[i]+1\n",
    "d1"
   ]
  },
  {
   "cell_type": "code",
   "execution_count": 12,
   "id": "84a42783",
   "metadata": {},
   "outputs": [
    {
     "name": "stdout",
     "output_type": "stream",
     "text": [
      "m\n",
      "y\n",
      " \n",
      "n\n",
      "a\n",
      "m\n",
      "e\n",
      " \n",
      "i\n",
      "s\n",
      " \n",
      "r\n",
      "o\n",
      "s\n",
      "h\n",
      "i\n",
      "n\n",
      "i\n"
     ]
    }
   ],
   "source": [
    "str1=\"my name is roshini\"\n",
    "for char in str1:\n",
    "    print(char)"
   ]
  },
  {
   "cell_type": "code",
   "execution_count": 17,
   "id": "e7737665",
   "metadata": {},
   "outputs": [
    {
     "name": "stdout",
     "output_type": "stream",
     "text": [
      "r\n",
      "r\n",
      "i\n",
      "m\n",
      "n\n",
      "a\n",
      "s\n"
     ]
    }
   ],
   "source": [
    "str1=\"roshini rapeti is my name and surname\"#first letter of my words in my string\n",
    "l1=str1.split(\" \")\n",
    "for i in l1:\n",
    "    print(i[0])"
   ]
  },
  {
   "cell_type": "code",
   "execution_count": 22,
   "id": "ba334fb2",
   "metadata": {},
   "outputs": [
    {
     "name": "stdout",
     "output_type": "stream",
     "text": [
      "num is armstrong number\n"
     ]
    }
   ],
   "source": [
    "#armstrong number-cube of every digit of the given number should be given number\n",
    "#example-153-1cube+5cube+3cube,1+125+27=153\n",
    "n=153\n",
    "n1=n\n",
    "sum1=0\n",
    "while n>0:\n",
    "    rem=n%10\n",
    "    sum1=sum1+rem**3\n",
    "    n=n//10\n",
    "if sum1==n1:\n",
    "    print(\"num is armstrong number\")\n",
    "else:\n",
    "    print(\"num is not armstrong number\")"
   ]
  },
  {
   "cell_type": "markdown",
   "id": "d134228c",
   "metadata": {},
   "source": [
    "# Function"
   ]
  },
  {
   "cell_type": "code",
   "execution_count": null,
   "id": "06c845a1",
   "metadata": {},
   "outputs": [],
   "source": [
    "#function-\n",
    "#user defined function(defined by user)\n",
    "#built in function(pre defined functions)-provided by python laguage that can use o perom common tasks\n",
    "#syntax:def function_name(arguments1,arguments2)\n",
    "            #satements"
   ]
  },
  {
   "cell_type": "code",
   "execution_count": 31,
   "id": "14b23cdb",
   "metadata": {},
   "outputs": [
    {
     "name": "stdout",
     "output_type": "stream",
     "text": [
      "enter first num:5\n",
      "enter second num:1\n",
      "6\n"
     ]
    }
   ],
   "source": [
    "def sum_fun(x,y):#using def function addition of two numbers\n",
    "    result=x+y\n",
    "    return result\n",
    "a=int(input(\"enter first num:\"))\n",
    "b=int(input(\"enter second num:\"))\n",
    "print(sum_fun(a,b))"
   ]
  },
  {
   "cell_type": "code",
   "execution_count": 38,
   "id": "c386be18",
   "metadata": {},
   "outputs": [
    {
     "name": "stdout",
     "output_type": "stream",
     "text": [
      "6\n"
     ]
    }
   ],
   "source": [
    "l1=[1,2,3,4,5,6]#length of list\n",
    "def length(l1):\n",
    "    length_list=len(l1)\n",
    "    return length_list\n",
    "print(length(l1))"
   ]
  },
  {
   "cell_type": "code",
   "execution_count": 41,
   "id": "6a619901",
   "metadata": {},
   "outputs": [
    {
     "data": {
      "text/plain": [
       "9"
      ]
     },
     "execution_count": 41,
     "metadata": {},
     "output_type": "execute_result"
    }
   ],
   "source": [
    "def length(list1):#length of list using for loop\n",
    "    count1=0\n",
    "    for i in list1:\n",
    "        count1=count1+1\n",
    "    return count1\n",
    "l1=[1,2,3,4,5,6,7,89,7]\n",
    "length(l1)"
   ]
  },
  {
   "cell_type": "code",
   "execution_count": 43,
   "id": "021f93b9",
   "metadata": {},
   "outputs": [
    {
     "name": "stdout",
     "output_type": "stream",
     "text": [
      "enter number:5\n",
      "120\n"
     ]
    }
   ],
   "source": [
    "def fact(num):#factorial using def function\n",
    "    fact=1\n",
    "    for i in range(1,num+1):\n",
    "        fact=fact*i\n",
    "    return fact\n",
    "n=int(input(\"enter number:\"))\n",
    "print(fact(n))"
   ]
  },
  {
   "cell_type": "code",
   "execution_count": null,
   "id": "e417b579",
   "metadata": {},
   "outputs": [],
   "source": [
    "a=\"a\"\"good\",a=\"b\"\"average,a=\"c\"\"below average\",a=\"poor\""
   ]
  },
  {
   "cell_type": "code",
   "execution_count": 54,
   "id": "6d971b8f",
   "metadata": {},
   "outputs": [
    {
     "name": "stdout",
     "output_type": "stream",
     "text": [
      "a\n",
      "a\n"
     ]
    }
   ],
   "source": [
    "def grade_check(str1):\n",
    "    print(str1[0])\n",
    "s1=input()\n",
    "a=grade_check(s1)"
   ]
  },
  {
   "cell_type": "code",
   "execution_count": 55,
   "id": "49d23f4f",
   "metadata": {},
   "outputs": [
    {
     "name": "stdout",
     "output_type": "stream",
     "text": [
      "poor\n"
     ]
    }
   ],
   "source": [
    "if a==\"a\":\n",
    "    print(\"good\")\n",
    "elif a==\"b\":\n",
    "    print(\"average\")\n",
    "elif a==\"c\":\n",
    "    print(\"below avg\")\n",
    "else:\n",
    "    print(\"poor\")"
   ]
  },
  {
   "cell_type": "code",
   "execution_count": 61,
   "id": "bda624ff",
   "metadata": {},
   "outputs": [
    {
     "name": "stdout",
     "output_type": "stream",
     "text": [
      "happy birthday roshini rapeti\n",
      "h\n",
      "b\n",
      "r\n",
      "r\n"
     ]
    }
   ],
   "source": [
    "def first_word(input_str):#function of first letter\n",
    "    str2=input_str.split(\" \")\n",
    "    for i in str2:\n",
    "        print(i[0])\n",
    "b=input()\n",
    "a=first_word(b)"
   ]
  },
  {
   "cell_type": "code",
   "execution_count": 11,
   "id": "9425ac35",
   "metadata": {},
   "outputs": [
    {
     "name": "stdout",
     "output_type": "stream",
     "text": [
      "21\n"
     ]
    }
   ],
   "source": [
    "#fibonacci sequence-0+1+1+2+3+5+8+13+21...\n",
    "num1=0\n",
    "num2=1\n",
    "n=20\n",
    "count=1\n",
    "while count<=n:\n",
    "    fib_n=num1+num2\n",
    "    num1+num2\n",
    "    num2=fib_n\n",
    "    count=count+1\n",
    "print(count)"
   ]
  },
  {
   "cell_type": "code",
   "execution_count": 23,
   "id": "0fe5fbd1",
   "metadata": {},
   "outputs": [
    {
     "name": "stdout",
     "output_type": "stream",
     "text": [
      "pair with sum==9: [(2, 7), (3, 6), (4, 5)]\n"
     ]
    }
   ],
   "source": [
    "l1=[1,2,3,4,5,6,7]#two number pair whose sum==9\n",
    "pair_sum=[]\n",
    "for i in range(len(l1)):\n",
    "    for j in range(i+1,len(l1)):\n",
    "        if l1[i]+l1[j]==9:\n",
    "            pair_sum.append((l1[i],l1[j]))\n",
    "print(\"pair with sum==9:\",pair_sum)"
   ]
  },
  {
   "cell_type": "markdown",
   "id": "a10bca8f",
   "metadata": {},
   "source": [
    "# Scope of a function,Lambda,Map,Filter,Reduce"
   ]
  },
  {
   "cell_type": "code",
   "execution_count": 58,
   "id": "22564e03",
   "metadata": {},
   "outputs": [],
   "source": [
    "a=10#global variable-it used out of loop only,if in def a is not there then it goes to local variable inside loop\n",
    "def func_1():\n",
    "    a=5\n",
    "    b1=20#local variable-only for def function \n",
    "    print(a)\n",
    "    print(id(a))\n",
    "    print(b1)"
   ]
  },
  {
   "cell_type": "code",
   "execution_count": 59,
   "id": "85d3f8bb",
   "metadata": {},
   "outputs": [
    {
     "name": "stdout",
     "output_type": "stream",
     "text": [
      "5\n",
      "140711756272552\n",
      "20\n",
      "10\n",
      "140711756272712\n"
     ]
    }
   ],
   "source": [
    "func_1()\n",
    "print(a)\n",
    "print(id(a))"
   ]
  },
  {
   "cell_type": "code",
   "execution_count": 9,
   "id": "418e2447",
   "metadata": {},
   "outputs": [
    {
     "name": "stdout",
     "output_type": "stream",
     "text": [
      "1 2 3 4 5 6 7 8 9 10 "
     ]
    }
   ],
   "source": [
    "#default parameters\n",
    "for i in range(1,11):#end is a default parameter\n",
    "    print(i,end=\" \")"
   ]
  },
  {
   "cell_type": "code",
   "execution_count": 13,
   "id": "d78bbf25",
   "metadata": {},
   "outputs": [
    {
     "name": "stdout",
     "output_type": "stream",
     "text": [
      "23\n"
     ]
    }
   ],
   "source": [
    "def sum1(a,b,c=0):\n",
    "    return a+b+c\n",
    "print(sum1(3,5,15))"
   ]
  },
  {
   "cell_type": "code",
   "execution_count": 17,
   "id": "fa6bf208",
   "metadata": {},
   "outputs": [
    {
     "name": "stdout",
     "output_type": "stream",
     "text": [
      "23\n"
     ]
    }
   ],
   "source": [
    "def sum1(a,b=0,c=0):#all non default parameters should come first and default parameters should come last\n",
    "    return a+b+c\n",
    "print(sum1(3,5,15))"
   ]
  },
  {
   "cell_type": "code",
   "execution_count": null,
   "id": "69e007fc",
   "metadata": {},
   "outputs": [],
   "source": [
    "#lambda-anonymous function\n",
    "#syntax:lambda arguments:expression\n",
    "#we cannot use for loop into lambda function"
   ]
  },
  {
   "cell_type": "code",
   "execution_count": 18,
   "id": "43871858",
   "metadata": {},
   "outputs": [
    {
     "data": {
      "text/plain": [
       "25"
      ]
     },
     "execution_count": 18,
     "metadata": {},
     "output_type": "execute_result"
    }
   ],
   "source": [
    "sq=lambda x :x*x\n",
    "sq(5)"
   ]
  },
  {
   "cell_type": "code",
   "execution_count": 21,
   "id": "51535f2f",
   "metadata": {},
   "outputs": [
    {
     "data": {
      "text/plain": [
       "'b is gt a'"
      ]
     },
     "execution_count": 21,
     "metadata": {},
     "output_type": "execute_result"
    }
   ],
   "source": [
    "check_ab=lambda a,b :\"a is gt b\" if a>b else \"b is gt a\"\n",
    "check_ab(5,6)"
   ]
  },
  {
   "cell_type": "code",
   "execution_count": 31,
   "id": "9527a5e1",
   "metadata": {},
   "outputs": [],
   "source": [
    "def pp(x):\n",
    "    for i in range(x):\n",
    "        print(i)"
   ]
  },
  {
   "cell_type": "code",
   "execution_count": 33,
   "id": "805b9530",
   "metadata": {},
   "outputs": [
    {
     "name": "stdout",
     "output_type": "stream",
     "text": [
      "0\n",
      "1\n",
      "2\n",
      "3\n",
      "4\n"
     ]
    }
   ],
   "source": [
    "for_loop=lambda x : pp(x)#we cannot use for loop into lambda function,insted you have to use def\n",
    "for_loop(5)"
   ]
  },
  {
   "cell_type": "code",
   "execution_count": 35,
   "id": "8fb5f4af",
   "metadata": {},
   "outputs": [
    {
     "data": {
      "text/plain": [
       "'odd'"
      ]
     },
     "execution_count": 35,
     "metadata": {},
     "output_type": "execute_result"
    }
   ],
   "source": [
    "x=lambda even :\"even\" if even%2==0 else \"odd\"#even num using lambda\n",
    "x(7)"
   ]
  },
  {
   "cell_type": "code",
   "execution_count": null,
   "id": "a18ade5c",
   "metadata": {},
   "outputs": [],
   "source": [
    "n= int(input(\"please enter number\"))#input by user even num\n",
    "a=lambda n:\"number is even\" if n%2==0 else \"number is odd\"\n",
    "print(a(40))"
   ]
  },
  {
   "cell_type": "code",
   "execution_count": null,
   "id": "dc4b0fbc",
   "metadata": {},
   "outputs": [],
   "source": [
    "#map:syntax:(fun,iter)"
   ]
  },
  {
   "cell_type": "code",
   "execution_count": null,
   "id": "04162589",
   "metadata": {},
   "outputs": [],
   "source": [
    "def sq(x):\n",
    "    return x"
   ]
  },
  {
   "cell_type": "code",
   "execution_count": 36,
   "id": "9a73ba3a",
   "metadata": {},
   "outputs": [],
   "source": [
    "num_list=[1,2,3,4,5,6,8,9,12]\n",
    "sq_num=list(map(lambda x:x*x,num_list))"
   ]
  },
  {
   "cell_type": "code",
   "execution_count": 41,
   "id": "4c6b5603",
   "metadata": {},
   "outputs": [
    {
     "data": {
      "text/plain": [
       "[1, 4, 9, 16, 25, 36, 64, 81, 144]"
      ]
     },
     "execution_count": 41,
     "metadata": {},
     "output_type": "execute_result"
    }
   ],
   "source": [
    "num_list=[1,2,3,4,5,6,8,9,12]\n",
    "sq_num=list(map(sq,num_list))\n",
    "sq_num"
   ]
  },
  {
   "cell_type": "code",
   "execution_count": 44,
   "id": "1e0d47e9",
   "metadata": {},
   "outputs": [
    {
     "data": {
      "text/plain": [
       "['Rosshi', 'Jaggu', 'Tony', 'Venu']"
      ]
     },
     "execution_count": 44,
     "metadata": {},
     "output_type": "execute_result"
    }
   ],
   "source": [
    "l1=[\"rosshi\",\"jaggu\",\"tony\",\"venu\"]#written first letter with capital letter#map#we can use tuple,dict\n",
    "list(map(lambda x:x.capitalize(),l1))"
   ]
  },
  {
   "cell_type": "code",
   "execution_count": 45,
   "id": "d41b1d2b",
   "metadata": {},
   "outputs": [
    {
     "data": {
      "text/plain": [
       "[8, 10, 12, 14, 16, 18]"
      ]
     },
     "execution_count": 45,
     "metadata": {},
     "output_type": "execute_result"
    }
   ],
   "source": [
    "l1=[1,2,3,4,5,6]\n",
    "l2=[7,8,9,10,11,12]\n",
    "list(map(lambda x,y:x+y,l1,l2))"
   ]
  },
  {
   "cell_type": "code",
   "execution_count": 46,
   "id": "6b616d8d",
   "metadata": {},
   "outputs": [
    {
     "data": {
      "text/plain": [
       "[6, 22]"
      ]
     },
     "execution_count": 46,
     "metadata": {},
     "output_type": "execute_result"
    }
   ],
   "source": [
    "#filter:syntax=filter(func,iter)\n",
    "l1=[6,25,85,45,22,75,41]#print even num in the list using filter and lambda\n",
    "list(filter(lambda x:x%2==0,l1))"
   ]
  },
  {
   "cell_type": "code",
   "execution_count": 47,
   "id": "072dda6b",
   "metadata": {},
   "outputs": [
    {
     "data": {
      "text/plain": [
       "['morning', 'evening', 'night', 'hellow', 'phone']"
      ]
     },
     "execution_count": 47,
     "metadata": {},
     "output_type": "execute_result"
    }
   ],
   "source": [
    "l2=[\"good\",\"morning\",\"evening\",\"night\",\"hellow\",\"phone\",\"hai\"]#filter,print length of word greater than 5\n",
    "list(filter(lambda x:len(x)>=5,l2))"
   ]
  },
  {
   "cell_type": "code",
   "execution_count": 48,
   "id": "023d7e2a",
   "metadata": {},
   "outputs": [
    {
     "data": {
      "text/plain": [
       "[3, 9, 11]"
      ]
     },
     "execution_count": 48,
     "metadata": {},
     "output_type": "execute_result"
    }
   ],
   "source": [
    "def is_prime(n):#prime number using def and filter\n",
    "    if n<2:\n",
    "        return False\n",
    "    for i in range(2,n):\n",
    "        if n%i==0:\n",
    "            return False\n",
    "        return True\n",
    "l1=[3,6,9,11,8]\n",
    "list(filter(is_prime,l1))"
   ]
  },
  {
   "cell_type": "code",
   "execution_count": 55,
   "id": "7f1c5569",
   "metadata": {},
   "outputs": [
    {
     "data": {
      "text/plain": [
       "28"
      ]
     },
     "execution_count": 55,
     "metadata": {},
     "output_type": "execute_result"
    }
   ],
   "source": [
    "from functools import reduce#reduce#functools is a library\n",
    "l1=[3,6,8,11]\n",
    "reduce(lambda x,y:x+y,l1)"
   ]
  },
  {
   "cell_type": "code",
   "execution_count": 1,
   "id": "9656c386",
   "metadata": {},
   "outputs": [
    {
     "data": {
      "text/plain": [
       "16"
      ]
     },
     "execution_count": 1,
     "metadata": {},
     "output_type": "execute_result"
    }
   ],
   "source": [
    "sq=lambda x:x*x#square of a num using lambda\n",
    "sq(4)"
   ]
  },
  {
   "cell_type": "code",
   "execution_count": 2,
   "id": "acda82d6",
   "metadata": {},
   "outputs": [
    {
     "name": "stdout",
     "output_type": "stream",
     "text": [
      "enter the tem in celsius:40\n",
      "104.0\n"
     ]
    }
   ],
   "source": [
    "def celsius_fahrenheit():#function which converts celsius into fahrenheit\n",
    "    f=(celsius*(9/5))+32\n",
    "    print(f)\n",
    "celsius=int(input(\"enter the tem in celsius:\"))\n",
    "celsius=celsius_fahrenheit()"
   ]
  },
  {
   "cell_type": "code",
   "execution_count": 3,
   "id": "d8696501",
   "metadata": {},
   "outputs": [
    {
     "name": "stdout",
     "output_type": "stream",
     "text": [
      "4520060\n"
     ]
    },
    {
     "data": {
      "text/plain": [
       "600254"
      ]
     },
     "execution_count": 3,
     "metadata": {},
     "output_type": "execute_result"
    }
   ],
   "source": [
    "def reverse_numer(num):#reverse of a num\n",
    "    reversed_num=0\n",
    "    while num > 0:\n",
    "        reminder = num % 10\n",
    "        reversed_num = reversed_num * 10 + reminder\n",
    "        num=num//10\n",
    "    return reversed_num\n",
    "number=int(input())\n",
    "reverse_numer(number)"
   ]
  },
  {
   "cell_type": "code",
   "execution_count": 4,
   "id": "8c657e6d",
   "metadata": {},
   "outputs": [
    {
     "name": "stdout",
     "output_type": "stream",
     "text": [
      "sum of 1st natural num: 15\n",
      "120\n"
     ]
    }
   ],
   "source": [
    "sum1=0#print sum of natural numbers another way\n",
    "def sum_n():\n",
    "    sum1=0\n",
    "    for i in range(1,16):\n",
    "        sum1=sum1+1\n",
    "    return sum1\n",
    "print(\"sum of 1st natural num:\",sum_n())\n",
    "for i in range(1,16):\n",
    "    sum1=sum1+i\n",
    "print(sum1)"
   ]
  },
  {
   "cell_type": "markdown",
   "id": "2aa06383",
   "metadata": {},
   "source": [
    "# File handling"
   ]
  },
  {
   "cell_type": "code",
   "execution_count": null,
   "id": "7e6d67a9",
   "metadata": {},
   "outputs": [],
   "source": [
    "#syntax-open(\"filename,mode\")\n",
    "#different modes\n",
    "#r=Mode-Read : it will open a file for reading purpose and it will return error if the file doesnot exists\n",
    "#a=Mode-Append : opens a file for appending,creates the file if does not exist,\n",
    "#w=Mode-Write : opens a file for writing,creates the file if it does not exist\n",
    "#open then read then write then close\n"
   ]
  },
  {
   "cell_type": "code",
   "execution_count": 2,
   "id": "7f0edb6a",
   "metadata": {},
   "outputs": [],
   "source": [
    "#file_object=open(\"filename\":\"mode\")#read,wrte,append,r+,w+,a+\n",
    "f1=open('paragraph','x')#x is the mode to create a new file"
   ]
  },
  {
   "cell_type": "code",
   "execution_count": 1,
   "id": "5d013e8e",
   "metadata": {},
   "outputs": [
    {
     "name": "stdout",
     "output_type": "stream",
     "text": [
      "Now that you've got a firm grasp on all the main keys of your keyboard, you will put them all together for some short paragraphs.\n"
     ]
    }
   ],
   "source": [
    "f1=open('paragraph.txt','r')#r is the mode to read the data and fetch the data from the file\n",
    "data=f1.read()\n",
    "print(data)"
   ]
  },
  {
   "cell_type": "code",
   "execution_count": 4,
   "id": "875ae046",
   "metadata": {},
   "outputs": [
    {
     "data": {
      "text/plain": [
       "46"
      ]
     },
     "execution_count": 4,
     "metadata": {},
     "output_type": "execute_result"
    }
   ],
   "source": [
    "f1=open('paragraph.txt','w')#w is the mode opens in write mode only,it overwrites the file(delets the old data and replace the data).if file doesnot exits it creates the new file\n",
    "f1.write(\"hai this is roshini rapeti from andhra pradesh\")"
   ]
  },
  {
   "cell_type": "code",
   "execution_count": 5,
   "id": "10340c45",
   "metadata": {},
   "outputs": [],
   "source": [
    "f1.close()#it close the file"
   ]
  },
  {
   "cell_type": "code",
   "execution_count": 59,
   "id": "d51a4c5a",
   "metadata": {},
   "outputs": [],
   "source": [
    "f1=open(\"paragraph.txt\")"
   ]
  },
  {
   "cell_type": "code",
   "execution_count": 41,
   "id": "4d140ad3",
   "metadata": {},
   "outputs": [
    {
     "name": "stdout",
     "output_type": "stream",
     "text": [
      "Now that y\n"
     ]
    }
   ],
   "source": [
    "text=f1.read(10)#it read untill 10th index\n",
    "print(text)"
   ]
  },
  {
   "cell_type": "code",
   "execution_count": 42,
   "id": "a122db89",
   "metadata": {},
   "outputs": [
    {
     "name": "stdout",
     "output_type": "stream",
     "text": [
      "ou've got a firm grasp on all the main keys of your keyboard, you will put them all together for some short paragraphs.\n",
      "\n"
     ]
    }
   ],
   "source": [
    "text=f1.readline()#it read first line from the file\n",
    "print(text)"
   ]
  },
  {
   "cell_type": "code",
   "execution_count": 43,
   "id": "cee9ca28",
   "metadata": {},
   "outputs": [
    {
     "name": "stdout",
     "output_type": "stream",
     "text": [
      "['It was one of those perfect southern California afternoons\\n']\n"
     ]
    }
   ],
   "source": [
    "text=f1.readlines(2)#it read the lines,here we gave 2 so second line will be printed\n",
    "print(text)"
   ]
  },
  {
   "cell_type": "code",
   "execution_count": 48,
   "id": "f7df18ba",
   "metadata": {},
   "outputs": [
    {
     "name": "stdout",
     "output_type": "stream",
     "text": [
      "[\"Now that you've got a firm grasp on all the main keys of your keyboard, you will put them all together for some short paragraphs.\\n\", 'It was one of those perfect southern California afternoons\\n', \"At first the professor scowled with concern. But then he said, that's all right.\\n\", 'Run to my house\\n', '\"Mrs. Esputa quickly fetched one of her husband\\'s white shirts']\n"
     ]
    }
   ],
   "source": [
    "text=f1.readlines()\n",
    "print(text)"
   ]
  },
  {
   "cell_type": "code",
   "execution_count": 49,
   "id": "998ebbca",
   "metadata": {},
   "outputs": [
    {
     "name": "stdout",
     "output_type": "stream",
     "text": [
      "At first the professor scowled with concern. But then he said, that's all right.\n",
      "\n"
     ]
    }
   ],
   "source": [
    "print(text[2])"
   ]
  },
  {
   "cell_type": "code",
   "execution_count": 60,
   "id": "78f49267",
   "metadata": {},
   "outputs": [
    {
     "data": {
      "text/plain": [
       "[\"Now that you've got a firm grasp on all the main keys of your keyboard, you will put them all together for some short paragraphs.\",\n",
       " 'It was one of those perfect southern California afternoons',\n",
       " \"At first the professor scowled with concern. But then he said, that's all right.\",\n",
       " 'Run to my house',\n",
       " '\"Mrs. Esputa quickly fetched one of her husband\\'s white shirts']"
      ]
     },
     "execution_count": 60,
     "metadata": {},
     "output_type": "execute_result"
    }
   ],
   "source": [
    "f1.read().splitlines()#it prints in new line without /n"
   ]
  },
  {
   "cell_type": "code",
   "execution_count": 62,
   "id": "0cbe6db0",
   "metadata": {},
   "outputs": [],
   "source": [
    "f1.close()"
   ]
  },
  {
   "cell_type": "code",
   "execution_count": null,
   "id": "f1823240",
   "metadata": {},
   "outputs": [],
   "source": [
    "#seek and tell\n",
    "#syntax-file_object.tell()-it tells the position of the cursor\n",
    "#syntax-file_object.seek(position the cursor you want to point)-it is used to change the position of the cursor"
   ]
  },
  {
   "cell_type": "code",
   "execution_count": 63,
   "id": "3f598dc7",
   "metadata": {},
   "outputs": [],
   "source": [
    "f1=open(\"paragraph.txt\")"
   ]
  },
  {
   "cell_type": "code",
   "execution_count": 64,
   "id": "c55e75b7",
   "metadata": {},
   "outputs": [
    {
     "data": {
      "text/plain": [
       "0"
      ]
     },
     "execution_count": 64,
     "metadata": {},
     "output_type": "execute_result"
    }
   ],
   "source": [
    "f1.tell()#it tells the position of the cursor"
   ]
  },
  {
   "cell_type": "code",
   "execution_count": 65,
   "id": "b9028d3f",
   "metadata": {},
   "outputs": [
    {
     "data": {
      "text/plain": [
       "15"
      ]
     },
     "execution_count": 65,
     "metadata": {},
     "output_type": "execute_result"
    }
   ],
   "source": [
    "f1.seek(15)#it is used to change the position of the cursor"
   ]
  },
  {
   "cell_type": "code",
   "execution_count": 66,
   "id": "b8d3e52e",
   "metadata": {},
   "outputs": [
    {
     "data": {
      "text/plain": [
       "15"
      ]
     },
     "execution_count": 66,
     "metadata": {},
     "output_type": "execute_result"
    }
   ],
   "source": [
    "f1.tell()"
   ]
  },
  {
   "cell_type": "code",
   "execution_count": 67,
   "id": "6e79eb64",
   "metadata": {},
   "outputs": [],
   "source": [
    "f1.close()"
   ]
  },
  {
   "cell_type": "code",
   "execution_count": 2,
   "id": "8a5d9a02",
   "metadata": {},
   "outputs": [],
   "source": [
    "f1=open(\"paragraph.txt\")"
   ]
  },
  {
   "cell_type": "code",
   "execution_count": 3,
   "id": "72d89054",
   "metadata": {},
   "outputs": [
    {
     "name": "stdout",
     "output_type": "stream",
     "text": [
      "<_io.TextIOWrapper name='paragraph.txt' mode='a' encoding='cp1252'>\n"
     ]
    }
   ],
   "source": [
    "f1=open(\"paragraph.txt\",'a')#apend\n",
    "print(f1)"
   ]
  },
  {
   "cell_type": "code",
   "execution_count": 4,
   "id": "67c3b413",
   "metadata": {},
   "outputs": [
    {
     "data": {
      "text/plain": [
       "98"
      ]
     },
     "execution_count": 4,
     "metadata": {},
     "output_type": "execute_result"
    }
   ],
   "source": [
    "f1.write(\"Stimulate your mind as you test your typing speed with this standard English paragraph typing test\")"
   ]
  },
  {
   "cell_type": "code",
   "execution_count": 5,
   "id": "e4953102",
   "metadata": {},
   "outputs": [],
   "source": [
    "f1.close()"
   ]
  },
  {
   "cell_type": "code",
   "execution_count": 8,
   "id": "fdf485aa",
   "metadata": {},
   "outputs": [
    {
     "name": "stdout",
     "output_type": "stream",
     "text": [
      "[\"Now that you've got a firm grasp on all the main keys of your keyboard, you will put them all together for some short paragraphs.\\n\", 'It was one of those perfect southern California afternoons\\n', \"At first the professor scowled with concern. But then he said, that's all right.\\n\", 'Run to my house\\n', '\"Mrs. Esputa quickly fetched one of her husband\\'s white shirtsStimulate your mind as you test your typing speed with this standard English paragraph typing test']\n"
     ]
    }
   ],
   "source": [
    "f1=open(\"paragraph.txt\",'r')#so it added the data of line 4 and appended to previous data \n",
    "text=f1.readlines()\n",
    "print(text)"
   ]
  },
  {
   "cell_type": "code",
   "execution_count": 9,
   "id": "ab34ac22",
   "metadata": {},
   "outputs": [],
   "source": [
    "f1.close()#after all the operations you have to close the file"
   ]
  },
  {
   "cell_type": "code",
   "execution_count": 11,
   "id": "2656f527",
   "metadata": {},
   "outputs": [],
   "source": [
    "f2=open('file2','x')#new file created"
   ]
  },
  {
   "cell_type": "code",
   "execution_count": 20,
   "id": "d1da8171",
   "metadata": {},
   "outputs": [],
   "source": [
    "f2.close()"
   ]
  },
  {
   "cell_type": "code",
   "execution_count": 21,
   "id": "9bff58de",
   "metadata": {},
   "outputs": [],
   "source": [
    "import os#it remove the file \n",
    "os.remove('file2')"
   ]
  },
  {
   "cell_type": "code",
   "execution_count": 22,
   "id": "399717b0",
   "metadata": {},
   "outputs": [],
   "source": [
    "def even_odd(l1):#sum of even and sum of odd\n",
    "    even=0\n",
    "    odd=0\n",
    "    for i in l1:\n",
    "        if i%2==0:\n",
    "            even=even+i\n",
    "        else:\n",
    "            odd=odd+i\n",
    "            \n",
    "    print(\"sum of even num in l1 is=\",even)\n",
    "    print(\"sum of even num in l1 is=\",odd)"
   ]
  },
  {
   "cell_type": "code",
   "execution_count": 23,
   "id": "03c8f4e9",
   "metadata": {},
   "outputs": [
    {
     "name": "stdout",
     "output_type": "stream",
     "text": [
      "sum of even num in l1 is= 16\n",
      "sum of even num in l1 is= 16\n"
     ]
    }
   ],
   "source": [
    "even_odd([1,6,8,7,3,2,5])"
   ]
  },
  {
   "cell_type": "code",
   "execution_count": 24,
   "id": "50d53c1a",
   "metadata": {},
   "outputs": [
    {
     "name": "stdout",
     "output_type": "stream",
     "text": [
      "5\n",
      "5 5 5 5 5 \n",
      "4 4 4 4 \n",
      "3 3 3 \n",
      "2 2 \n",
      "1 \n"
     ]
    }
   ],
   "source": [
    "num=int(input())#star pattern\n",
    "for i in range(num,0,-1):\n",
    "    for j in range(i):\n",
    "        print(i,end=\" \")\n",
    "    print()"
   ]
  },
  {
   "cell_type": "code",
   "execution_count": 26,
   "id": "259adad7",
   "metadata": {},
   "outputs": [
    {
     "name": "stdout",
     "output_type": "stream",
     "text": [
      "1 \n",
      "2 3 4 \n",
      "5 6 7 8 9 \n"
     ]
    }
   ],
   "source": [
    "cur_num=1#to print a pattern\n",
    "rows=3\n",
    "increasing=2\n",
    "for i in range(rows):\n",
    "    for j in range(1,increasing):\n",
    "        print(cur_num,end=\" \")\n",
    "        cur_num=cur_num+1\n",
    "    print()\n",
    "    increasing=increasing+2"
   ]
  },
  {
   "cell_type": "markdown",
   "id": "1c5890b6",
   "metadata": {},
   "source": [
    "# Exception Handling"
   ]
  },
  {
   "cell_type": "code",
   "execution_count": null,
   "id": "bf5cdd2f",
   "metadata": {},
   "outputs": [],
   "source": [
    "#we use exception handling to handle the errors\n",
    "#why we use exception handling?-it will make our application more robust and also prevent our application from crashing"
   ]
  },
  {
   "cell_type": "code",
   "execution_count": null,
   "id": "8f5f29b7",
   "metadata": {},
   "outputs": [],
   "source": [
    "try:\n",
    "    #what ever we want to do\n",
    "except:\n",
    "    #it will run when there will be an error in try block"
   ]
  },
  {
   "cell_type": "code",
   "execution_count": 6,
   "id": "7ee14d6d",
   "metadata": {},
   "outputs": [
    {
     "name": "stdout",
     "output_type": "stream",
     "text": [
      "enter numenator:20\n",
      "enter denominator:0\n",
      "please enter a valid number5\n",
      "4.0\n",
      "there is some issue in your code\n"
     ]
    }
   ],
   "source": [
    "try:#try and except areused to error handling.code within the try block is executed,and if an exception occurs,it is caught by except block\n",
    "    n=int(input(\"enter numenator:\"))\n",
    "    o=int(input(\"enter denominator:\"))\n",
    "    print(n/o)\n",
    "except:\n",
    "    m=int(input(\"please enter a valid number\"))\n",
    "    print(n/m)\n",
    "    print(\"there is some issue in your code\")"
   ]
  },
  {
   "cell_type": "code",
   "execution_count": 16,
   "id": "011e825e",
   "metadata": {},
   "outputs": [
    {
     "name": "stdout",
     "output_type": "stream",
     "text": [
      "enter numenator:2\n",
      "enter denominator:l\n",
      "looks like data type of numenator or denominator is not an integer value\n"
     ]
    }
   ],
   "source": [
    "try:\n",
    "    n=int(input(\"enter numenator:\"))\n",
    "    m=int(input(\"enter denominator:\"))\n",
    "    print(n/m)\n",
    "except ZeroDivisionError:\n",
    "    print(\"you have given 0 in denominator\")\n",
    "except ValueError:\n",
    "          print(\"looks like data type of numenator or denominator is not an integer value\")"
   ]
  },
  {
   "cell_type": "code",
   "execution_count": 22,
   "id": "3e79d16d",
   "metadata": {},
   "outputs": [
    {
     "name": "stdout",
     "output_type": "stream",
     "text": [
      "enter numenator:8\n",
      "enter denominator:l\n",
      "you have given 0 in denominator or looks like data type of numenator or denominator is not an integer value\n"
     ]
    }
   ],
   "source": [
    "try:#multiple exception at once\n",
    "    n=int(input(\"enter numenator:\"))\n",
    "    m=int(input(\"enter denominator:\"))\n",
    "    print(n/m)\n",
    "except (ZeroDivisionError,ValueError,NameError):\n",
    "    print(\"you have given 0 in denominator or looks like data type of numenator or denominator is not an integer value\")"
   ]
  },
  {
   "cell_type": "code",
   "execution_count": 9,
   "id": "3ba9c996",
   "metadata": {},
   "outputs": [
    {
     "name": "stdout",
     "output_type": "stream",
     "text": [
      "enter your name:roshi\n",
      "birth year:2003\n",
      "your name is roshi and age is 21\n"
     ]
    }
   ],
   "source": [
    "try:\n",
    "    name=input(\"enter your name:\")\n",
    "    year=input(\"birth year:\")\n",
    "    age=2024-int(year)\n",
    "    print(\"your name is\",name,\"and age is\",age)\n",
    "except TypeError:\n",
    "    print(\"please enter year in integer value\")\n",
    "except ValueError:\n",
    "    print(\"please check your input\")"
   ]
  },
  {
   "cell_type": "code",
   "execution_count": 17,
   "id": "0457bee8",
   "metadata": {},
   "outputs": [
    {
     "name": "stdout",
     "output_type": "stream",
     "text": [
      "enter the numinator:10\n",
      "enter the denominator:2\n",
      "hello\n",
      "5.0\n",
      "usually i run with try block\n",
      "i will run always\n"
     ]
    }
   ],
   "source": [
    "try:\n",
    "    n=int(input(\"enter the numinator:\"))\n",
    "    m=int(input(\"enter the denominator:\"))\n",
    "    if m==0:\n",
    "        raise ZeroDivisionError#raise-customerror\n",
    "    print(\"hello\")\n",
    "    value=n/m\n",
    "    print(value)\n",
    "except ValueError:\n",
    "    print(\"please enter valid value\")\n",
    "except ZeroDivisionError:\n",
    "    print(\"denminator should not be zero\")\n",
    "else:#if no error else block will be executed\n",
    "    print(\"usually i run with try block\")\n",
    "finally:#it always runs \n",
    "    print(\"i will run always\")"
   ]
  },
  {
   "cell_type": "code",
   "execution_count": 19,
   "id": "24940213",
   "metadata": {},
   "outputs": [
    {
     "name": "stdout",
     "output_type": "stream",
     "text": [
      "Something went wrong when opening the file\n"
     ]
    }
   ],
   "source": [
    "try:#so here we didnot enter mode so it say something went wrong\n",
    "  f= open(\"demofile.txt\")\n",
    "  try:\n",
    "    f.write(\"Lorum Ipsum\")\n",
    "  except:\n",
    "    print(\"Something went wrong when writing to the file\")\n",
    "  finally:#for this we use finally\n",
    "    f.close()\n",
    "except:\n",
    "  print(\"Something went wrong when opening the file\")  "
   ]
  },
  {
   "cell_type": "code",
   "execution_count": 6,
   "id": "909a29a2",
   "metadata": {},
   "outputs": [
    {
     "name": "stdout",
     "output_type": "stream",
     "text": [
      "enter the number:5\n"
     ]
    },
    {
     "data": {
      "text/plain": [
       "'number is present'"
      ]
     },
     "execution_count": 6,
     "metadata": {},
     "output_type": "execute_result"
    }
   ],
   "source": [
    "# do the element is present in list or not\n",
    "def find_num(l,n):\n",
    "    for i in l:\n",
    "        if i==n:\n",
    "            return \"number is present\"\n",
    "    return \"number is not present \"\n",
    "l1=[1,2,2,4,5,6,7]\n",
    "n=int(input(\"enter the number:\"))\n",
    "find_num(l1,n)"
   ]
  },
  {
   "cell_type": "code",
   "execution_count": 19,
   "id": "8157c6b0",
   "metadata": {},
   "outputs": [
    {
     "name": "stdout",
     "output_type": "stream",
     "text": [
      "enter the value:5\n",
      "5 is found in the list at index: 3\n"
     ]
    }
   ],
   "source": [
    "given_list=[2,3,4,5,6]# do the element is present in list or not,withount using def\n",
    "x=int(input(\"enter the value:\"))\n",
    "if x in given_list:\n",
    "    print(x,\"is found in the list at index:\",given_list.index(x))\n",
    "else:\n",
    "    print(x,\"is not found in the list\")"
   ]
  },
  {
   "cell_type": "code",
   "execution_count": 6,
   "id": "7ad06447",
   "metadata": {},
   "outputs": [
    {
     "data": {
      "text/plain": [
       "'itepaR inihsoR '"
      ]
     },
     "execution_count": 6,
     "metadata": {},
     "output_type": "execute_result"
    }
   ],
   "source": [
    "def reverse_string(s):#reverse_string\n",
    "    reverse_string=\" \"\n",
    "    for i in range(len(s)):\n",
    "        reverse_string=s[i]+reverse_string\n",
    "    return reverse_string\n",
    "str1=\"Roshini Rapeti\"\n",
    "reverse_string(str1)"
   ]
  },
  {
   "cell_type": "code",
   "execution_count": 19,
   "id": "59de0dcb",
   "metadata": {},
   "outputs": [
    {
     "name": "stdout",
     "output_type": "stream",
     "text": [
      "fedcba\n"
     ]
    }
   ],
   "source": [
    "strng=\"abcdef\"#reverse_string\n",
    "strng2=\"\"\n",
    "for i in range(len(strng)-1,-1,-1):\n",
    "    strng2=strng2+strng[i]\n",
    "print(strng2)"
   ]
  },
  {
   "cell_type": "markdown",
   "id": "24adf83b",
   "metadata": {},
   "source": [
    "# web scraping"
   ]
  },
  {
   "cell_type": "code",
   "execution_count": null,
   "id": "40c30636",
   "metadata": {},
   "outputs": [],
   "source": [
    "#we can fetch the data from website\n",
    "#web scraping is a technique for extracting information from the internet automatically using script that stimulates human web suffering\n",
    "#web scrapping helps us to extractlarge volumes from different websites\n",
    "#libreries for web scrapping:1)beautifulsoup,2)selenium,3)scrapy"
   ]
  },
  {
   "cell_type": "markdown",
   "id": "603d9506",
   "metadata": {},
   "source": [
    "# steps to do web scraping"
   ]
  },
  {
   "cell_type": "code",
   "execution_count": null,
   "id": "47a69034",
   "metadata": {},
   "outputs": [],
   "source": [
    "#1.find the url that you want to scrap\n",
    "#2.send an http request to that url and get html as response\n",
    "#3.parsing the html content\n",
    "#4.inspect the web page and find data that we want to extract\n",
    "#5.extract required data and store it in required format"
   ]
  },
  {
   "cell_type": "code",
   "execution_count": null,
   "id": "b9a32cd1",
   "metadata": {},
   "outputs": [],
   "source": [
    "<html>\n",
    "<head>and<title>\n",
    "<body>\n",
    "<h1>,<h2>,....,<h5>\n",
    "<photos>\n",
    "<append>\n",
    "<image>\n",
    "<table>"
   ]
  },
  {
   "cell_type": "code",
   "execution_count": 3,
   "id": "47f91d4c",
   "metadata": {},
   "outputs": [
    {
     "ename": "SyntaxError",
     "evalue": "invalid decimal literal (996523145.py, line 13)",
     "output_type": "error",
     "traceback": [
      "\u001b[1;36m  Cell \u001b[1;32mIn[3], line 13\u001b[1;36m\u001b[0m\n\u001b[1;33m    Lets look in to scraping using Beautifulsoup from <a href=https://beautiful-soup-4.readthedocs.io/en/latest/>here</a> #<a href=is used for attaching link a>\u001b[0m\n\u001b[1;37m                                                                                      ^\u001b[0m\n\u001b[1;31mSyntaxError\u001b[0m\u001b[1;31m:\u001b[0m invalid decimal literal\n"
     ]
    }
   ],
   "source": [
    "<!doctype html>#to run web page\n",
    "<html>\n",
    "<head>\n",
    "<title> New Web Page </title>\n",
    "</head>\n",
    "<body>\n",
    "<h1> Lets do web Scraping </h1>\n",
    "<p class='abc' id='first_para'>\n",
    "lets Learn\n",
    "<b>web scrapping</b>\n",
    "</p>\n",
    "<p class='abc' id=\"second para\">\n",
    "Lets look in to scraping using Beautifulsoup from <a href=https://beautiful-soup-4.readthedocs.io/en/latest/>here</a> #<a href=is used for attaching link a>\n",
    "</p>\n",
    "</body>\n",
    "</html>"
   ]
  },
  {
   "cell_type": "code",
   "execution_count": 18,
   "id": "0df4aa82",
   "metadata": {},
   "outputs": [],
   "source": [
    "html='<!doctype html>\\\n",
    "<html>\\\n",
    "<head>\\\n",
    "<title> New Web Page </title>\\\n",
    "</head>\\\n",
    "<body>\\\n",
    "<h1> Lets do web Scraping </h1>\\\n",
    "<p class=\"abc\"id=\"first_para\">\\\n",
    "let\\'s Learn\\\n",
    "<b>web scrapping</b>\\\n",
    "</p>\\\n",
    "<p class=\"abc\" id=\"second para\">\\\n",
    "Let\\'s look in to scraping using Beautifulsoup from <a href=https://beautiful-soup-4.readthedocs.io/en/latest/>here</a>\\\n",
    "</p>\\\n",
    "</body>\\\n",
    "</html>'"
   ]
  },
  {
   "cell_type": "code",
   "execution_count": 5,
   "id": "9d3e129e",
   "metadata": {},
   "outputs": [
    {
     "name": "stdout",
     "output_type": "stream",
     "text": [
      "Requirement already satisfied: bs4 in c:\\users\\msusersl123\\anaconda3\\lib\\site-packages (0.0.2)Note: you may need to restart the kernel to use updated packages.\n",
      "\n",
      "Requirement already satisfied: beautifulsoup4 in c:\\users\\msusersl123\\anaconda3\\lib\\site-packages (from bs4) (4.12.2)\n",
      "Requirement already satisfied: soupsieve>1.2 in c:\\users\\msusersl123\\anaconda3\\lib\\site-packages (from beautifulsoup4->bs4) (2.4)\n"
     ]
    }
   ],
   "source": [
    "pip install bs4"
   ]
  },
  {
   "cell_type": "code",
   "execution_count": 16,
   "id": "4131f456",
   "metadata": {},
   "outputs": [],
   "source": [
    "from bs4 import BeautifulSoup"
   ]
  },
  {
   "cell_type": "code",
   "execution_count": 19,
   "id": "a2aa7a22",
   "metadata": {},
   "outputs": [],
   "source": [
    "data=BeautifulSoup(html,\"html.parser\")#parser is used to analyzes the structure of given input"
   ]
  },
  {
   "cell_type": "code",
   "execution_count": 5,
   "id": "cb8b8387",
   "metadata": {},
   "outputs": [
    {
     "data": {
      "text/plain": [
       "<!DOCTYPE html>\n",
       "<html><head><title> New Web Page </title></head><body><h1> Lets do web Scraping </h1><p class=\"abc\" id=\"first_para\">let's Learn<b>web scrapping</b></p><p class=\"abc\" id=\"second para\">Let's look in to scraping using Beautifulsoup from <a href=\"https://beautiful-soup-4.readthedocs.io/en/latest/\">here</a></p></body></html>"
      ]
     },
     "execution_count": 5,
     "metadata": {},
     "output_type": "execute_result"
    }
   ],
   "source": [
    "data"
   ]
  },
  {
   "cell_type": "code",
   "execution_count": 20,
   "id": "be7d86aa",
   "metadata": {},
   "outputs": [
    {
     "name": "stdout",
     "output_type": "stream",
     "text": [
      "<!DOCTYPE html>\n",
      "<html>\n",
      " <head>\n",
      "  <title>\n",
      "   New Web Page\n",
      "  </title>\n",
      " </head>\n",
      " <body>\n",
      "  <h1>\n",
      "   Lets do web Scraping\n",
      "  </h1>\n",
      "  <p class=\"abc\" id=\"first_para\">\n",
      "   let's Learn\n",
      "   <b>\n",
      "    web scrapping\n",
      "   </b>\n",
      "  </p>\n",
      "  <p class=\"abc\" id=\"second para\">\n",
      "   Let's look in to scraping using Beautifulsoup from\n",
      "   <a href=\"https://beautiful-soup-4.readthedocs.io/en/latest/\">\n",
      "    here\n",
      "   </a>\n",
      "  </p>\n",
      " </body>\n",
      "</html>\n",
      "\n"
     ]
    }
   ],
   "source": [
    "print(data.prettify())#prettify is used to understand the formate or beautifying the code"
   ]
  },
  {
   "cell_type": "code",
   "execution_count": 7,
   "id": "67a6ce9c",
   "metadata": {},
   "outputs": [
    {
     "data": {
      "text/plain": [
       "<title> New Web Page </title>"
      ]
     },
     "execution_count": 7,
     "metadata": {},
     "output_type": "execute_result"
    }
   ],
   "source": [
    "data.title#to know the title of the web page"
   ]
  },
  {
   "cell_type": "code",
   "execution_count": 8,
   "id": "b40d8931",
   "metadata": {},
   "outputs": [
    {
     "data": {
      "text/plain": [
       "<head><title> New Web Page </title></head>"
      ]
     },
     "execution_count": 8,
     "metadata": {},
     "output_type": "execute_result"
    }
   ],
   "source": [
    "data.head#to know the head of the web page"
   ]
  },
  {
   "cell_type": "code",
   "execution_count": 9,
   "id": "0f865533",
   "metadata": {},
   "outputs": [
    {
     "data": {
      "text/plain": [
       "<h1> Lets do web Scraping </h1>"
      ]
     },
     "execution_count": 9,
     "metadata": {},
     "output_type": "execute_result"
    }
   ],
   "source": [
    "data.h1#to know the h1 in web page"
   ]
  },
  {
   "cell_type": "code",
   "execution_count": 21,
   "id": "f7bb87a7",
   "metadata": {},
   "outputs": [
    {
     "data": {
      "text/plain": [
       "<p class=\"abc\" id=\"first_para\">let's Learn<b>web scrapping</b></p>"
      ]
     },
     "execution_count": 21,
     "metadata": {},
     "output_type": "execute_result"
    }
   ],
   "source": [
    "data.p#we have two paragraph but we got only one paragraph "
   ]
  },
  {
   "cell_type": "code",
   "execution_count": 10,
   "id": "8ae6547e",
   "metadata": {},
   "outputs": [
    {
     "data": {
      "text/plain": [
       "{'class': ['abc'], 'id': 'first_para'}"
      ]
     },
     "execution_count": 10,
     "metadata": {},
     "output_type": "execute_result"
    }
   ],
   "source": [
    "data.p.attrs"
   ]
  },
  {
   "cell_type": "code",
   "execution_count": 26,
   "id": "a077e079",
   "metadata": {},
   "outputs": [
    {
     "data": {
      "text/plain": [
       "'first_para'"
      ]
     },
     "execution_count": 26,
     "metadata": {},
     "output_type": "execute_result"
    }
   ],
   "source": [
    "data.p['id']#paragraph ids"
   ]
  },
  {
   "cell_type": "code",
   "execution_count": 27,
   "id": "b7a87d5a",
   "metadata": {},
   "outputs": [
    {
     "data": {
      "text/plain": [
       "'first_para'"
      ]
     },
     "execution_count": 27,
     "metadata": {},
     "output_type": "execute_result"
    }
   ],
   "source": [
    "data.p.get('id')#paragraph id"
   ]
  },
  {
   "cell_type": "code",
   "execution_count": 22,
   "id": "0fac2086",
   "metadata": {},
   "outputs": [
    {
     "data": {
      "text/plain": [
       "\" New Web Page  Lets do web Scraping let's Learnweb scrappingLet's look in to scraping using Beautifulsoup from here\""
      ]
     },
     "execution_count": 22,
     "metadata": {},
     "output_type": "execute_result"
    }
   ],
   "source": [
    "data.get_text()#to access the information"
   ]
  },
  {
   "cell_type": "code",
   "execution_count": 29,
   "id": "6bf320dd",
   "metadata": {},
   "outputs": [
    {
     "data": {
      "text/plain": [
       "<p class=\"abc\" id=\"first_para\">lets Learn<b>web scrapping</b></p>"
      ]
     },
     "execution_count": 29,
     "metadata": {},
     "output_type": "execute_result"
    }
   ],
   "source": [
    "data.p#we got first para "
   ]
  },
  {
   "cell_type": "code",
   "execution_count": 15,
   "id": "61641b39",
   "metadata": {},
   "outputs": [
    {
     "data": {
      "text/plain": [
       "<p class=\"abc\" id=\"first_para\">let's Learn<b>web scrapping</b></p>"
      ]
     },
     "execution_count": 15,
     "metadata": {},
     "output_type": "execute_result"
    }
   ],
   "source": [
    "data.find(\"p\")#we got first para"
   ]
  },
  {
   "cell_type": "code",
   "execution_count": 32,
   "id": "e5bc196e",
   "metadata": {},
   "outputs": [
    {
     "data": {
      "text/plain": [
       "[<p class=\"abc\" id=\"first_para\">lets Learn<b>web scrapping</b></p>,\n",
       " <p class=\"abc\" id=\"second para\">Lets look in to scraping using Beautifulsoup from <a href=\"https://beautiful-soup-4.readthedocs.io/en/latest/\">here</a></p>]"
      ]
     },
     "execution_count": 32,
     "metadata": {},
     "output_type": "execute_result"
    }
   ],
   "source": [
    "data.find_all(\"p\")#we got all the paragraphs,if we want to acces paragraph one only we have to use loop"
   ]
  },
  {
   "cell_type": "code",
   "execution_count": 23,
   "id": "c2ba0b08",
   "metadata": {},
   "outputs": [
    {
     "name": "stdout",
     "output_type": "stream",
     "text": [
      "let's Learnweb scrapping\n",
      "Let's look in to scraping using Beautifulsoup from here\n"
     ]
    }
   ],
   "source": [
    "l1=data.find_all(\"p\")#we got all the paaragraph by loop\n",
    "for i in l1:\n",
    "    print(i.text)"
   ]
  },
  {
   "cell_type": "code",
   "execution_count": 20,
   "id": "8a008f84",
   "metadata": {},
   "outputs": [
    {
     "data": {
      "text/plain": [
       "[<p class=\"abc\" id=\"first_para\">let's Learn<b>web scrapping</b></p>,\n",
       " <p class=\"abc\" id=\"second para\">Let's look in to scraping using Beautifulsoup from <a href=\"https://beautiful-soup-4.readthedocs.io/en/latest/\">here</a></p>]"
      ]
     },
     "execution_count": 20,
     "metadata": {},
     "output_type": "execute_result"
    }
   ],
   "source": [
    "l1"
   ]
  },
  {
   "cell_type": "code",
   "execution_count": 25,
   "id": "c4b715ba",
   "metadata": {},
   "outputs": [],
   "source": [
    "j=data.find(id=\"second para\")"
   ]
  },
  {
   "cell_type": "code",
   "execution_count": 26,
   "id": "b4f618d5",
   "metadata": {},
   "outputs": [
    {
     "name": "stdout",
     "output_type": "stream",
     "text": [
      "<p class=\"abc\" id=\"second para\">Let's look in to scraping using Beautifulsoup from <a href=\"https://beautiful-soup-4.readthedocs.io/en/latest/\">here</a></p>\n"
     ]
    }
   ],
   "source": [
    "print(j)"
   ]
  },
  {
   "cell_type": "code",
   "execution_count": 15,
   "id": "21504237",
   "metadata": {},
   "outputs": [
    {
     "name": "stdout",
     "output_type": "stream",
     "text": [
      "Let's look in to scraping using Beautifulsoup from here\n"
     ]
    }
   ],
   "source": [
    "print(j.text)"
   ]
  },
  {
   "cell_type": "code",
   "execution_count": 27,
   "id": "fcfd9477",
   "metadata": {},
   "outputs": [
    {
     "name": "stdout",
     "output_type": "stream",
     "text": [
      "<title> New Web Page </title>\n",
      "title\n",
      " New Web Page \n"
     ]
    }
   ],
   "source": [
    "print(data.title)#if we want title we can access like this\n",
    "print(data.title.name)\n",
    "print(data.title.string)#if we have title different data type like integer and char mix also you have to give string only"
   ]
  },
  {
   "cell_type": "code",
   "execution_count": 28,
   "id": "c98f7833",
   "metadata": {},
   "outputs": [
    {
     "data": {
      "text/plain": [
       "[<h1> Lets do web Scraping </h1>,\n",
       " <p class=\"abc\" id=\"first_para\">let's Learn<b>web scrapping</b></p>,\n",
       " <p class=\"abc\" id=\"second para\">Let's look in to scraping using Beautifulsoup from <a href=\"https://beautiful-soup-4.readthedocs.io/en/latest/\">here</a></p>]"
      ]
     },
     "execution_count": 28,
     "metadata": {},
     "output_type": "execute_result"
    }
   ],
   "source": [
    "l2=data.find_all(['h1','p'])#if we want multiple tages you have to give in list\n",
    "l2"
   ]
  },
  {
   "cell_type": "code",
   "execution_count": 18,
   "id": "75cdc56d",
   "metadata": {},
   "outputs": [
    {
     "data": {
      "text/plain": [
       "[<p class=\"abc\" id=\"first_para\">let's Learn<b>web scrapping</b></p>,\n",
       " <p class=\"abc\" id=\"second para\">Let's look in to scraping using Beautifulsoup from <a href=\"https://beautiful-soup-4.readthedocs.io/en/latest/\">here</a></p>]"
      ]
     },
     "execution_count": 18,
     "metadata": {},
     "output_type": "execute_result"
    }
   ],
   "source": [
    "data.find_all(class_=\"abc\")#if we want to access with class then you have to given condition class_=\" \""
   ]
  },
  {
   "cell_type": "code",
   "execution_count": 29,
   "id": "4604bb1e",
   "metadata": {},
   "outputs": [
    {
     "name": "stdout",
     "output_type": "stream",
     "text": [
      "[' Lets do web Scraping ']\n",
      "[\"let's Learn\", 'web scrapping']\n",
      "[\"Let's look in to scraping using Beautifulsoup from \", 'here']\n"
     ]
    }
   ],
   "source": [
    "for i in l2:#if we want to access string from html we have to strings,becz it dont know which string to print\n",
    "    print(list(i.strings))#strings bcz it print all the strings "
   ]
  },
  {
   "cell_type": "code",
   "execution_count": 20,
   "id": "857904ed",
   "metadata": {},
   "outputs": [
    {
     "name": "stdout",
     "output_type": "stream",
     "text": [
      "['Lets do web Scraping']\n",
      "[\"let's Learn\", 'web scrapping']\n",
      "[\"Let's look in to scraping using Beautifulsoup from\", 'here']\n"
     ]
    }
   ],
   "source": [
    "for i in l2:\n",
    "    print(list(i.stripped_strings))"
   ]
  },
  {
   "cell_type": "code",
   "execution_count": 30,
   "id": "69deb47d",
   "metadata": {},
   "outputs": [],
   "source": [
    "#load the webpage using request library\n",
    "#parse the html\n",
    "import requests"
   ]
  },
  {
   "cell_type": "code",
   "execution_count": 31,
   "id": "a934c572",
   "metadata": {},
   "outputs": [],
   "source": [
    "response=requests.get('https://info.cern.ch/hypertext/WWW/TheProject.html')"
   ]
  },
  {
   "cell_type": "code",
   "execution_count": 32,
   "id": "a2f2689c",
   "metadata": {},
   "outputs": [
    {
     "data": {
      "text/plain": [
       "<Response [200]>"
      ]
     },
     "execution_count": 32,
     "metadata": {},
     "output_type": "execute_result"
    }
   ],
   "source": [
    "response"
   ]
  },
  {
   "cell_type": "code",
   "execution_count": 33,
   "id": "d3141f73",
   "metadata": {},
   "outputs": [],
   "source": [
    "html_d=response.text"
   ]
  },
  {
   "cell_type": "code",
   "execution_count": 34,
   "id": "6c812e55",
   "metadata": {},
   "outputs": [],
   "source": [
    "data=BeautifulSoup(html_d,'html.parser')"
   ]
  },
  {
   "cell_type": "code",
   "execution_count": 35,
   "id": "1dbb37d2",
   "metadata": {},
   "outputs": [
    {
     "data": {
      "text/plain": [
       "<header>\n",
       "<title>The World Wide Web project</title>\n",
       "<nextid n=\"55\"/>\n",
       "</header>\n",
       "<body>\n",
       "<h1>World Wide Web</h1>The WorldWideWeb (W3) is a wide-area<a href=\"WhatIs.html\" name=\"0\">\n",
       "hypermedia</a> information retrieval\n",
       "initiative aiming to give universal\n",
       "access to a large universe of documents.<p>\n",
       "Everything there is online about\n",
       "W3 is linked directly or indirectly\n",
       "to this document, including an <a href=\"Summary.html\" name=\"24\">executive\n",
       "summary</a> of the project, <a href=\"Administration/Mailing/Overview.html\" name=\"29\">Mailing lists</a>\n",
       ", <a href=\"Policy.html\" name=\"30\">Policy</a> , November's  <a href=\"News/9211.html\" name=\"34\">W3  news</a> ,\n",
       "<a href=\"FAQ/List.html\" name=\"41\">Frequently Asked Questions</a> .\n",
       "<dl>\n",
       "<dt><a href=\"../DataSources/Top.html\" name=\"44\">What's out there?</a>\n",
       "<dd> Pointers to the\n",
       "world's online information,<a href=\"../DataSources/bySubject/Overview.html\" name=\"45\"> subjects</a>\n",
       ", <a href=\"../DataSources/WWW/Servers.html\" name=\"z54\">W3 servers</a>, etc.\n",
       "<dt><a href=\"Help.html\" name=\"46\">Help</a>\n",
       "<dd> on the browser you are using\n",
       "<dt><a href=\"Status.html\" name=\"13\">Software Products</a>\n",
       "<dd> A list of W3 project\n",
       "components and their current state.\n",
       "(e.g. <a href=\"LineMode/Browser.html\" name=\"27\">Line Mode</a> ,X11 <a href=\"Status.html#35\" name=\"35\">Viola</a> ,  <a href=\"NeXT/WorldWideWeb.html\" name=\"26\">NeXTStep</a>\n",
       ", <a href=\"Daemon/Overview.html\" name=\"25\">Servers</a> , <a href=\"Tools/Overview.html\" name=\"51\">Tools</a> ,<a href=\"MailRobot/Overview.html\" name=\"53\"> Mail robot</a> ,<a href=\"Status.html#57\" name=\"52\">\n",
       "Library</a> )\n",
       "<dt><a href=\"Technical.html\" name=\"47\">Technical</a>\n",
       "<dd> Details of protocols, formats,\n",
       "program internals etc\n",
       "<dt><a href=\"Bibliography.html\" name=\"40\">Bibliography</a>\n",
       "<dd> Paper documentation\n",
       "on  W3 and references.\n",
       "<dt><a href=\"People.html\" name=\"14\">People</a>\n",
       "<dd> A list of some people involved\n",
       "in the project.\n",
       "<dt><a href=\"History.html\" name=\"15\">History</a>\n",
       "<dd> A summary of the history\n",
       "of the project.\n",
       "<dt><a href=\"Helping.html\" name=\"37\">How can I help</a> ?\n",
       "<dd> If you would like\n",
       "to support the web..\n",
       "<dt><a href=\"../README.html\" name=\"48\">Getting code</a>\n",
       "<dd> Getting the code by<a href=\"LineMode/Defaults/Distribution.html\" name=\"49\">\n",
       "anonymous FTP</a> , etc.\n",
       "</dd></dt></dd></dt></dd></dt></dd></dt></dd></dt></dd></dt></dd></dt></dd></dt></dd></dt></dl>\n",
       "</p></body>"
      ]
     },
     "execution_count": 35,
     "metadata": {},
     "output_type": "execute_result"
    }
   ],
   "source": [
    "data"
   ]
  },
  {
   "cell_type": "code",
   "execution_count": 36,
   "id": "209d695a",
   "metadata": {},
   "outputs": [
    {
     "name": "stdout",
     "output_type": "stream",
     "text": [
      "<header>\n",
      " <title>\n",
      "  The World Wide Web project\n",
      " </title>\n",
      " <nextid n=\"55\"/>\n",
      "</header>\n",
      "<body>\n",
      " <h1>\n",
      "  World Wide Web\n",
      " </h1>\n",
      " The WorldWideWeb (W3) is a wide-area\n",
      " <a href=\"WhatIs.html\" name=\"0\">\n",
      "  hypermedia\n",
      " </a>\n",
      " information retrieval\n",
      "initiative aiming to give universal\n",
      "access to a large universe of documents.\n",
      " <p>\n",
      "  Everything there is online about\n",
      "W3 is linked directly or indirectly\n",
      "to this document, including an\n",
      "  <a href=\"Summary.html\" name=\"24\">\n",
      "   executive\n",
      "summary\n",
      "  </a>\n",
      "  of the project,\n",
      "  <a href=\"Administration/Mailing/Overview.html\" name=\"29\">\n",
      "   Mailing lists\n",
      "  </a>\n",
      "  ,\n",
      "  <a href=\"Policy.html\" name=\"30\">\n",
      "   Policy\n",
      "  </a>\n",
      "  , November's\n",
      "  <a href=\"News/9211.html\" name=\"34\">\n",
      "   W3  news\n",
      "  </a>\n",
      "  ,\n",
      "  <a href=\"FAQ/List.html\" name=\"41\">\n",
      "   Frequently Asked Questions\n",
      "  </a>\n",
      "  .\n",
      "  <dl>\n",
      "   <dt>\n",
      "    <a href=\"../DataSources/Top.html\" name=\"44\">\n",
      "     What's out there?\n",
      "    </a>\n",
      "    <dd>\n",
      "     Pointers to the\n",
      "world's online information,\n",
      "     <a href=\"../DataSources/bySubject/Overview.html\" name=\"45\">\n",
      "      subjects\n",
      "     </a>\n",
      "     ,\n",
      "     <a href=\"../DataSources/WWW/Servers.html\" name=\"z54\">\n",
      "      W3 servers\n",
      "     </a>\n",
      "     , etc.\n",
      "     <dt>\n",
      "      <a href=\"Help.html\" name=\"46\">\n",
      "       Help\n",
      "      </a>\n",
      "      <dd>\n",
      "       on the browser you are using\n",
      "       <dt>\n",
      "        <a href=\"Status.html\" name=\"13\">\n",
      "         Software Products\n",
      "        </a>\n",
      "        <dd>\n",
      "         A list of W3 project\n",
      "components and their current state.\n",
      "(e.g.\n",
      "         <a href=\"LineMode/Browser.html\" name=\"27\">\n",
      "          Line Mode\n",
      "         </a>\n",
      "         ,X11\n",
      "         <a href=\"Status.html#35\" name=\"35\">\n",
      "          Viola\n",
      "         </a>\n",
      "         ,\n",
      "         <a href=\"NeXT/WorldWideWeb.html\" name=\"26\">\n",
      "          NeXTStep\n",
      "         </a>\n",
      "         ,\n",
      "         <a href=\"Daemon/Overview.html\" name=\"25\">\n",
      "          Servers\n",
      "         </a>\n",
      "         ,\n",
      "         <a href=\"Tools/Overview.html\" name=\"51\">\n",
      "          Tools\n",
      "         </a>\n",
      "         ,\n",
      "         <a href=\"MailRobot/Overview.html\" name=\"53\">\n",
      "          Mail robot\n",
      "         </a>\n",
      "         ,\n",
      "         <a href=\"Status.html#57\" name=\"52\">\n",
      "          Library\n",
      "         </a>\n",
      "         )\n",
      "         <dt>\n",
      "          <a href=\"Technical.html\" name=\"47\">\n",
      "           Technical\n",
      "          </a>\n",
      "          <dd>\n",
      "           Details of protocols, formats,\n",
      "program internals etc\n",
      "           <dt>\n",
      "            <a href=\"Bibliography.html\" name=\"40\">\n",
      "             Bibliography\n",
      "            </a>\n",
      "            <dd>\n",
      "             Paper documentation\n",
      "on  W3 and references.\n",
      "             <dt>\n",
      "              <a href=\"People.html\" name=\"14\">\n",
      "               People\n",
      "              </a>\n",
      "              <dd>\n",
      "               A list of some people involved\n",
      "in the project.\n",
      "               <dt>\n",
      "                <a href=\"History.html\" name=\"15\">\n",
      "                 History\n",
      "                </a>\n",
      "                <dd>\n",
      "                 A summary of the history\n",
      "of the project.\n",
      "                 <dt>\n",
      "                  <a href=\"Helping.html\" name=\"37\">\n",
      "                   How can I help\n",
      "                  </a>\n",
      "                  ?\n",
      "                  <dd>\n",
      "                   If you would like\n",
      "to support the web..\n",
      "                   <dt>\n",
      "                    <a href=\"../README.html\" name=\"48\">\n",
      "                     Getting code\n",
      "                    </a>\n",
      "                    <dd>\n",
      "                     Getting the code by\n",
      "                     <a href=\"LineMode/Defaults/Distribution.html\" name=\"49\">\n",
      "                      anonymous FTP\n",
      "                     </a>\n",
      "                     , etc.\n",
      "                    </dd>\n",
      "                   </dt>\n",
      "                  </dd>\n",
      "                 </dt>\n",
      "                </dd>\n",
      "               </dt>\n",
      "              </dd>\n",
      "             </dt>\n",
      "            </dd>\n",
      "           </dt>\n",
      "          </dd>\n",
      "         </dt>\n",
      "        </dd>\n",
      "       </dt>\n",
      "      </dd>\n",
      "     </dt>\n",
      "    </dd>\n",
      "   </dt>\n",
      "  </dl>\n",
      " </p>\n",
      "</body>\n",
      "\n"
     ]
    }
   ],
   "source": [
    "print(data.prettify())#structered format"
   ]
  },
  {
   "cell_type": "code",
   "execution_count": null,
   "id": "619654cf",
   "metadata": {},
   "outputs": [],
   "source": []
  },
  {
   "cell_type": "code",
   "execution_count": 29,
   "id": "13d255c1",
   "metadata": {},
   "outputs": [
    {
     "data": {
      "text/plain": [
       "<h1>World Wide Web</h1>"
      ]
     },
     "execution_count": 29,
     "metadata": {},
     "output_type": "execute_result"
    }
   ],
   "source": [
    "data.h1"
   ]
  },
  {
   "cell_type": "code",
   "execution_count": 24,
   "id": "f5b915ac",
   "metadata": {},
   "outputs": [
    {
     "data": {
      "text/plain": [
       "'World Wide Web'"
      ]
     },
     "execution_count": 24,
     "metadata": {},
     "output_type": "execute_result"
    }
   ],
   "source": [
    "data.h1.string"
   ]
  },
  {
   "cell_type": "code",
   "execution_count": 25,
   "id": "f2c3a3be",
   "metadata": {},
   "outputs": [
    {
     "data": {
      "text/plain": [
       "\"\\nThe World Wide Web project\\n\\n\\n\\nWorld Wide WebThe WorldWideWeb (W3) is a wide-area\\nhypermedia information retrieval\\ninitiative aiming to give universal\\naccess to a large universe of documents.\\nEverything there is online about\\nW3 is linked directly or indirectly\\nto this document, including an executive\\nsummary of the project, Mailing lists\\n, Policy , November's  W3  news ,\\nFrequently Asked Questions .\\n\\nWhat's out there?\\n Pointers to the\\nworld's online information, subjects\\n, W3 servers, etc.\\nHelp\\n on the browser you are using\\nSoftware Products\\n A list of W3 project\\ncomponents and their current state.\\n(e.g. Line Mode ,X11 Viola ,  NeXTStep\\n, Servers , Tools , Mail robot ,\\nLibrary )\\nTechnical\\n Details of protocols, formats,\\nprogram internals etc\\nBibliography\\n Paper documentation\\non  W3 and references.\\nPeople\\n A list of some people involved\\nin the project.\\nHistory\\n A summary of the history\\nof the project.\\nHow can I help ?\\n If you would like\\nto support the web..\\nGetting code\\n Getting the code by\\nanonymous FTP , etc.\\n\\n\\n\""
      ]
     },
     "execution_count": 25,
     "metadata": {},
     "output_type": "execute_result"
    }
   ],
   "source": [
    "data.text"
   ]
  },
  {
   "cell_type": "code",
   "execution_count": 37,
   "id": "4fe6cdf5",
   "metadata": {},
   "outputs": [
    {
     "data": {
      "text/plain": [
       "[<a href=\"WhatIs.html\" name=\"0\">\n",
       " hypermedia</a>,\n",
       " <a href=\"Summary.html\" name=\"24\">executive\n",
       " summary</a>,\n",
       " <a href=\"Administration/Mailing/Overview.html\" name=\"29\">Mailing lists</a>,\n",
       " <a href=\"Policy.html\" name=\"30\">Policy</a>,\n",
       " <a href=\"News/9211.html\" name=\"34\">W3  news</a>,\n",
       " <a href=\"FAQ/List.html\" name=\"41\">Frequently Asked Questions</a>,\n",
       " <a href=\"../DataSources/Top.html\" name=\"44\">What's out there?</a>,\n",
       " <a href=\"../DataSources/bySubject/Overview.html\" name=\"45\"> subjects</a>,\n",
       " <a href=\"../DataSources/WWW/Servers.html\" name=\"z54\">W3 servers</a>,\n",
       " <a href=\"Help.html\" name=\"46\">Help</a>,\n",
       " <a href=\"Status.html\" name=\"13\">Software Products</a>,\n",
       " <a href=\"LineMode/Browser.html\" name=\"27\">Line Mode</a>,\n",
       " <a href=\"Status.html#35\" name=\"35\">Viola</a>,\n",
       " <a href=\"NeXT/WorldWideWeb.html\" name=\"26\">NeXTStep</a>,\n",
       " <a href=\"Daemon/Overview.html\" name=\"25\">Servers</a>,\n",
       " <a href=\"Tools/Overview.html\" name=\"51\">Tools</a>,\n",
       " <a href=\"MailRobot/Overview.html\" name=\"53\"> Mail robot</a>,\n",
       " <a href=\"Status.html#57\" name=\"52\">\n",
       " Library</a>,\n",
       " <a href=\"Technical.html\" name=\"47\">Technical</a>,\n",
       " <a href=\"Bibliography.html\" name=\"40\">Bibliography</a>,\n",
       " <a href=\"People.html\" name=\"14\">People</a>,\n",
       " <a href=\"History.html\" name=\"15\">History</a>,\n",
       " <a href=\"Helping.html\" name=\"37\">How can I help</a>,\n",
       " <a href=\"../README.html\" name=\"48\">Getting code</a>,\n",
       " <a href=\"LineMode/Defaults/Distribution.html\" name=\"49\">\n",
       " anonymous FTP</a>]"
      ]
     },
     "execution_count": 37,
     "metadata": {},
     "output_type": "execute_result"
    }
   ],
   "source": [
    "l1=data.find_all('a')#if we want to print all hyperlinks \n",
    "l1"
   ]
  },
  {
   "cell_type": "code",
   "execution_count": 38,
   "id": "50fc7e1b",
   "metadata": {},
   "outputs": [
    {
     "name": "stdout",
     "output_type": "stream",
     "text": [
      "\n",
      "hypermedia\n",
      "executive\n",
      "summary\n",
      "Mailing lists\n",
      "Policy\n",
      "W3  news\n",
      "Frequently Asked Questions\n",
      "What's out there?\n",
      " subjects\n",
      "W3 servers\n",
      "Help\n",
      "Software Products\n",
      "Line Mode\n",
      "Viola\n",
      "NeXTStep\n",
      "Servers\n",
      "Tools\n",
      " Mail robot\n",
      "\n",
      "Library\n",
      "Technical\n",
      "Bibliography\n",
      "People\n",
      "History\n",
      "How can I help\n",
      "Getting code\n",
      "\n",
      "anonymous FTP\n"
     ]
    }
   ],
   "source": [
    "for i in l1:#if we want to find text of each tag then i.string\n",
    "    print(i.string)"
   ]
  },
  {
   "cell_type": "code",
   "execution_count": 39,
   "id": "e0ca9443",
   "metadata": {},
   "outputs": [
    {
     "name": "stdout",
     "output_type": "stream",
     "text": [
      "WhatIs.html\n",
      "Summary.html\n",
      "Administration/Mailing/Overview.html\n",
      "Policy.html\n",
      "News/9211.html\n",
      "FAQ/List.html\n",
      "../DataSources/Top.html\n",
      "../DataSources/bySubject/Overview.html\n",
      "../DataSources/WWW/Servers.html\n",
      "Help.html\n",
      "Status.html\n",
      "LineMode/Browser.html\n",
      "Status.html#35\n",
      "NeXT/WorldWideWeb.html\n",
      "Daemon/Overview.html\n",
      "Tools/Overview.html\n",
      "MailRobot/Overview.html\n",
      "Status.html#57\n",
      "Technical.html\n",
      "Bibliography.html\n",
      "People.html\n",
      "History.html\n",
      "Helping.html\n",
      "../README.html\n",
      "LineMode/Defaults/Distribution.html\n"
     ]
    }
   ],
   "source": [
    "for i in l1:#it prints all the herf values,if we want to find parameter value then i.['href']\n",
    "    print(i['href'])"
   ]
  },
  {
   "cell_type": "code",
   "execution_count": 40,
   "id": "1ff4637b",
   "metadata": {},
   "outputs": [
    {
     "data": {
      "text/plain": [
       "[<a href=\"../DataSources/Top.html\" name=\"44\">What's out there?</a>,\n",
       " <a href=\"../DataSources/bySubject/Overview.html\" name=\"45\"> subjects</a>,\n",
       " <a href=\"../DataSources/WWW/Servers.html\" name=\"z54\">W3 servers</a>,\n",
       " <a href=\"Help.html\" name=\"46\">Help</a>,\n",
       " <a href=\"Status.html\" name=\"13\">Software Products</a>,\n",
       " <a href=\"LineMode/Browser.html\" name=\"27\">Line Mode</a>,\n",
       " <a href=\"Status.html#35\" name=\"35\">Viola</a>,\n",
       " <a href=\"NeXT/WorldWideWeb.html\" name=\"26\">NeXTStep</a>,\n",
       " <a href=\"Daemon/Overview.html\" name=\"25\">Servers</a>,\n",
       " <a href=\"Tools/Overview.html\" name=\"51\">Tools</a>,\n",
       " <a href=\"MailRobot/Overview.html\" name=\"53\"> Mail robot</a>,\n",
       " <a href=\"Status.html#57\" name=\"52\">\n",
       " Library</a>,\n",
       " <a href=\"Technical.html\" name=\"47\">Technical</a>,\n",
       " <a href=\"Bibliography.html\" name=\"40\">Bibliography</a>,\n",
       " <a href=\"People.html\" name=\"14\">People</a>,\n",
       " <a href=\"History.html\" name=\"15\">History</a>,\n",
       " <a href=\"Helping.html\" name=\"37\">How can I help</a>,\n",
       " <a href=\"../README.html\" name=\"48\">Getting code</a>,\n",
       " <a href=\"LineMode/Defaults/Distribution.html\" name=\"49\">\n",
       " anonymous FTP</a>]"
      ]
     },
     "execution_count": 40,
     "metadata": {},
     "output_type": "execute_result"
    }
   ],
   "source": [
    "l2=data.dl.find_all(\"a\")#fetching from particular region dl\n",
    "l2"
   ]
  },
  {
   "cell_type": "code",
   "execution_count": 41,
   "id": "ba1c460d",
   "metadata": {},
   "outputs": [
    {
     "data": {
      "text/plain": [
       "[<dt><a href=\"../DataSources/Top.html\" name=\"44\">What's out there?</a>\n",
       " <dd> Pointers to the\n",
       " world's online information,<a href=\"../DataSources/bySubject/Overview.html\" name=\"45\"> subjects</a>\n",
       " , <a href=\"../DataSources/WWW/Servers.html\" name=\"z54\">W3 servers</a>, etc.\n",
       " <dt><a href=\"Help.html\" name=\"46\">Help</a>\n",
       " <dd> on the browser you are using\n",
       " <dt><a href=\"Status.html\" name=\"13\">Software Products</a>\n",
       " <dd> A list of W3 project\n",
       " components and their current state.\n",
       " (e.g. <a href=\"LineMode/Browser.html\" name=\"27\">Line Mode</a> ,X11 <a href=\"Status.html#35\" name=\"35\">Viola</a> ,  <a href=\"NeXT/WorldWideWeb.html\" name=\"26\">NeXTStep</a>\n",
       " , <a href=\"Daemon/Overview.html\" name=\"25\">Servers</a> , <a href=\"Tools/Overview.html\" name=\"51\">Tools</a> ,<a href=\"MailRobot/Overview.html\" name=\"53\"> Mail robot</a> ,<a href=\"Status.html#57\" name=\"52\">\n",
       " Library</a> )\n",
       " <dt><a href=\"Technical.html\" name=\"47\">Technical</a>\n",
       " <dd> Details of protocols, formats,\n",
       " program internals etc\n",
       " <dt><a href=\"Bibliography.html\" name=\"40\">Bibliography</a>\n",
       " <dd> Paper documentation\n",
       " on  W3 and references.\n",
       " <dt><a href=\"People.html\" name=\"14\">People</a>\n",
       " <dd> A list of some people involved\n",
       " in the project.\n",
       " <dt><a href=\"History.html\" name=\"15\">History</a>\n",
       " <dd> A summary of the history\n",
       " of the project.\n",
       " <dt><a href=\"Helping.html\" name=\"37\">How can I help</a> ?\n",
       " <dd> If you would like\n",
       " to support the web..\n",
       " <dt><a href=\"../README.html\" name=\"48\">Getting code</a>\n",
       " <dd> Getting the code by<a href=\"LineMode/Defaults/Distribution.html\" name=\"49\">\n",
       " anonymous FTP</a> , etc.\n",
       " </dd></dt></dd></dt></dd></dt></dd></dt></dd></dt></dd></dt></dd></dt></dd></dt></dd></dt>,\n",
       " <dt><a href=\"Help.html\" name=\"46\">Help</a>\n",
       " <dd> on the browser you are using\n",
       " <dt><a href=\"Status.html\" name=\"13\">Software Products</a>\n",
       " <dd> A list of W3 project\n",
       " components and their current state.\n",
       " (e.g. <a href=\"LineMode/Browser.html\" name=\"27\">Line Mode</a> ,X11 <a href=\"Status.html#35\" name=\"35\">Viola</a> ,  <a href=\"NeXT/WorldWideWeb.html\" name=\"26\">NeXTStep</a>\n",
       " , <a href=\"Daemon/Overview.html\" name=\"25\">Servers</a> , <a href=\"Tools/Overview.html\" name=\"51\">Tools</a> ,<a href=\"MailRobot/Overview.html\" name=\"53\"> Mail robot</a> ,<a href=\"Status.html#57\" name=\"52\">\n",
       " Library</a> )\n",
       " <dt><a href=\"Technical.html\" name=\"47\">Technical</a>\n",
       " <dd> Details of protocols, formats,\n",
       " program internals etc\n",
       " <dt><a href=\"Bibliography.html\" name=\"40\">Bibliography</a>\n",
       " <dd> Paper documentation\n",
       " on  W3 and references.\n",
       " <dt><a href=\"People.html\" name=\"14\">People</a>\n",
       " <dd> A list of some people involved\n",
       " in the project.\n",
       " <dt><a href=\"History.html\" name=\"15\">History</a>\n",
       " <dd> A summary of the history\n",
       " of the project.\n",
       " <dt><a href=\"Helping.html\" name=\"37\">How can I help</a> ?\n",
       " <dd> If you would like\n",
       " to support the web..\n",
       " <dt><a href=\"../README.html\" name=\"48\">Getting code</a>\n",
       " <dd> Getting the code by<a href=\"LineMode/Defaults/Distribution.html\" name=\"49\">\n",
       " anonymous FTP</a> , etc.\n",
       " </dd></dt></dd></dt></dd></dt></dd></dt></dd></dt></dd></dt></dd></dt></dd></dt>,\n",
       " <dt><a href=\"Status.html\" name=\"13\">Software Products</a>\n",
       " <dd> A list of W3 project\n",
       " components and their current state.\n",
       " (e.g. <a href=\"LineMode/Browser.html\" name=\"27\">Line Mode</a> ,X11 <a href=\"Status.html#35\" name=\"35\">Viola</a> ,  <a href=\"NeXT/WorldWideWeb.html\" name=\"26\">NeXTStep</a>\n",
       " , <a href=\"Daemon/Overview.html\" name=\"25\">Servers</a> , <a href=\"Tools/Overview.html\" name=\"51\">Tools</a> ,<a href=\"MailRobot/Overview.html\" name=\"53\"> Mail robot</a> ,<a href=\"Status.html#57\" name=\"52\">\n",
       " Library</a> )\n",
       " <dt><a href=\"Technical.html\" name=\"47\">Technical</a>\n",
       " <dd> Details of protocols, formats,\n",
       " program internals etc\n",
       " <dt><a href=\"Bibliography.html\" name=\"40\">Bibliography</a>\n",
       " <dd> Paper documentation\n",
       " on  W3 and references.\n",
       " <dt><a href=\"People.html\" name=\"14\">People</a>\n",
       " <dd> A list of some people involved\n",
       " in the project.\n",
       " <dt><a href=\"History.html\" name=\"15\">History</a>\n",
       " <dd> A summary of the history\n",
       " of the project.\n",
       " <dt><a href=\"Helping.html\" name=\"37\">How can I help</a> ?\n",
       " <dd> If you would like\n",
       " to support the web..\n",
       " <dt><a href=\"../README.html\" name=\"48\">Getting code</a>\n",
       " <dd> Getting the code by<a href=\"LineMode/Defaults/Distribution.html\" name=\"49\">\n",
       " anonymous FTP</a> , etc.\n",
       " </dd></dt></dd></dt></dd></dt></dd></dt></dd></dt></dd></dt></dd></dt>,\n",
       " <dt><a href=\"Technical.html\" name=\"47\">Technical</a>\n",
       " <dd> Details of protocols, formats,\n",
       " program internals etc\n",
       " <dt><a href=\"Bibliography.html\" name=\"40\">Bibliography</a>\n",
       " <dd> Paper documentation\n",
       " on  W3 and references.\n",
       " <dt><a href=\"People.html\" name=\"14\">People</a>\n",
       " <dd> A list of some people involved\n",
       " in the project.\n",
       " <dt><a href=\"History.html\" name=\"15\">History</a>\n",
       " <dd> A summary of the history\n",
       " of the project.\n",
       " <dt><a href=\"Helping.html\" name=\"37\">How can I help</a> ?\n",
       " <dd> If you would like\n",
       " to support the web..\n",
       " <dt><a href=\"../README.html\" name=\"48\">Getting code</a>\n",
       " <dd> Getting the code by<a href=\"LineMode/Defaults/Distribution.html\" name=\"49\">\n",
       " anonymous FTP</a> , etc.\n",
       " </dd></dt></dd></dt></dd></dt></dd></dt></dd></dt></dd></dt>,\n",
       " <dt><a href=\"Bibliography.html\" name=\"40\">Bibliography</a>\n",
       " <dd> Paper documentation\n",
       " on  W3 and references.\n",
       " <dt><a href=\"People.html\" name=\"14\">People</a>\n",
       " <dd> A list of some people involved\n",
       " in the project.\n",
       " <dt><a href=\"History.html\" name=\"15\">History</a>\n",
       " <dd> A summary of the history\n",
       " of the project.\n",
       " <dt><a href=\"Helping.html\" name=\"37\">How can I help</a> ?\n",
       " <dd> If you would like\n",
       " to support the web..\n",
       " <dt><a href=\"../README.html\" name=\"48\">Getting code</a>\n",
       " <dd> Getting the code by<a href=\"LineMode/Defaults/Distribution.html\" name=\"49\">\n",
       " anonymous FTP</a> , etc.\n",
       " </dd></dt></dd></dt></dd></dt></dd></dt></dd></dt>,\n",
       " <dt><a href=\"People.html\" name=\"14\">People</a>\n",
       " <dd> A list of some people involved\n",
       " in the project.\n",
       " <dt><a href=\"History.html\" name=\"15\">History</a>\n",
       " <dd> A summary of the history\n",
       " of the project.\n",
       " <dt><a href=\"Helping.html\" name=\"37\">How can I help</a> ?\n",
       " <dd> If you would like\n",
       " to support the web..\n",
       " <dt><a href=\"../README.html\" name=\"48\">Getting code</a>\n",
       " <dd> Getting the code by<a href=\"LineMode/Defaults/Distribution.html\" name=\"49\">\n",
       " anonymous FTP</a> , etc.\n",
       " </dd></dt></dd></dt></dd></dt></dd></dt>,\n",
       " <dt><a href=\"History.html\" name=\"15\">History</a>\n",
       " <dd> A summary of the history\n",
       " of the project.\n",
       " <dt><a href=\"Helping.html\" name=\"37\">How can I help</a> ?\n",
       " <dd> If you would like\n",
       " to support the web..\n",
       " <dt><a href=\"../README.html\" name=\"48\">Getting code</a>\n",
       " <dd> Getting the code by<a href=\"LineMode/Defaults/Distribution.html\" name=\"49\">\n",
       " anonymous FTP</a> , etc.\n",
       " </dd></dt></dd></dt></dd></dt>,\n",
       " <dt><a href=\"Helping.html\" name=\"37\">How can I help</a> ?\n",
       " <dd> If you would like\n",
       " to support the web..\n",
       " <dt><a href=\"../README.html\" name=\"48\">Getting code</a>\n",
       " <dd> Getting the code by<a href=\"LineMode/Defaults/Distribution.html\" name=\"49\">\n",
       " anonymous FTP</a> , etc.\n",
       " </dd></dt></dd></dt>,\n",
       " <dt><a href=\"../README.html\" name=\"48\">Getting code</a>\n",
       " <dd> Getting the code by<a href=\"LineMode/Defaults/Distribution.html\" name=\"49\">\n",
       " anonymous FTP</a> , etc.\n",
       " </dd></dt>]"
      ]
     },
     "execution_count": 41,
     "metadata": {},
     "output_type": "execute_result"
    }
   ],
   "source": [
    "l3=data.dl.find_all(\"dt\")#fetching from particular region dt\n",
    "l3"
   ]
  },
  {
   "cell_type": "code",
   "execution_count": 33,
   "id": "38ec4216",
   "metadata": {},
   "outputs": [
    {
     "ename": "NameError",
     "evalue": "name 'l3' is not defined",
     "output_type": "error",
     "traceback": [
      "\u001b[1;31m---------------------------------------------------------------------------\u001b[0m",
      "\u001b[1;31mNameError\u001b[0m                                 Traceback (most recent call last)",
      "Cell \u001b[1;32mIn[33], line 1\u001b[0m\n\u001b[1;32m----> 1\u001b[0m \u001b[38;5;28;01mfor\u001b[39;00m i \u001b[38;5;129;01min\u001b[39;00m l3:\u001b[38;5;66;03m#how to access specific portion\u001b[39;00m\n\u001b[0;32m      2\u001b[0m     \u001b[38;5;28mprint\u001b[39m(i\u001b[38;5;241m.\u001b[39ma\u001b[38;5;241m.\u001b[39mstring)\n",
      "\u001b[1;31mNameError\u001b[0m: name 'l3' is not defined"
     ]
    }
   ],
   "source": [
    "for i in l3:#how to access specific portion\n",
    "    print(i.a.string)"
   ]
  },
  {
   "cell_type": "code",
   "execution_count": 34,
   "id": "795e53c2",
   "metadata": {},
   "outputs": [],
   "source": [
    "response=requests.get('https://books.toscrape.com/catalogue/category/books_1/index.html')#we have to give request for the link"
   ]
  },
  {
   "cell_type": "code",
   "execution_count": 35,
   "id": "4a4a9040",
   "metadata": {},
   "outputs": [
    {
     "data": {
      "text/plain": [
       "<Response [200]>"
      ]
     },
     "execution_count": 35,
     "metadata": {},
     "output_type": "execute_result"
    }
   ],
   "source": [
    "response#200 means we got our result"
   ]
  },
  {
   "cell_type": "code",
   "execution_count": 43,
   "id": "6f6f4ad9",
   "metadata": {},
   "outputs": [],
   "source": [
    "data=response.text"
   ]
  },
  {
   "cell_type": "code",
   "execution_count": 44,
   "id": "0a6d0f6a",
   "metadata": {},
   "outputs": [
    {
     "data": {
      "text/plain": [
       "str"
      ]
     },
     "execution_count": 44,
     "metadata": {},
     "output_type": "execute_result"
    }
   ],
   "source": [
    "type(data)"
   ]
  },
  {
   "cell_type": "code",
   "execution_count": 45,
   "id": "5ef925fd",
   "metadata": {},
   "outputs": [
    {
     "data": {
      "text/plain": [
       "<header>\n",
       "<title>The World Wide Web project</title>\n",
       "<nextid n=\"55\"/>\n",
       "</header>\n",
       "<body>\n",
       "<h1>World Wide Web</h1>The WorldWideWeb (W3) is a wide-area<a href=\"WhatIs.html\" name=\"0\">\n",
       "hypermedia</a> information retrieval\n",
       "initiative aiming to give universal\n",
       "access to a large universe of documents.<p>\n",
       "Everything there is online about\n",
       "W3 is linked directly or indirectly\n",
       "to this document, including an <a href=\"Summary.html\" name=\"24\">executive\n",
       "summary</a> of the project, <a href=\"Administration/Mailing/Overview.html\" name=\"29\">Mailing lists</a>\n",
       ", <a href=\"Policy.html\" name=\"30\">Policy</a> , November's  <a href=\"News/9211.html\" name=\"34\">W3  news</a> ,\n",
       "<a href=\"FAQ/List.html\" name=\"41\">Frequently Asked Questions</a> .\n",
       "<dl>\n",
       "<dt><a href=\"../DataSources/Top.html\" name=\"44\">What's out there?</a>\n",
       "<dd> Pointers to the\n",
       "world's online information,<a href=\"../DataSources/bySubject/Overview.html\" name=\"45\"> subjects</a>\n",
       ", <a href=\"../DataSources/WWW/Servers.html\" name=\"z54\">W3 servers</a>, etc.\n",
       "<dt><a href=\"Help.html\" name=\"46\">Help</a>\n",
       "<dd> on the browser you are using\n",
       "<dt><a href=\"Status.html\" name=\"13\">Software Products</a>\n",
       "<dd> A list of W3 project\n",
       "components and their current state.\n",
       "(e.g. <a href=\"LineMode/Browser.html\" name=\"27\">Line Mode</a> ,X11 <a href=\"Status.html#35\" name=\"35\">Viola</a> ,  <a href=\"NeXT/WorldWideWeb.html\" name=\"26\">NeXTStep</a>\n",
       ", <a href=\"Daemon/Overview.html\" name=\"25\">Servers</a> , <a href=\"Tools/Overview.html\" name=\"51\">Tools</a> ,<a href=\"MailRobot/Overview.html\" name=\"53\"> Mail robot</a> ,<a href=\"Status.html#57\" name=\"52\">\n",
       "Library</a> )\n",
       "<dt><a href=\"Technical.html\" name=\"47\">Technical</a>\n",
       "<dd> Details of protocols, formats,\n",
       "program internals etc\n",
       "<dt><a href=\"Bibliography.html\" name=\"40\">Bibliography</a>\n",
       "<dd> Paper documentation\n",
       "on  W3 and references.\n",
       "<dt><a href=\"People.html\" name=\"14\">People</a>\n",
       "<dd> A list of some people involved\n",
       "in the project.\n",
       "<dt><a href=\"History.html\" name=\"15\">History</a>\n",
       "<dd> A summary of the history\n",
       "of the project.\n",
       "<dt><a href=\"Helping.html\" name=\"37\">How can I help</a> ?\n",
       "<dd> If you would like\n",
       "to support the web..\n",
       "<dt><a href=\"../README.html\" name=\"48\">Getting code</a>\n",
       "<dd> Getting the code by<a href=\"LineMode/Defaults/Distribution.html\" name=\"49\">\n",
       "anonymous FTP</a> , etc.\n",
       "</dd></dt></dd></dt></dd></dt></dd></dt></dd></dt></dd></dt></dd></dt></dd></dt></dd></dt></dl>\n",
       "</p></body>"
      ]
     },
     "execution_count": 45,
     "metadata": {},
     "output_type": "execute_result"
    }
   ],
   "source": [
    "data=BeautifulSoup(data,\"html.parser\")\n",
    "data"
   ]
  },
  {
   "cell_type": "code",
   "execution_count": 46,
   "id": "85e0e9c3",
   "metadata": {},
   "outputs": [
    {
     "name": "stdout",
     "output_type": "stream",
     "text": [
      "<header>\n",
      " <title>\n",
      "  The World Wide Web project\n",
      " </title>\n",
      " <nextid n=\"55\"/>\n",
      "</header>\n",
      "<body>\n",
      " <h1>\n",
      "  World Wide Web\n",
      " </h1>\n",
      " The WorldWideWeb (W3) is a wide-area\n",
      " <a href=\"WhatIs.html\" name=\"0\">\n",
      "  hypermedia\n",
      " </a>\n",
      " information retrieval\n",
      "initiative aiming to give universal\n",
      "access to a large universe of documents.\n",
      " <p>\n",
      "  Everything there is online about\n",
      "W3 is linked directly or indirectly\n",
      "to this document, including an\n",
      "  <a href=\"Summary.html\" name=\"24\">\n",
      "   executive\n",
      "summary\n",
      "  </a>\n",
      "  of the project,\n",
      "  <a href=\"Administration/Mailing/Overview.html\" name=\"29\">\n",
      "   Mailing lists\n",
      "  </a>\n",
      "  ,\n",
      "  <a href=\"Policy.html\" name=\"30\">\n",
      "   Policy\n",
      "  </a>\n",
      "  , November's\n",
      "  <a href=\"News/9211.html\" name=\"34\">\n",
      "   W3  news\n",
      "  </a>\n",
      "  ,\n",
      "  <a href=\"FAQ/List.html\" name=\"41\">\n",
      "   Frequently Asked Questions\n",
      "  </a>\n",
      "  .\n",
      "  <dl>\n",
      "   <dt>\n",
      "    <a href=\"../DataSources/Top.html\" name=\"44\">\n",
      "     What's out there?\n",
      "    </a>\n",
      "    <dd>\n",
      "     Pointers to the\n",
      "world's online information,\n",
      "     <a href=\"../DataSources/bySubject/Overview.html\" name=\"45\">\n",
      "      subjects\n",
      "     </a>\n",
      "     ,\n",
      "     <a href=\"../DataSources/WWW/Servers.html\" name=\"z54\">\n",
      "      W3 servers\n",
      "     </a>\n",
      "     , etc.\n",
      "     <dt>\n",
      "      <a href=\"Help.html\" name=\"46\">\n",
      "       Help\n",
      "      </a>\n",
      "      <dd>\n",
      "       on the browser you are using\n",
      "       <dt>\n",
      "        <a href=\"Status.html\" name=\"13\">\n",
      "         Software Products\n",
      "        </a>\n",
      "        <dd>\n",
      "         A list of W3 project\n",
      "components and their current state.\n",
      "(e.g.\n",
      "         <a href=\"LineMode/Browser.html\" name=\"27\">\n",
      "          Line Mode\n",
      "         </a>\n",
      "         ,X11\n",
      "         <a href=\"Status.html#35\" name=\"35\">\n",
      "          Viola\n",
      "         </a>\n",
      "         ,\n",
      "         <a href=\"NeXT/WorldWideWeb.html\" name=\"26\">\n",
      "          NeXTStep\n",
      "         </a>\n",
      "         ,\n",
      "         <a href=\"Daemon/Overview.html\" name=\"25\">\n",
      "          Servers\n",
      "         </a>\n",
      "         ,\n",
      "         <a href=\"Tools/Overview.html\" name=\"51\">\n",
      "          Tools\n",
      "         </a>\n",
      "         ,\n",
      "         <a href=\"MailRobot/Overview.html\" name=\"53\">\n",
      "          Mail robot\n",
      "         </a>\n",
      "         ,\n",
      "         <a href=\"Status.html#57\" name=\"52\">\n",
      "          Library\n",
      "         </a>\n",
      "         )\n",
      "         <dt>\n",
      "          <a href=\"Technical.html\" name=\"47\">\n",
      "           Technical\n",
      "          </a>\n",
      "          <dd>\n",
      "           Details of protocols, formats,\n",
      "program internals etc\n",
      "           <dt>\n",
      "            <a href=\"Bibliography.html\" name=\"40\">\n",
      "             Bibliography\n",
      "            </a>\n",
      "            <dd>\n",
      "             Paper documentation\n",
      "on  W3 and references.\n",
      "             <dt>\n",
      "              <a href=\"People.html\" name=\"14\">\n",
      "               People\n",
      "              </a>\n",
      "              <dd>\n",
      "               A list of some people involved\n",
      "in the project.\n",
      "               <dt>\n",
      "                <a href=\"History.html\" name=\"15\">\n",
      "                 History\n",
      "                </a>\n",
      "                <dd>\n",
      "                 A summary of the history\n",
      "of the project.\n",
      "                 <dt>\n",
      "                  <a href=\"Helping.html\" name=\"37\">\n",
      "                   How can I help\n",
      "                  </a>\n",
      "                  ?\n",
      "                  <dd>\n",
      "                   If you would like\n",
      "to support the web..\n",
      "                   <dt>\n",
      "                    <a href=\"../README.html\" name=\"48\">\n",
      "                     Getting code\n",
      "                    </a>\n",
      "                    <dd>\n",
      "                     Getting the code by\n",
      "                     <a href=\"LineMode/Defaults/Distribution.html\" name=\"49\">\n",
      "                      anonymous FTP\n",
      "                     </a>\n",
      "                     , etc.\n",
      "                    </dd>\n",
      "                   </dt>\n",
      "                  </dd>\n",
      "                 </dt>\n",
      "                </dd>\n",
      "               </dt>\n",
      "              </dd>\n",
      "             </dt>\n",
      "            </dd>\n",
      "           </dt>\n",
      "          </dd>\n",
      "         </dt>\n",
      "        </dd>\n",
      "       </dt>\n",
      "      </dd>\n",
      "     </dt>\n",
      "    </dd>\n",
      "   </dt>\n",
      "  </dl>\n",
      " </p>\n",
      "</body>\n",
      "\n"
     ]
    }
   ],
   "source": [
    "print(data.prettify())"
   ]
  },
  {
   "cell_type": "code",
   "execution_count": 47,
   "id": "23d4d897",
   "metadata": {},
   "outputs": [
    {
     "data": {
      "text/plain": [
       "<title>The World Wide Web project</title>"
      ]
     },
     "execution_count": 47,
     "metadata": {},
     "output_type": "execute_result"
    }
   ],
   "source": [
    "data.title"
   ]
  },
  {
   "cell_type": "code",
   "execution_count": 48,
   "id": "9f1897a8",
   "metadata": {},
   "outputs": [
    {
     "data": {
      "text/plain": [
       "<a href=\"WhatIs.html\" name=\"0\">\n",
       "hypermedia</a>"
      ]
     },
     "execution_count": 48,
     "metadata": {},
     "output_type": "execute_result"
    }
   ],
   "source": [
    "data.a#first link in the webpage"
   ]
  },
  {
   "cell_type": "code",
   "execution_count": 49,
   "id": "c488c354",
   "metadata": {},
   "outputs": [
    {
     "data": {
      "text/plain": [
       "'\\nhypermedia'"
      ]
     },
     "execution_count": 49,
     "metadata": {},
     "output_type": "execute_result"
    }
   ],
   "source": [
    "data.a.string"
   ]
  },
  {
   "cell_type": "code",
   "execution_count": 52,
   "id": "58586f61",
   "metadata": {},
   "outputs": [],
   "source": [
    "l2=data.find(class_=\"product_pod\")\n",
    "l2"
   ]
  },
  {
   "cell_type": "code",
   "execution_count": 56,
   "id": "a83db071",
   "metadata": {},
   "outputs": [
    {
     "ename": "AttributeError",
     "evalue": "'NoneType' object has no attribute 'h2'",
     "output_type": "error",
     "traceback": [
      "\u001b[1;31m---------------------------------------------------------------------------\u001b[0m",
      "\u001b[1;31mAttributeError\u001b[0m                            Traceback (most recent call last)",
      "Cell \u001b[1;32mIn[56], line 1\u001b[0m\n\u001b[1;32m----> 1\u001b[0m \u001b[38;5;28mprint\u001b[39m(l2\u001b[38;5;241m.\u001b[39mh2\u001b[38;5;241m.\u001b[39mstring)\n",
      "\u001b[1;31mAttributeError\u001b[0m: 'NoneType' object has no attribute 'h2'"
     ]
    }
   ],
   "source": [
    "print(l2.h2.string)"
   ]
  },
  {
   "cell_type": "code",
   "execution_count": 54,
   "id": "bae3b64c",
   "metadata": {},
   "outputs": [
    {
     "ename": "AttributeError",
     "evalue": "'NoneType' object has no attribute 'find'",
     "output_type": "error",
     "traceback": [
      "\u001b[1;31m---------------------------------------------------------------------------\u001b[0m",
      "\u001b[1;31mAttributeError\u001b[0m                            Traceback (most recent call last)",
      "Cell \u001b[1;32mIn[54], line 1\u001b[0m\n\u001b[1;32m----> 1\u001b[0m l3\u001b[38;5;241m=\u001b[39ml2\u001b[38;5;241m.\u001b[39mfind(class_\u001b[38;5;241m=\u001b[39m\u001b[38;5;124m'\u001b[39m\u001b[38;5;124mprice_color\u001b[39m\u001b[38;5;124m'\u001b[39m)\n\u001b[0;32m      2\u001b[0m l3\n",
      "\u001b[1;31mAttributeError\u001b[0m: 'NoneType' object has no attribute 'find'"
     ]
    }
   ],
   "source": [
    "l3=l2.find(class_='price_color')\n",
    "l3"
   ]
  },
  {
   "cell_type": "code",
   "execution_count": 80,
   "id": "151f41f6",
   "metadata": {},
   "outputs": [
    {
     "data": {
      "text/plain": [
       "'Â£51.77'"
      ]
     },
     "execution_count": 80,
     "metadata": {},
     "output_type": "execute_result"
    }
   ],
   "source": [
    "l3.string"
   ]
  },
  {
   "cell_type": "code",
   "execution_count": 43,
   "id": "c9fbdd4f",
   "metadata": {},
   "outputs": [
    {
     "ename": "AttributeError",
     "evalue": "'NoneType' object has no attribute 'string'",
     "output_type": "error",
     "traceback": [
      "\u001b[1;31m---------------------------------------------------------------------------\u001b[0m",
      "\u001b[1;31mAttributeError\u001b[0m                            Traceback (most recent call last)",
      "Cell \u001b[1;32mIn[43], line 1\u001b[0m\n\u001b[1;32m----> 1\u001b[0m l3\u001b[38;5;241m.\u001b[39mp\u001b[38;5;241m.\u001b[39mstring\n",
      "\u001b[1;31mAttributeError\u001b[0m: 'NoneType' object has no attribute 'string'"
     ]
    }
   ],
   "source": [
    "l3.p.string"
   ]
  },
  {
   "cell_type": "code",
   "execution_count": 44,
   "id": "a17ecefb",
   "metadata": {},
   "outputs": [
    {
     "data": {
      "text/plain": [
       "<p class=\"instock availability\">\n",
       "<i class=\"icon-ok\"></i>\n",
       "    \n",
       "        In stock\n",
       "    \n",
       "</p>"
      ]
     },
     "execution_count": 44,
     "metadata": {},
     "output_type": "execute_result"
    }
   ],
   "source": [
    "l4=l2.find(class_='instock availability')\n",
    "l4"
   ]
  },
  {
   "cell_type": "code",
   "execution_count": 45,
   "id": "7a0ff086",
   "metadata": {},
   "outputs": [
    {
     "name": "stdout",
     "output_type": "stream",
     "text": [
      "['In stock']\n"
     ]
    }
   ],
   "source": [
    "print(list(l4.stripped_strings))"
   ]
  },
  {
   "cell_type": "code",
   "execution_count": null,
   "id": "e19eab31",
   "metadata": {},
   "outputs": [],
   "source": [
    "https://books.toscrape.com/catalogue/category/books_1/index.html\n",
    "https://books.toscrape.com/catalogue/a-light-in-the-attic_1000/index.html\n",
    "https://books.toscrape.com/catalogue/tipping-the-velvet_999/index.html"
   ]
  },
  {
   "cell_type": "code",
   "execution_count": null,
   "id": "d858144c",
   "metadata": {},
   "outputs": [],
   "source": []
  },
  {
   "cell_type": "code",
   "execution_count": null,
   "id": "f97245cc",
   "metadata": {},
   "outputs": [],
   "source": []
  },
  {
   "cell_type": "code",
   "execution_count": 9,
   "id": "35b8faa1",
   "metadata": {},
   "outputs": [
    {
     "ename": "NameError",
     "evalue": "name 'requests' is not defined",
     "output_type": "error",
     "traceback": [
      "\u001b[1;31m---------------------------------------------------------------------------\u001b[0m",
      "\u001b[1;31mNameError\u001b[0m                                 Traceback (most recent call last)",
      "Cell \u001b[1;32mIn[9], line 1\u001b[0m\n\u001b[1;32m----> 1\u001b[0m response\u001b[38;5;241m=\u001b[39mrequests\u001b[38;5;241m.\u001b[39mget(\u001b[38;5;124m'\u001b[39m\u001b[38;5;124mhttps://books.toscrape.com/index.html\u001b[39m\u001b[38;5;124m'\u001b[39m)\n\u001b[0;32m      2\u001b[0m data\u001b[38;5;241m=\u001b[39mresponse\u001b[38;5;241m.\u001b[39mtext\n",
      "\u001b[1;31mNameError\u001b[0m: name 'requests' is not defined"
     ]
    }
   ],
   "source": [
    "response=requests.get('https://books.toscrape.com/index.html')\n",
    "data=response.text"
   ]
  },
  {
   "cell_type": "code",
   "execution_count": 8,
   "id": "1cbb0f8e",
   "metadata": {},
   "outputs": [
    {
     "ename": "NameError",
     "evalue": "name 'BeautifulSoup' is not defined",
     "output_type": "error",
     "traceback": [
      "\u001b[1;31m---------------------------------------------------------------------------\u001b[0m",
      "\u001b[1;31mNameError\u001b[0m                                 Traceback (most recent call last)",
      "Cell \u001b[1;32mIn[8], line 1\u001b[0m\n\u001b[1;32m----> 1\u001b[0m data\u001b[38;5;241m=\u001b[39mBeautifulSoup(data,\u001b[38;5;124m'\u001b[39m\u001b[38;5;124mhtml.parser\u001b[39m\u001b[38;5;124m'\u001b[39m)\n",
      "\u001b[1;31mNameError\u001b[0m: name 'BeautifulSoup' is not defined"
     ]
    }
   ],
   "source": [
    "data=BeautifulSoup(data,'html.parser')"
   ]
  },
  {
   "cell_type": "code",
   "execution_count": 48,
   "id": "d3793187",
   "metadata": {},
   "outputs": [],
   "source": [
    "base_url=\"https://books.toscrape.com/\""
   ]
  },
  {
   "cell_type": "code",
   "execution_count": 7,
   "id": "a2142d2c",
   "metadata": {},
   "outputs": [
    {
     "ename": "NameError",
     "evalue": "name 'data' is not defined",
     "output_type": "error",
     "traceback": [
      "\u001b[1;31m---------------------------------------------------------------------------\u001b[0m",
      "\u001b[1;31mNameError\u001b[0m                                 Traceback (most recent call last)",
      "Cell \u001b[1;32mIn[7], line 1\u001b[0m\n\u001b[1;32m----> 1\u001b[0m l2\u001b[38;5;241m=\u001b[39mdata\u001b[38;5;241m.\u001b[39mfind_all(class_\u001b[38;5;241m=\u001b[39m\u001b[38;5;124m'\u001b[39m\u001b[38;5;124mproduct_pod\u001b[39m\u001b[38;5;124m'\u001b[39m)\n",
      "\u001b[1;31mNameError\u001b[0m: name 'data' is not defined"
     ]
    }
   ],
   "source": [
    "l2=data.find_all(class_='product_pod')"
   ]
  },
  {
   "cell_type": "code",
   "execution_count": 6,
   "id": "624393c1",
   "metadata": {},
   "outputs": [
    {
     "ename": "NameError",
     "evalue": "name 'l2' is not defined",
     "output_type": "error",
     "traceback": [
      "\u001b[1;31m---------------------------------------------------------------------------\u001b[0m",
      "\u001b[1;31mNameError\u001b[0m                                 Traceback (most recent call last)",
      "Cell \u001b[1;32mIn[6], line 2\u001b[0m\n\u001b[0;32m      1\u001b[0m all_links\u001b[38;5;241m=\u001b[39m[]\u001b[38;5;66;03m#how to access all links\u001b[39;00m\n\u001b[1;32m----> 2\u001b[0m \u001b[38;5;28;01mfor\u001b[39;00m i \u001b[38;5;129;01min\u001b[39;00m l2:\n\u001b[0;32m      3\u001b[0m     all_links\u001b[38;5;241m.\u001b[39mappend(base_url\u001b[38;5;241m+\u001b[39mi\u001b[38;5;241m.\u001b[39ma[\u001b[38;5;124m'\u001b[39m\u001b[38;5;124mhref\u001b[39m\u001b[38;5;124m'\u001b[39m])\n",
      "\u001b[1;31mNameError\u001b[0m: name 'l2' is not defined"
     ]
    }
   ],
   "source": [
    "all_links=[]#how to access all links\n",
    "for i in l2:\n",
    "    all_links.append(base_url+i.a['href'])"
   ]
  },
  {
   "cell_type": "code",
   "execution_count": 51,
   "id": "468b592d",
   "metadata": {},
   "outputs": [
    {
     "data": {
      "text/plain": [
       "['https://books.toscrape.com/catalogue/a-light-in-the-attic_1000/index.html',\n",
       " 'https://books.toscrape.com/catalogue/tipping-the-velvet_999/index.html',\n",
       " 'https://books.toscrape.com/catalogue/soumission_998/index.html',\n",
       " 'https://books.toscrape.com/catalogue/sharp-objects_997/index.html',\n",
       " 'https://books.toscrape.com/catalogue/sapiens-a-brief-history-of-humankind_996/index.html',\n",
       " 'https://books.toscrape.com/catalogue/the-requiem-red_995/index.html',\n",
       " 'https://books.toscrape.com/catalogue/the-dirty-little-secrets-of-getting-your-dream-job_994/index.html',\n",
       " 'https://books.toscrape.com/catalogue/the-coming-woman-a-novel-based-on-the-life-of-the-infamous-feminist-victoria-woodhull_993/index.html',\n",
       " 'https://books.toscrape.com/catalogue/the-boys-in-the-boat-nine-americans-and-their-epic-quest-for-gold-at-the-1936-berlin-olympics_992/index.html',\n",
       " 'https://books.toscrape.com/catalogue/the-black-maria_991/index.html',\n",
       " 'https://books.toscrape.com/catalogue/starving-hearts-triangular-trade-trilogy-1_990/index.html',\n",
       " 'https://books.toscrape.com/catalogue/shakespeares-sonnets_989/index.html',\n",
       " 'https://books.toscrape.com/catalogue/set-me-free_988/index.html',\n",
       " 'https://books.toscrape.com/catalogue/scott-pilgrims-precious-little-life-scott-pilgrim-1_987/index.html',\n",
       " 'https://books.toscrape.com/catalogue/rip-it-up-and-start-again_986/index.html',\n",
       " 'https://books.toscrape.com/catalogue/our-band-could-be-your-life-scenes-from-the-american-indie-underground-1981-1991_985/index.html',\n",
       " 'https://books.toscrape.com/catalogue/olio_984/index.html',\n",
       " 'https://books.toscrape.com/catalogue/mesaerion-the-best-science-fiction-stories-1800-1849_983/index.html',\n",
       " 'https://books.toscrape.com/catalogue/libertarianism-for-beginners_982/index.html',\n",
       " 'https://books.toscrape.com/catalogue/its-only-the-himalayas_981/index.html']"
      ]
     },
     "execution_count": 51,
     "metadata": {},
     "output_type": "execute_result"
    }
   ],
   "source": [
    "all_links"
   ]
  },
  {
   "cell_type": "code",
   "execution_count": 1,
   "id": "4731f379",
   "metadata": {},
   "outputs": [],
   "source": [
    "title=[]\n",
    "price=[]\n",
    "stock_vailablity=[]"
   ]
  },
  {
   "cell_type": "code",
   "execution_count": 2,
   "id": "8430ca00",
   "metadata": {},
   "outputs": [
    {
     "ename": "NameError",
     "evalue": "name 'requests' is not defined",
     "output_type": "error",
     "traceback": [
      "\u001b[1;31m---------------------------------------------------------------------------\u001b[0m",
      "\u001b[1;31mNameError\u001b[0m                                 Traceback (most recent call last)",
      "Cell \u001b[1;32mIn[2], line 1\u001b[0m\n\u001b[1;32m----> 1\u001b[0m response\u001b[38;5;241m=\u001b[39mrequests\u001b[38;5;241m.\u001b[39mget(\u001b[38;5;124m'\u001b[39m\u001b[38;5;124mhttps://books.toscrape.com/catalogue/a-light-in-the-attic_1000/index.html\u001b[39m\u001b[38;5;124m'\u001b[39m)\n",
      "\u001b[1;31mNameError\u001b[0m: name 'requests' is not defined"
     ]
    }
   ],
   "source": [
    "response=requests.get('https://books.toscrape.com/catalogue/a-light-in-the-attic_1000/index.html')"
   ]
  },
  {
   "cell_type": "code",
   "execution_count": null,
   "id": "64962654",
   "metadata": {},
   "outputs": [],
   "source": [
    "data=response.text"
   ]
  },
  {
   "cell_type": "code",
   "execution_count": 55,
   "id": "139b9d24",
   "metadata": {},
   "outputs": [],
   "source": [
    "data=BeautifulSoup(data,'html.parser')"
   ]
  },
  {
   "cell_type": "code",
   "execution_count": null,
   "id": "175da0cd",
   "metadata": {},
   "outputs": [],
   "source": [
    "data"
   ]
  },
  {
   "cell_type": "code",
   "execution_count": 57,
   "id": "7d6b59f2",
   "metadata": {},
   "outputs": [
    {
     "data": {
      "text/plain": [
       "'A Light in the Attic'"
      ]
     },
     "execution_count": 57,
     "metadata": {},
     "output_type": "execute_result"
    }
   ],
   "source": [
    "l1=data.find(class_='col-sm-6 product_main')\n",
    "l1.h1.string"
   ]
  },
  {
   "cell_type": "code",
   "execution_count": 58,
   "id": "73054a15",
   "metadata": {},
   "outputs": [
    {
     "data": {
      "text/plain": [
       "'A Light in the Attic'"
      ]
     },
     "execution_count": 58,
     "metadata": {},
     "output_type": "execute_result"
    }
   ],
   "source": [
    "l1.h1.string"
   ]
  },
  {
   "cell_type": "code",
   "execution_count": 148,
   "id": "da1ac12d",
   "metadata": {},
   "outputs": [],
   "source": [
    "l2=l1.find_all('p')"
   ]
  },
  {
   "cell_type": "code",
   "execution_count": 120,
   "id": "5630ef6d",
   "metadata": {},
   "outputs": [
    {
     "data": {
      "text/plain": [
       "'Â£51.77'"
      ]
     },
     "execution_count": 120,
     "metadata": {},
     "output_type": "execute_result"
    }
   ],
   "source": [
    "l2\n",
    "l2[0].string"
   ]
  },
  {
   "cell_type": "code",
   "execution_count": null,
   "id": "33067a2f",
   "metadata": {},
   "outputs": [],
   "source": [
    "list(l2[1].stripped_strings)[0]"
   ]
  },
  {
   "cell_type": "code",
   "execution_count": 57,
   "id": "78cc86c6",
   "metadata": {},
   "outputs": [],
   "source": [
    "for i in all_links:\n",
    "    resoponse=requests.get(i)\n",
    "    data=response.text\n",
    "    data=BeautifulSoup(data,'html.parser')\n",
    "    l1=data.find(class_='col-sm-6 product_main')\n",
    "    title.append(l1.h1.string)\n",
    "    l2=l1.find_all('p')\n",
    "    price.append(l2[0].string)\n",
    "    stock_vailablity.append(list(l2[1].stripped_strings)[0])"
   ]
  },
  {
   "cell_type": "code",
   "execution_count": 58,
   "id": "6ca5aaf8",
   "metadata": {},
   "outputs": [
    {
     "data": {
      "text/plain": [
       "[]"
      ]
     },
     "execution_count": 58,
     "metadata": {},
     "output_type": "execute_result"
    }
   ],
   "source": [
    "title"
   ]
  },
  {
   "cell_type": "code",
   "execution_count": 59,
   "id": "2c3f5bf4",
   "metadata": {},
   "outputs": [
    {
     "data": {
      "text/plain": [
       "[]"
      ]
     },
     "execution_count": 59,
     "metadata": {},
     "output_type": "execute_result"
    }
   ],
   "source": [
    "price"
   ]
  },
  {
   "cell_type": "code",
   "execution_count": 60,
   "id": "4c3d7b24",
   "metadata": {},
   "outputs": [
    {
     "data": {
      "text/plain": [
       "[]"
      ]
     },
     "execution_count": 60,
     "metadata": {},
     "output_type": "execute_result"
    }
   ],
   "source": [
    "stock_vailablity"
   ]
  },
  {
   "cell_type": "code",
   "execution_count": 12,
   "id": "dc1f5fc1",
   "metadata": {},
   "outputs": [
    {
     "data": {
      "text/plain": [
       "'itepar inihsor '"
      ]
     },
     "execution_count": 12,
     "metadata": {},
     "output_type": "execute_result"
    }
   ],
   "source": [
    "def reverse_string(x):#reverse_string\n",
    "    reverse_string=\" \"\n",
    "    for i in range(len(x)):\n",
    "        reverse_string=x[i]+reverse_string\n",
    "    return reverse_string\n",
    "name=\"roshini rapeti\"\n",
    "reverse_string(name)"
   ]
  },
  {
   "cell_type": "code",
   "execution_count": 1,
   "id": "bded4386",
   "metadata": {},
   "outputs": [
    {
     "name": "stdout",
     "output_type": "stream",
     "text": [
      "[9, 8, 7, 6, 5, 4, 3, 2, 1]\n"
     ]
    }
   ],
   "source": [
    "l1=[1,2,3,4,5,6,7,8,9]#reverse_list\n",
    "i=0\n",
    "j=len(l1)-1\n",
    "while i<j:\n",
    "    start=l1[i]\n",
    "    end=l1[j]\n",
    "    l1[i]=end\n",
    "    l1[j]=start\n",
    "    i=i+1\n",
    "    j=j-1\n",
    "print(l1)\n",
    "    "
   ]
  },
  {
   "cell_type": "code",
   "execution_count": 4,
   "id": "50afbaa6",
   "metadata": {},
   "outputs": [
    {
     "name": "stdout",
     "output_type": "stream",
     "text": [
      "2   7\n",
      "3   6\n",
      "4   5\n"
     ]
    }
   ],
   "source": [
    "l_sort=[1,2,3,4,5,6,7]#two pair of numbers whose sum is 9,without using two for loops and empty list\n",
    "n=9\n",
    "i=0\n",
    "j=len(l_sort)-1\n",
    "while i<j:\n",
    "    if l_sort[i]+l_sort[j]==n:\n",
    "        print(l_sort[i],\" \",l_sort[j])\n",
    "        i=i+1\n",
    "        j=j-1\n",
    "    elif l_sort[i]+l_sort[j]<n:\n",
    "        i=i+1\n",
    "    else:\n",
    "        j=j-1"
   ]
  },
  {
   "cell_type": "code",
   "execution_count": null,
   "id": "a068e5f8",
   "metadata": {},
   "outputs": [],
   "source": []
  },
  {
   "cell_type": "code",
   "execution_count": null,
   "id": "a3e1f78d",
   "metadata": {},
   "outputs": [],
   "source": []
  }
 ],
 "metadata": {
  "kernelspec": {
   "display_name": "Python 3 (ipykernel)",
   "language": "python",
   "name": "python3"
  },
  "language_info": {
   "codemirror_mode": {
    "name": "ipython",
    "version": 3
   },
   "file_extension": ".py",
   "mimetype": "text/x-python",
   "name": "python",
   "nbconvert_exporter": "python",
   "pygments_lexer": "ipython3",
   "version": "3.11.5"
  }
 },
 "nbformat": 4,
 "nbformat_minor": 5
}
